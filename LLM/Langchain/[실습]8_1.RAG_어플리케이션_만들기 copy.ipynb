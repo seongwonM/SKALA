{
 "cells": [
  {
   "cell_type": "markdown",
   "metadata": {
    "id": "uHQzg8LlBPiX"
   },
   "source": [
    "# [실습] 벡터 데이터베이스 기반 RAG 어플리케이션\n",
    "\n",
    "RAG는 Retrieval-Augmented Generation (RAG) 의 약자로, 질문이 주어지면 관련 있는 문서를 찾아 프롬프트에 추가하는 방식의 어플리케이션입니다.   \n",
    "RAG의 과정은 아래와 같이 진행됩니다.\n",
    "1. Indexing : 문서를 받아 검색이 잘 되도록 저장합니다.\n",
    "1. Processing : 입력 쿼리를 전처리하여 검색에 적절한 형태로 변환합니다<br>(여기서는 수행하지 않습니다)\n",
    "1. Search(Retrieval) : 질문이 주어진 상황에서 가장 필요한 참고자료를 검색합니다.\n",
    "1. Augmenting : Retrieval의 결과와 입력 프롬프트를 이용해 LLM에 전달할 프롬프트를 생성합니다.\n",
    "1. Generation : LLM이 출력을 생성합니다."
   ]
  },
  {
   "cell_type": "code",
   "execution_count": 1,
   "metadata": {
    "id": "GHgrhVbLnM6I"
   },
   "outputs": [
    {
     "name": "stdout",
     "output_type": "stream",
     "text": [
      "Collecting jsonlines\n",
      "  Downloading jsonlines-4.0.0-py3-none-any.whl (8.7 kB)\n",
      "Requirement already satisfied: openai in ./llm/lib/python3.10/site-packages (1.65.3)\n",
      "Requirement already satisfied: langchain in ./llm/lib/python3.10/site-packages (0.3.20)\n",
      "Requirement already satisfied: langchain-openai in ./llm/lib/python3.10/site-packages (0.3.7)\n",
      "Requirement already satisfied: langchain-community in ./llm/lib/python3.10/site-packages (0.3.19)\n",
      "Requirement already satisfied: beautifulsoup4 in ./llm/lib/python3.10/site-packages (4.13.3)\n",
      "Requirement already satisfied: langchain_chroma in ./llm/lib/python3.10/site-packages (0.2.2)\n",
      "Collecting chromadb==0.5.3\n",
      "  Downloading chromadb-0.5.3-py3-none-any.whl (559 kB)\n",
      "\u001b[2K     \u001b[90m━━━━━━━━━━━━━━━━━━━━━━━━━━━━━━━━━━━━━━━\u001b[0m \u001b[32m559.5/559.5 KB\u001b[0m \u001b[31m8.5 MB/s\u001b[0m eta \u001b[36m0:00:00\u001b[0m00:01\u001b[0m00:01\u001b[0m\n",
      "\u001b[?25hRequirement already satisfied: tokenizers>=0.13.2 in ./llm/lib/python3.10/site-packages (from chromadb==0.5.3) (0.21.0)\n",
      "Requirement already satisfied: bcrypt>=4.0.1 in ./llm/lib/python3.10/site-packages (from chromadb==0.5.3) (4.3.0)\n",
      "Requirement already satisfied: opentelemetry-exporter-otlp-proto-grpc>=1.2.0 in ./llm/lib/python3.10/site-packages (from chromadb==0.5.3) (1.30.0)\n",
      "Requirement already satisfied: uvicorn[standard]>=0.18.3 in ./llm/lib/python3.10/site-packages (from chromadb==0.5.3) (0.34.0)\n",
      "Collecting chroma-hnswlib==0.7.3\n",
      "  Using cached chroma_hnswlib-0.7.3-cp310-cp310-manylinux_2_17_x86_64.manylinux2014_x86_64.whl (2.4 MB)\n",
      "Requirement already satisfied: tenacity>=8.2.3 in ./llm/lib/python3.10/site-packages (from chromadb==0.5.3) (9.0.0)\n",
      "Requirement already satisfied: requests>=2.28 in ./llm/lib/python3.10/site-packages (from chromadb==0.5.3) (2.32.3)\n",
      "Requirement already satisfied: pypika>=0.48.9 in ./llm/lib/python3.10/site-packages (from chromadb==0.5.3) (0.48.9)\n",
      "Requirement already satisfied: tqdm>=4.65.0 in ./llm/lib/python3.10/site-packages (from chromadb==0.5.3) (4.67.1)\n",
      "Requirement already satisfied: opentelemetry-api>=1.2.0 in ./llm/lib/python3.10/site-packages (from chromadb==0.5.3) (1.30.0)\n",
      "Requirement already satisfied: mmh3>=4.0.1 in ./llm/lib/python3.10/site-packages (from chromadb==0.5.3) (5.1.0)\n",
      "Requirement already satisfied: typing-extensions>=4.5.0 in ./llm/lib/python3.10/site-packages (from chromadb==0.5.3) (4.12.2)\n",
      "Requirement already satisfied: opentelemetry-sdk>=1.2.0 in ./llm/lib/python3.10/site-packages (from chromadb==0.5.3) (1.30.0)\n",
      "Requirement already satisfied: onnxruntime>=1.14.1 in ./llm/lib/python3.10/site-packages (from chromadb==0.5.3) (1.20.1)\n",
      "Requirement already satisfied: kubernetes>=28.1.0 in ./llm/lib/python3.10/site-packages (from chromadb==0.5.3) (32.0.1)\n",
      "Requirement already satisfied: importlib-resources in ./llm/lib/python3.10/site-packages (from chromadb==0.5.3) (6.5.2)\n",
      "Requirement already satisfied: pydantic>=1.9 in ./llm/lib/python3.10/site-packages (from chromadb==0.5.3) (2.10.6)\n",
      "Requirement already satisfied: httpx>=0.27.0 in ./llm/lib/python3.10/site-packages (from chromadb==0.5.3) (0.28.1)\n",
      "Requirement already satisfied: typer>=0.9.0 in ./llm/lib/python3.10/site-packages (from chromadb==0.5.3) (0.15.2)\n",
      "Requirement already satisfied: posthog>=2.4.0 in ./llm/lib/python3.10/site-packages (from chromadb==0.5.3) (3.18.1)\n",
      "Requirement already satisfied: grpcio>=1.58.0 in ./llm/lib/python3.10/site-packages (from chromadb==0.5.3) (1.70.0)\n",
      "Requirement already satisfied: numpy<2.0.0,>=1.22.5 in ./llm/lib/python3.10/site-packages (from chromadb==0.5.3) (1.26.4)\n",
      "Requirement already satisfied: PyYAML>=6.0.0 in ./llm/lib/python3.10/site-packages (from chromadb==0.5.3) (6.0.2)\n",
      "Requirement already satisfied: overrides>=7.3.1 in ./llm/lib/python3.10/site-packages (from chromadb==0.5.3) (7.7.0)\n",
      "Requirement already satisfied: build>=1.0.3 in ./llm/lib/python3.10/site-packages (from chromadb==0.5.3) (1.2.2.post1)\n",
      "Requirement already satisfied: opentelemetry-instrumentation-fastapi>=0.41b0 in ./llm/lib/python3.10/site-packages (from chromadb==0.5.3) (0.51b0)\n",
      "Requirement already satisfied: fastapi>=0.95.2 in ./llm/lib/python3.10/site-packages (from chromadb==0.5.3) (0.115.11)\n",
      "Requirement already satisfied: orjson>=3.9.12 in ./llm/lib/python3.10/site-packages (from chromadb==0.5.3) (3.10.15)\n",
      "Requirement already satisfied: attrs>=19.2.0 in ./llm/lib/python3.10/site-packages (from jsonlines) (25.1.0)\n",
      "Requirement already satisfied: sniffio in ./llm/lib/python3.10/site-packages (from openai) (1.3.1)\n",
      "Requirement already satisfied: jiter<1,>=0.4.0 in ./llm/lib/python3.10/site-packages (from openai) (0.8.2)\n",
      "Requirement already satisfied: distro<2,>=1.7.0 in ./llm/lib/python3.10/site-packages (from openai) (1.9.0)\n",
      "Requirement already satisfied: anyio<5,>=3.5.0 in ./llm/lib/python3.10/site-packages (from openai) (4.8.0)\n",
      "Requirement already satisfied: async-timeout<5.0.0,>=4.0.0 in ./llm/lib/python3.10/site-packages (from langchain) (4.0.3)\n",
      "Requirement already satisfied: langsmith<0.4,>=0.1.17 in ./llm/lib/python3.10/site-packages (from langchain) (0.3.11)\n",
      "Requirement already satisfied: langchain-core<1.0.0,>=0.3.41 in ./llm/lib/python3.10/site-packages (from langchain) (0.3.41)\n",
      "Requirement already satisfied: SQLAlchemy<3,>=1.4 in ./llm/lib/python3.10/site-packages (from langchain) (2.0.38)\n",
      "Requirement already satisfied: langchain-text-splitters<1.0.0,>=0.3.6 in ./llm/lib/python3.10/site-packages (from langchain) (0.3.6)\n",
      "Requirement already satisfied: tiktoken<1,>=0.7 in ./llm/lib/python3.10/site-packages (from langchain-openai) (0.9.0)\n",
      "Requirement already satisfied: dataclasses-json<0.7,>=0.5.7 in ./llm/lib/python3.10/site-packages (from langchain-community) (0.6.7)\n",
      "Requirement already satisfied: pydantic-settings<3.0.0,>=2.4.0 in ./llm/lib/python3.10/site-packages (from langchain-community) (2.8.1)\n",
      "Requirement already satisfied: httpx-sse<1.0.0,>=0.4.0 in ./llm/lib/python3.10/site-packages (from langchain-community) (0.4.0)\n",
      "Requirement already satisfied: aiohttp<4.0.0,>=3.8.3 in ./llm/lib/python3.10/site-packages (from langchain-community) (3.11.13)\n",
      "Requirement already satisfied: soupsieve>1.2 in ./llm/lib/python3.10/site-packages (from beautifulsoup4) (2.6)\n",
      "Requirement already satisfied: aiosignal>=1.1.2 in ./llm/lib/python3.10/site-packages (from aiohttp<4.0.0,>=3.8.3->langchain-community) (1.3.2)\n",
      "Requirement already satisfied: propcache>=0.2.0 in ./llm/lib/python3.10/site-packages (from aiohttp<4.0.0,>=3.8.3->langchain-community) (0.3.0)\n",
      "Requirement already satisfied: multidict<7.0,>=4.5 in ./llm/lib/python3.10/site-packages (from aiohttp<4.0.0,>=3.8.3->langchain-community) (6.1.0)\n",
      "Requirement already satisfied: aiohappyeyeballs>=2.3.0 in ./llm/lib/python3.10/site-packages (from aiohttp<4.0.0,>=3.8.3->langchain-community) (2.4.8)\n",
      "Requirement already satisfied: frozenlist>=1.1.1 in ./llm/lib/python3.10/site-packages (from aiohttp<4.0.0,>=3.8.3->langchain-community) (1.5.0)\n",
      "Requirement already satisfied: yarl<2.0,>=1.17.0 in ./llm/lib/python3.10/site-packages (from aiohttp<4.0.0,>=3.8.3->langchain-community) (1.18.3)\n",
      "Requirement already satisfied: exceptiongroup>=1.0.2 in ./llm/lib/python3.10/site-packages (from anyio<5,>=3.5.0->openai) (1.2.2)\n",
      "Requirement already satisfied: idna>=2.8 in ./llm/lib/python3.10/site-packages (from anyio<5,>=3.5.0->openai) (3.10)\n",
      "Requirement already satisfied: tomli>=1.1.0 in ./llm/lib/python3.10/site-packages (from build>=1.0.3->chromadb==0.5.3) (2.2.1)\n",
      "Requirement already satisfied: packaging>=19.1 in ./llm/lib/python3.10/site-packages (from build>=1.0.3->chromadb==0.5.3) (24.2)\n",
      "Requirement already satisfied: pyproject_hooks in ./llm/lib/python3.10/site-packages (from build>=1.0.3->chromadb==0.5.3) (1.2.0)\n",
      "Requirement already satisfied: typing-inspect<1,>=0.4.0 in ./llm/lib/python3.10/site-packages (from dataclasses-json<0.7,>=0.5.7->langchain-community) (0.9.0)\n",
      "Requirement already satisfied: marshmallow<4.0.0,>=3.18.0 in ./llm/lib/python3.10/site-packages (from dataclasses-json<0.7,>=0.5.7->langchain-community) (3.26.1)\n",
      "Requirement already satisfied: starlette<0.47.0,>=0.40.0 in ./llm/lib/python3.10/site-packages (from fastapi>=0.95.2->chromadb==0.5.3) (0.46.0)\n",
      "Requirement already satisfied: httpcore==1.* in ./llm/lib/python3.10/site-packages (from httpx>=0.27.0->chromadb==0.5.3) (1.0.7)\n",
      "Requirement already satisfied: certifi in ./llm/lib/python3.10/site-packages (from httpx>=0.27.0->chromadb==0.5.3) (2025.1.31)\n",
      "Requirement already satisfied: h11<0.15,>=0.13 in ./llm/lib/python3.10/site-packages (from httpcore==1.*->httpx>=0.27.0->chromadb==0.5.3) (0.14.0)\n",
      "Requirement already satisfied: six>=1.9.0 in ./llm/lib/python3.10/site-packages (from kubernetes>=28.1.0->chromadb==0.5.3) (1.17.0)\n",
      "Requirement already satisfied: python-dateutil>=2.5.3 in ./llm/lib/python3.10/site-packages (from kubernetes>=28.1.0->chromadb==0.5.3) (2.9.0.post0)\n",
      "Requirement already satisfied: requests-oauthlib in ./llm/lib/python3.10/site-packages (from kubernetes>=28.1.0->chromadb==0.5.3) (2.0.0)\n",
      "Requirement already satisfied: durationpy>=0.7 in ./llm/lib/python3.10/site-packages (from kubernetes>=28.1.0->chromadb==0.5.3) (0.9)\n",
      "Requirement already satisfied: oauthlib>=3.2.2 in ./llm/lib/python3.10/site-packages (from kubernetes>=28.1.0->chromadb==0.5.3) (3.2.2)\n",
      "Requirement already satisfied: urllib3>=1.24.2 in ./llm/lib/python3.10/site-packages (from kubernetes>=28.1.0->chromadb==0.5.3) (2.3.0)\n",
      "Requirement already satisfied: google-auth>=1.0.1 in ./llm/lib/python3.10/site-packages (from kubernetes>=28.1.0->chromadb==0.5.3) (2.38.0)\n",
      "Requirement already satisfied: websocket-client!=0.40.0,!=0.41.*,!=0.42.*,>=0.32.0 in ./llm/lib/python3.10/site-packages (from kubernetes>=28.1.0->chromadb==0.5.3) (1.8.0)\n",
      "Requirement already satisfied: jsonpatch<2.0,>=1.33 in ./llm/lib/python3.10/site-packages (from langchain-core<1.0.0,>=0.3.41->langchain) (1.33)\n",
      "Requirement already satisfied: requests-toolbelt<2.0.0,>=1.0.0 in ./llm/lib/python3.10/site-packages (from langsmith<0.4,>=0.1.17->langchain) (1.0.0)\n",
      "Requirement already satisfied: zstandard<0.24.0,>=0.23.0 in ./llm/lib/python3.10/site-packages (from langsmith<0.4,>=0.1.17->langchain) (0.23.0)\n",
      "Requirement already satisfied: flatbuffers in ./llm/lib/python3.10/site-packages (from onnxruntime>=1.14.1->chromadb==0.5.3) (25.2.10)\n",
      "Requirement already satisfied: protobuf in ./llm/lib/python3.10/site-packages (from onnxruntime>=1.14.1->chromadb==0.5.3) (5.29.3)\n",
      "Requirement already satisfied: coloredlogs in ./llm/lib/python3.10/site-packages (from onnxruntime>=1.14.1->chromadb==0.5.3) (15.0.1)\n",
      "Requirement already satisfied: sympy in ./llm/lib/python3.10/site-packages (from onnxruntime>=1.14.1->chromadb==0.5.3) (1.13.1)\n",
      "Requirement already satisfied: importlib-metadata<=8.5.0,>=6.0 in ./llm/lib/python3.10/site-packages (from opentelemetry-api>=1.2.0->chromadb==0.5.3) (8.5.0)\n",
      "Requirement already satisfied: deprecated>=1.2.6 in ./llm/lib/python3.10/site-packages (from opentelemetry-api>=1.2.0->chromadb==0.5.3) (1.2.18)\n",
      "Requirement already satisfied: opentelemetry-proto==1.30.0 in ./llm/lib/python3.10/site-packages (from opentelemetry-exporter-otlp-proto-grpc>=1.2.0->chromadb==0.5.3) (1.30.0)\n",
      "Requirement already satisfied: googleapis-common-protos~=1.52 in ./llm/lib/python3.10/site-packages (from opentelemetry-exporter-otlp-proto-grpc>=1.2.0->chromadb==0.5.3) (1.69.0)\n",
      "Requirement already satisfied: opentelemetry-exporter-otlp-proto-common==1.30.0 in ./llm/lib/python3.10/site-packages (from opentelemetry-exporter-otlp-proto-grpc>=1.2.0->chromadb==0.5.3) (1.30.0)\n",
      "Requirement already satisfied: opentelemetry-semantic-conventions==0.51b0 in ./llm/lib/python3.10/site-packages (from opentelemetry-instrumentation-fastapi>=0.41b0->chromadb==0.5.3) (0.51b0)\n",
      "Requirement already satisfied: opentelemetry-instrumentation-asgi==0.51b0 in ./llm/lib/python3.10/site-packages (from opentelemetry-instrumentation-fastapi>=0.41b0->chromadb==0.5.3) (0.51b0)\n",
      "Requirement already satisfied: opentelemetry-util-http==0.51b0 in ./llm/lib/python3.10/site-packages (from opentelemetry-instrumentation-fastapi>=0.41b0->chromadb==0.5.3) (0.51b0)\n",
      "Requirement already satisfied: opentelemetry-instrumentation==0.51b0 in ./llm/lib/python3.10/site-packages (from opentelemetry-instrumentation-fastapi>=0.41b0->chromadb==0.5.3) (0.51b0)\n",
      "Requirement already satisfied: wrapt<2.0.0,>=1.0.0 in ./llm/lib/python3.10/site-packages (from opentelemetry-instrumentation==0.51b0->opentelemetry-instrumentation-fastapi>=0.41b0->chromadb==0.5.3) (1.17.2)\n",
      "Requirement already satisfied: asgiref~=3.0 in ./llm/lib/python3.10/site-packages (from opentelemetry-instrumentation-asgi==0.51b0->opentelemetry-instrumentation-fastapi>=0.41b0->chromadb==0.5.3) (3.8.1)\n",
      "Requirement already satisfied: backoff>=1.10.0 in ./llm/lib/python3.10/site-packages (from posthog>=2.4.0->chromadb==0.5.3) (2.2.1)\n",
      "Requirement already satisfied: monotonic>=1.5 in ./llm/lib/python3.10/site-packages (from posthog>=2.4.0->chromadb==0.5.3) (1.6)\n",
      "Requirement already satisfied: pydantic-core==2.27.2 in ./llm/lib/python3.10/site-packages (from pydantic>=1.9->chromadb==0.5.3) (2.27.2)\n",
      "Requirement already satisfied: annotated-types>=0.6.0 in ./llm/lib/python3.10/site-packages (from pydantic>=1.9->chromadb==0.5.3) (0.7.0)\n",
      "Requirement already satisfied: python-dotenv>=0.21.0 in ./llm/lib/python3.10/site-packages (from pydantic-settings<3.0.0,>=2.4.0->langchain-community) (1.0.1)\n",
      "Requirement already satisfied: charset-normalizer<4,>=2 in ./llm/lib/python3.10/site-packages (from requests>=2.28->chromadb==0.5.3) (3.4.1)\n",
      "Requirement already satisfied: greenlet!=0.4.17 in ./llm/lib/python3.10/site-packages (from SQLAlchemy<3,>=1.4->langchain) (3.1.1)\n",
      "Requirement already satisfied: regex>=2022.1.18 in ./llm/lib/python3.10/site-packages (from tiktoken<1,>=0.7->langchain-openai) (2024.11.6)\n",
      "Requirement already satisfied: huggingface-hub<1.0,>=0.16.4 in ./llm/lib/python3.10/site-packages (from tokenizers>=0.13.2->chromadb==0.5.3) (0.29.1)\n",
      "Requirement already satisfied: shellingham>=1.3.0 in ./llm/lib/python3.10/site-packages (from typer>=0.9.0->chromadb==0.5.3) (1.5.4)\n",
      "Requirement already satisfied: rich>=10.11.0 in ./llm/lib/python3.10/site-packages (from typer>=0.9.0->chromadb==0.5.3) (13.9.4)\n",
      "Requirement already satisfied: click>=8.0.0 in ./llm/lib/python3.10/site-packages (from typer>=0.9.0->chromadb==0.5.3) (8.1.8)\n",
      "Requirement already satisfied: httptools>=0.6.3 in ./llm/lib/python3.10/site-packages (from uvicorn[standard]>=0.18.3->chromadb==0.5.3) (0.6.4)\n",
      "Requirement already satisfied: watchfiles>=0.13 in ./llm/lib/python3.10/site-packages (from uvicorn[standard]>=0.18.3->chromadb==0.5.3) (1.0.4)\n",
      "Requirement already satisfied: websockets>=10.4 in ./llm/lib/python3.10/site-packages (from uvicorn[standard]>=0.18.3->chromadb==0.5.3) (15.0)\n",
      "Requirement already satisfied: uvloop!=0.15.0,!=0.15.1,>=0.14.0 in ./llm/lib/python3.10/site-packages (from uvicorn[standard]>=0.18.3->chromadb==0.5.3) (0.21.0)\n",
      "Requirement already satisfied: rsa<5,>=3.1.4 in ./llm/lib/python3.10/site-packages (from google-auth>=1.0.1->kubernetes>=28.1.0->chromadb==0.5.3) (4.9)\n",
      "Requirement already satisfied: pyasn1-modules>=0.2.1 in ./llm/lib/python3.10/site-packages (from google-auth>=1.0.1->kubernetes>=28.1.0->chromadb==0.5.3) (0.4.1)\n",
      "Requirement already satisfied: cachetools<6.0,>=2.0.0 in ./llm/lib/python3.10/site-packages (from google-auth>=1.0.1->kubernetes>=28.1.0->chromadb==0.5.3) (5.5.2)\n",
      "Requirement already satisfied: fsspec>=2023.5.0 in ./llm/lib/python3.10/site-packages (from huggingface-hub<1.0,>=0.16.4->tokenizers>=0.13.2->chromadb==0.5.3) (2024.12.0)\n",
      "Requirement already satisfied: filelock in ./llm/lib/python3.10/site-packages (from huggingface-hub<1.0,>=0.16.4->tokenizers>=0.13.2->chromadb==0.5.3) (3.17.0)\n",
      "Requirement already satisfied: zipp>=3.20 in ./llm/lib/python3.10/site-packages (from importlib-metadata<=8.5.0,>=6.0->opentelemetry-api>=1.2.0->chromadb==0.5.3) (3.21.0)\n",
      "Requirement already satisfied: jsonpointer>=1.9 in ./llm/lib/python3.10/site-packages (from jsonpatch<2.0,>=1.33->langchain-core<1.0.0,>=0.3.41->langchain) (3.0.0)\n",
      "Requirement already satisfied: markdown-it-py>=2.2.0 in ./llm/lib/python3.10/site-packages (from rich>=10.11.0->typer>=0.9.0->chromadb==0.5.3) (3.0.0)\n",
      "Requirement already satisfied: pygments<3.0.0,>=2.13.0 in ./llm/lib/python3.10/site-packages (from rich>=10.11.0->typer>=0.9.0->chromadb==0.5.3) (2.19.1)\n",
      "Requirement already satisfied: mypy-extensions>=0.3.0 in ./llm/lib/python3.10/site-packages (from typing-inspect<1,>=0.4.0->dataclasses-json<0.7,>=0.5.7->langchain-community) (1.0.0)\n",
      "Requirement already satisfied: humanfriendly>=9.1 in ./llm/lib/python3.10/site-packages (from coloredlogs->onnxruntime>=1.14.1->chromadb==0.5.3) (10.0)\n",
      "Requirement already satisfied: mpmath<1.4,>=1.1.0 in ./llm/lib/python3.10/site-packages (from sympy->onnxruntime>=1.14.1->chromadb==0.5.3) (1.3.0)\n",
      "Requirement already satisfied: mdurl~=0.1 in ./llm/lib/python3.10/site-packages (from markdown-it-py>=2.2.0->rich>=10.11.0->typer>=0.9.0->chromadb==0.5.3) (0.1.2)\n",
      "Requirement already satisfied: pyasn1<0.7.0,>=0.4.6 in ./llm/lib/python3.10/site-packages (from pyasn1-modules>=0.2.1->google-auth>=1.0.1->kubernetes>=28.1.0->chromadb==0.5.3) (0.6.1)\n",
      "Installing collected packages: jsonlines, chroma-hnswlib, chromadb\n",
      "  Attempting uninstall: chroma-hnswlib\n",
      "    Found existing installation: chroma-hnswlib 0.7.6\n",
      "    Uninstalling chroma-hnswlib-0.7.6:\n",
      "      Successfully uninstalled chroma-hnswlib-0.7.6\n",
      "  Attempting uninstall: chromadb\n",
      "    Found existing installation: chromadb 0.6.3\n",
      "    Uninstalling chromadb-0.6.3:\n",
      "      Successfully uninstalled chromadb-0.6.3\n",
      "Successfully installed chroma-hnswlib-0.7.3 chromadb-0.5.3 jsonlines-4.0.0\n"
     ]
    }
   ],
   "source": [
    "#!pip install --upgrade jsonlines openai langchain langchain-openai langchain-community beautifulsoup4 langchain_chroma chromadb==0.5.3"
   ]
  },
  {
   "cell_type": "code",
   "execution_count": 1,
   "metadata": {
    "id": "C5uYZQknXLDM"
   },
   "outputs": [],
   "source": [
    "import os\n",
    "import json\n",
    "\n",
    "with open(\"api_key.json\", \"r\") as f:\n",
    "    config = json.load(f)\n",
    "\n",
    "api_key = config[\"OPENAI_API_KEY\"]\n",
    "\n",
    "# OPENAI API KEY 설정\n",
    "os.environ['OPENAI_API_KEY'] = api_key\n",
    "\n",
    "os.environ['USER_AGENT']='MyCustomAgent'\n",
    "# 아래 코드 Warning 제거"
   ]
  },
  {
   "cell_type": "markdown",
   "metadata": {
    "id": "_8tnZzwABPid"
   },
   "source": [
    "## 1. `WebBaseLoader`로 웹 페이지 받아오기"
   ]
  },
  {
   "cell_type": "markdown",
   "metadata": {
    "id": "GVOZC5YqBPid"
   },
   "source": [
    "LangChain의 `document_loaders`는 다양한 형식의 파일을 불러올 수 있습니다.   \n",
    "[https://python.langchain.com/docs/integrations/document_loaders/ ]    \n",
    "\n",
    "이번에는 웹 페이지를 로드하는 `WebBaseLoader`를 통해 뉴스 기사를 읽어보겠습니다.    \n",
    "- 최근에는 FireCrawl(https://www.firecrawl.dev/)을 사용하는 경우가 늘고 있습니다."
   ]
  },
  {
   "cell_type": "markdown",
   "metadata": {
    "id": "j3gBNwwLnr9z"
   },
   "source": [
    "네이버 API를 사용해, 네이버 뉴스 검색 링크를 가져옵니다."
   ]
  },
  {
   "cell_type": "code",
   "execution_count": 2,
   "metadata": {
    "id": "20K2xtOAnrGO"
   },
   "outputs": [
    {
     "name": "stdout",
     "output_type": "stream",
     "text": [
      "57\n",
      "https://n.news.naver.com/mnews/article/293/0000064488?sid=105\n",
      "https://n.news.naver.com/mnews/article/037/0000035830?sid=105\n",
      "https://n.news.naver.com/mnews/article/277/0005554480?sid=105\n",
      "https://n.news.naver.com/mnews/article/015/0005101683?sid=105\n",
      "https://n.news.naver.com/mnews/article/001/0015243264?sid=105\n",
      "https://n.news.naver.com/mnews/article/003/0013096548?sid=105\n",
      "https://n.news.naver.com/mnews/article/092/0002365544?sid=105\n",
      "https://n.news.naver.com/mnews/article/293/0000064445?sid=105\n",
      "https://n.news.naver.com/mnews/article/014/0005316599?sid=101\n",
      "https://n.news.naver.com/mnews/article/421/0008112578?sid=105\n",
      "https://n.news.naver.com/mnews/article/003/0013097927?sid=105\n",
      "https://n.news.naver.com/mnews/article/031/0000912965?sid=105\n",
      "https://n.news.naver.com/mnews/article/417/0001061403?sid=105\n",
      "https://n.news.naver.com/mnews/article/029/0002939041?sid=102\n",
      "https://n.news.naver.com/mnews/article/030/0003289256?sid=105\n",
      "https://n.news.naver.com/mnews/article/018/0005954203?sid=105\n",
      "https://n.news.naver.com/mnews/article/277/0005555414?sid=101\n",
      "https://n.news.naver.com/mnews/article/018/0005955199?sid=105\n",
      "https://n.news.naver.com/mnews/article/092/0002365485?sid=105\n",
      "https://n.news.naver.com/mnews/article/366/0001057939?sid=105\n",
      "https://n.news.naver.com/mnews/article/030/0003289465?sid=105\n",
      "https://n.news.naver.com/mnews/article/030/0003289402?sid=105\n",
      "https://n.news.naver.com/mnews/article/029/0002939164?sid=105\n",
      "https://n.news.naver.com/mnews/article/293/0000064389?sid=105\n",
      "https://n.news.naver.com/mnews/article/421/0008106822?sid=105\n",
      "https://n.news.naver.com/mnews/article/014/0005315794?sid=105\n",
      "https://n.news.naver.com/mnews/article/029/0002938768?sid=105\n",
      "https://n.news.naver.com/mnews/article/031/0000913045?sid=105\n",
      "https://n.news.naver.com/mnews/article/030/0003289348?sid=105\n",
      "https://n.news.naver.com/mnews/article/003/0013084396?sid=102\n",
      "https://n.news.naver.com/mnews/article/030/0003290233?sid=105\n",
      "https://n.news.naver.com/mnews/article/053/0000048487?sid=105\n",
      "https://n.news.naver.com/mnews/article/092/0002365336?sid=105\n",
      "https://n.news.naver.com/mnews/article/031/0000913061?sid=105\n",
      "https://n.news.naver.com/mnews/article/374/0000427835?sid=101\n",
      "https://n.news.naver.com/mnews/article/092/0002365390?sid=105\n",
      "https://n.news.naver.com/mnews/article/138/0002192032?sid=105\n",
      "https://n.news.naver.com/mnews/article/092/0002364770?sid=105\n",
      "https://n.news.naver.com/mnews/article/138/0002191893?sid=105\n",
      "https://n.news.naver.com/mnews/article/277/0005554251?sid=105\n",
      "https://n.news.naver.com/mnews/article/001/0015229472?sid=105\n",
      "https://n.news.naver.com/mnews/article/138/0002191885?sid=105\n",
      "https://n.news.naver.com/mnews/article/138/0002191828?sid=105\n",
      "https://n.news.naver.com/mnews/article/079/0003996091?sid=101\n",
      "https://n.news.naver.com/mnews/article/629/0000368284?sid=101\n",
      "https://n.news.naver.com/mnews/article/009/0005450427?sid=101\n",
      "https://n.news.naver.com/mnews/article/076/0004250500?sid=101\n",
      "https://n.news.naver.com/mnews/article/030/0003287746?sid=101\n",
      "https://n.news.naver.com/mnews/article/469/0000851720?sid=101\n",
      "https://n.news.naver.com/mnews/article/014/0005316262?sid=105\n",
      "https://n.news.naver.com/mnews/article/293/0000064277?sid=105\n",
      "https://n.news.naver.com/mnews/article/243/0000073398?sid=101\n",
      "https://n.news.naver.com/mnews/article/030/0003289275?sid=105\n",
      "https://n.news.naver.com/mnews/article/277/0005552100?sid=101\n",
      "https://n.news.naver.com/mnews/article/119/0002926224?sid=101\n",
      "https://n.news.naver.com/mnews/article/003/0013091255?sid=102\n",
      "https://n.news.naver.com/mnews/article/374/0000427476?sid=101\n",
      "61\n",
      "https://n.news.naver.com/mnews/article/001/0015243729?sid=105\n",
      "https://n.news.naver.com/mnews/article/003/0013097456?sid=105\n",
      "https://n.news.naver.com/mnews/article/028/0002733918?sid=101\n",
      "https://n.news.naver.com/mnews/article/018/0005955165?sid=105\n",
      "https://n.news.naver.com/mnews/article/009/0005452874?sid=105\n",
      "https://n.news.naver.com/mnews/article/366/0001058140?sid=105\n",
      "https://n.news.naver.com/mnews/article/092/0002365494?sid=105\n",
      "https://n.news.naver.com/mnews/article/421/0008108209?sid=105\n",
      "https://n.news.naver.com/mnews/article/016/0002436701?sid=105\n",
      "https://n.news.naver.com/mnews/article/417/0001061598?sid=105\n",
      "https://n.news.naver.com/mnews/article/001/0015243558?sid=105\n",
      "https://n.news.naver.com/mnews/article/003/0013097791?sid=105\n",
      "https://n.news.naver.com/mnews/article/016/0002437252?sid=105\n",
      "https://n.news.naver.com/mnews/article/014/0005315920?sid=105\n",
      "https://n.news.naver.com/mnews/article/018/0005954768?sid=105\n",
      "https://n.news.naver.com/mnews/article/003/0013100821?sid=105\n",
      "https://n.news.naver.com/mnews/article/016/0002436556?sid=105\n",
      "https://n.news.naver.com/mnews/article/008/0005160636?sid=105\n",
      "https://n.news.naver.com/mnews/article/277/0005554641?sid=105\n",
      "https://n.news.naver.com/mnews/article/001/0015246995?sid=105\n",
      "https://n.news.naver.com/mnews/article/029/0002938760?sid=105\n",
      "https://n.news.naver.com/mnews/article/003/0013096578?sid=105\n",
      "https://n.news.naver.com/mnews/article/016/0002436863?sid=100\n",
      "https://n.news.naver.com/mnews/article/030/0003289465?sid=105\n",
      "https://n.news.naver.com/mnews/article/001/0015241561?sid=100\n",
      "https://n.news.naver.com/mnews/article/030/0003290029?sid=105\n",
      "https://n.news.naver.com/mnews/article/011/0004457411?sid=102\n",
      "https://n.news.naver.com/mnews/article/003/0013094329?sid=105\n",
      "https://n.news.naver.com/mnews/article/138/0002191920?sid=105\n",
      "https://n.news.naver.com/mnews/article/055/0001236330?sid=100\n",
      "https://n.news.naver.com/mnews/article/056/0011904015?sid=103\n",
      "https://n.news.naver.com/mnews/article/003/0013097927?sid=105\n",
      "https://n.news.naver.com/mnews/article/003/0013096273?sid=100\n",
      "https://n.news.naver.com/mnews/article/003/0013096171?sid=100\n",
      "https://n.news.naver.com/mnews/article/025/0003424662?sid=105\n",
      "https://n.news.naver.com/mnews/article/056/0011903830?sid=100\n",
      "https://n.news.naver.com/mnews/article/666/0000065860?sid=100\n",
      "https://n.news.naver.com/mnews/article/214/0001408554?sid=100\n",
      "https://n.news.naver.com/mnews/article/015/0005100947?sid=100\n",
      "https://n.news.naver.com/mnews/article/016/0002436105?sid=101\n",
      "https://n.news.naver.com/mnews/article/016/0002435759?sid=105\n",
      "https://n.news.naver.com/mnews/article/052/0002159291?sid=101\n",
      "https://n.news.naver.com/mnews/article/030/0003289064?sid=105\n",
      "https://n.news.naver.com/mnews/article/648/0000033974?sid=105\n",
      "https://n.news.naver.com/mnews/article/001/0015239589?sid=105\n",
      "https://n.news.naver.com/mnews/article/277/0005554484?sid=105\n",
      "https://n.news.naver.com/mnews/article/055/0001236390?sid=100\n",
      "https://n.news.naver.com/mnews/article/421/0008106252?sid=100\n",
      "https://n.news.naver.com/mnews/article/055/0001236329?sid=100\n",
      "https://n.news.naver.com/mnews/article/014/0005315273?sid=100\n",
      "https://n.news.naver.com/mnews/article/022/0004015348?sid=100\n",
      "https://n.news.naver.com/mnews/article/030/0003289400?sid=105\n",
      "https://n.news.naver.com/mnews/article/092/0002365336?sid=105\n",
      "https://n.news.naver.com/mnews/article/018/0005954105?sid=100\n",
      "https://n.news.naver.com/mnews/article/082/0001314062?sid=100\n",
      "https://n.news.naver.com/mnews/article/056/0011902272?sid=105\n",
      "https://n.news.naver.com/mnews/article/057/0001874364?sid=100\n",
      "https://n.news.naver.com/mnews/article/008/0005160250?sid=100\n",
      "https://n.news.naver.com/mnews/article/056/0011902997?sid=100\n",
      "https://n.news.naver.com/mnews/article/001/0015241774?sid=100\n",
      "https://n.news.naver.com/mnews/article/009/0005451592?sid=105\n",
      "84\n",
      "https://n.news.naver.com/mnews/article/003/0013099490?sid=105\n",
      "https://n.news.naver.com/mnews/article/469/0000852016?sid=101\n",
      "https://n.news.naver.com/mnews/article/001/0015245618?sid=105\n",
      "https://n.news.naver.com/mnews/article/047/0002464440?sid=103\n",
      "https://n.news.naver.com/mnews/article/002/0002375888?sid=100\n",
      "https://n.news.naver.com/mnews/article/374/0000428234?sid=101\n",
      "https://n.news.naver.com/mnews/article/009/0005452794?sid=100\n",
      "https://n.news.naver.com/mnews/article/022/0004015819?sid=101\n",
      "https://n.news.naver.com/mnews/article/119/0002929077?sid=100\n",
      "https://n.news.naver.com/mnews/article/277/0005555325?sid=105\n",
      "https://n.news.naver.com/mnews/article/003/0013100459?sid=105\n",
      "https://n.news.naver.com/mnews/article/079/0003998007?sid=100\n",
      "https://n.news.naver.com/mnews/article/422/0000718417?sid=101\n",
      "https://n.news.naver.com/mnews/article/092/0002365390?sid=105\n",
      "https://n.news.naver.com/mnews/article/001/0015238643?sid=104\n",
      "https://n.news.naver.com/mnews/article/029/0002939209?sid=105\n",
      "https://n.news.naver.com/mnews/article/016/0002437252?sid=105\n",
      "https://n.news.naver.com/mnews/article/022/0004015872?sid=100\n",
      "https://n.news.naver.com/mnews/article/015/0005100401?sid=105\n",
      "https://n.news.naver.com/mnews/article/003/0013092807?sid=105\n",
      "https://n.news.naver.com/mnews/article/421/0008108239?sid=100\n",
      "https://n.news.naver.com/mnews/article/009/0005453764?sid=105\n",
      "https://n.news.naver.com/mnews/article/014/0005314838?sid=105\n",
      "https://n.news.naver.com/mnews/article/015/0005101827?sid=102\n",
      "https://n.news.naver.com/mnews/article/001/0015238401?sid=105\n",
      "https://n.news.naver.com/mnews/article/009/0005453939?sid=105\n",
      "https://n.news.naver.com/mnews/article/030/0003288767?sid=105\n",
      "https://n.news.naver.com/mnews/article/032/0003354636?sid=101\n",
      "https://n.news.naver.com/mnews/article/092/0002365507?sid=105\n",
      "https://n.news.naver.com/mnews/article/123/0002353979?sid=004\n",
      "https://n.news.naver.com/mnews/article/032/0003353772?sid=101\n",
      "https://n.news.naver.com/mnews/article/022/0004014814?sid=105\n",
      "https://n.news.naver.com/mnews/article/022/0004015501?sid=102\n",
      "https://n.news.naver.com/mnews/article/421/0008106726?sid=105\n",
      "https://n.news.naver.com/mnews/article/243/0000073507?sid=105\n",
      "https://n.news.naver.com/mnews/article/586/0000098242?sid=101\n",
      "https://n.news.naver.com/mnews/article/092/0002364942?sid=105\n",
      "https://n.news.naver.com/mnews/article/003/0013093522?sid=104\n",
      "https://n.news.naver.com/mnews/article/030/0003288631?sid=105\n",
      "https://n.news.naver.com/mnews/article/003/0013095932?sid=105\n",
      "https://n.news.naver.com/mnews/article/022/0004015371?sid=102\n",
      "https://n.news.naver.com/mnews/article/003/0013095960?sid=105\n",
      "https://n.news.naver.com/mnews/article/020/0003618823?sid=105\n",
      "https://n.news.naver.com/mnews/article/032/0003353891?sid=101\n",
      "https://n.news.naver.com/mnews/article/031/0000912269?sid=105\n",
      "https://n.news.naver.com/mnews/article/031/0000912477?sid=105\n",
      "https://n.news.naver.com/mnews/article/421/0008103550?sid=105\n",
      "https://n.news.naver.com/mnews/article/277/0005553387?sid=101\n",
      "https://n.news.naver.com/mnews/article/001/0015233741?sid=105\n",
      "https://n.news.naver.com/mnews/article/001/0015238189?sid=105\n",
      "https://n.news.naver.com/mnews/article/005/0001760296?sid=105\n",
      "https://n.news.naver.com/mnews/article/001/0015238876?sid=104\n",
      "https://n.news.naver.com/mnews/article/053/0000048487?sid=105\n",
      "https://n.news.naver.com/mnews/article/374/0000427590?sid=101\n",
      "https://n.news.naver.com/mnews/article/003/0013094865?sid=105\n",
      "https://n.news.naver.com/mnews/article/003/0013091280?sid=105\n",
      "https://n.news.naver.com/mnews/article/032/0003354209?sid=102\n",
      "https://n.news.naver.com/mnews/article/092/0002365044?sid=105\n",
      "https://n.news.naver.com/mnews/article/421/0008110457?sid=105\n",
      "https://n.news.naver.com/mnews/article/003/0013084396?sid=102\n",
      "https://n.news.naver.com/mnews/article/011/0004456211?sid=105\n",
      "https://n.news.naver.com/mnews/article/366/0001057410?sid=105\n",
      "https://n.news.naver.com/mnews/article/081/0003522194?sid=101\n",
      "https://n.news.naver.com/mnews/article/003/0013092974?sid=105\n",
      "https://n.news.naver.com/mnews/article/001/0015239584?sid=104\n",
      "https://n.news.naver.com/mnews/article/092/0002365494?sid=105\n",
      "https://n.news.naver.com/mnews/article/023/0003890646?sid=101\n",
      "https://n.news.naver.com/mnews/article/001/0015247158?sid=104\n",
      "https://n.news.naver.com/mnews/article/023/0003891321?sid=105\n",
      "https://n.news.naver.com/mnews/article/008/0005160649?sid=100\n",
      "https://n.news.naver.com/mnews/article/015/0005100302?sid=105\n",
      "https://n.news.naver.com/mnews/article/422/0000717221?sid=104\n",
      "https://n.news.naver.com/mnews/article/640/0000066201?sid=101\n",
      "https://n.news.naver.com/mnews/article/656/0000123134?sid=102\n",
      "https://n.news.naver.com/mnews/article/056/0011901535?sid=105\n",
      "https://n.news.naver.com/mnews/article/025/0003423651?sid=105\n",
      "https://n.news.naver.com/mnews/article/018/0005952854?sid=105\n",
      "https://n.news.naver.com/mnews/article/015/0005100456?sid=105\n",
      "https://n.news.naver.com/mnews/article/011/0004455829?sid=105\n",
      "https://n.news.naver.com/mnews/article/421/0008102779?sid=105\n",
      "https://n.news.naver.com/mnews/article/008/0005159479?sid=105\n",
      "https://n.news.naver.com/mnews/article/088/0000933507?sid=105\n",
      "https://n.news.naver.com/mnews/article/055/0001236490?sid=103\n",
      "https://n.news.naver.com/mnews/article/052/0002159105?sid=104\n",
      "40\n",
      "https://n.news.naver.com/mnews/article/009/0005453179?sid=101\n",
      "https://n.news.naver.com/mnews/article/366/0001056468?sid=105\n",
      "https://n.news.naver.com/mnews/article/015/0005101517?sid=101\n",
      "https://n.news.naver.com/mnews/article/003/0013096088?sid=102\n",
      "https://n.news.naver.com/mnews/article/029/0002938755?sid=105\n",
      "https://n.news.naver.com/mnews/article/243/0000073515?sid=101\n",
      "https://n.news.naver.com/mnews/article/029/0002938859?sid=105\n",
      "https://n.news.naver.com/mnews/article/092/0002364435?sid=105\n",
      "https://n.news.naver.com/mnews/article/003/0013072853?sid=101\n",
      "https://n.news.naver.com/mnews/article/015/0005098362?sid=101\n",
      "https://n.news.naver.com/mnews/article/421/0008105102?sid=101\n",
      "https://n.news.naver.com/mnews/article/584/0000030984?sid=103\n",
      "https://n.news.naver.com/mnews/article/030/0003288551?sid=102\n",
      "https://n.news.naver.com/mnews/article/277/0005553771?sid=102\n",
      "https://n.news.naver.com/mnews/article/029/0002936058?sid=105\n",
      "https://n.news.naver.com/mnews/article/277/0005547976?sid=101\n",
      "https://n.news.naver.com/mnews/article/366/0001052916?sid=105\n",
      "https://n.news.naver.com/mnews/article/020/0003614502?sid=103\n",
      "https://n.news.naver.com/mnews/article/003/0013070601?sid=102\n",
      "https://n.news.naver.com/mnews/article/008/0005160032?sid=101\n",
      "https://n.news.naver.com/mnews/article/025/0003423612?sid=102\n",
      "https://n.news.naver.com/mnews/article/031/0000912644?sid=105\n",
      "https://n.news.naver.com/mnews/article/030/0003288669?sid=105\n",
      "https://n.news.naver.com/mnews/article/016/0002432599?sid=105\n",
      "https://n.news.naver.com/mnews/article/014/0005311166?sid=101\n",
      "https://n.news.naver.com/mnews/article/030/0003284924?sid=102\n",
      "https://n.news.naver.com/mnews/article/003/0013060533?sid=102\n",
      "https://n.news.naver.com/mnews/article/009/0005441356?sid=105\n",
      "https://n.news.naver.com/mnews/article/009/0005453391?sid=101\n",
      "https://n.news.naver.com/mnews/article/030/0003289151?sid=105\n",
      "https://n.news.naver.com/mnews/article/030/0003284701?sid=102\n",
      "https://n.news.naver.com/mnews/article/366/0001054547?sid=104\n",
      "https://n.news.naver.com/mnews/article/014/0005309218?sid=105\n",
      "https://n.news.naver.com/mnews/article/076/0004241309?sid=102\n",
      "https://n.news.naver.com/mnews/article/031/0000909634?sid=105\n",
      "https://n.news.naver.com/mnews/article/015/0005092705?sid=103\n",
      "https://n.news.naver.com/mnews/article/030/0003287260?sid=105\n",
      "https://n.news.naver.com/mnews/article/020/0003613323?sid=103\n",
      "https://n.news.naver.com/mnews/article/092/0002363946?sid=105\n",
      "https://n.news.naver.com/mnews/article/421/0008051588?sid=105\n",
      "42\n",
      "https://n.news.naver.com/mnews/article/003/0013100116?sid=101\n",
      "https://n.news.naver.com/mnews/article/421/0008110357?sid=101\n",
      "https://n.news.naver.com/mnews/article/030/0003289923?sid=105\n",
      "https://n.news.naver.com/mnews/article/031/0000913429?sid=105\n",
      "https://n.news.naver.com/mnews/article/001/0015246321?sid=104\n",
      "https://n.news.naver.com/mnews/article/003/0013094091?sid=101\n",
      "https://n.news.naver.com/mnews/article/011/0004457419?sid=101\n",
      "https://n.news.naver.com/mnews/article/215/0001200559?sid=101\n",
      "https://n.news.naver.com/mnews/article/421/0008109399?sid=101\n",
      "https://n.news.naver.com/mnews/article/421/0008104476?sid=101\n",
      "https://n.news.naver.com/mnews/article/003/0013086562?sid=101\n",
      "https://n.news.naver.com/mnews/article/014/0005316284?sid=101\n",
      "https://n.news.naver.com/mnews/article/052/0002160040?sid=104\n",
      "https://n.news.naver.com/mnews/article/374/0000427695?sid=101\n",
      "https://n.news.naver.com/mnews/article/009/0005450486?sid=101\n",
      "https://n.news.naver.com/mnews/article/052/0002159823?sid=104\n",
      "https://n.news.naver.com/mnews/article/015/0005100712?sid=104\n",
      "https://n.news.naver.com/mnews/article/001/0015228372?sid=102\n",
      "https://n.news.naver.com/mnews/article/003/0013082847?sid=102\n",
      "https://n.news.naver.com/mnews/article/008/0005159635?sid=101\n",
      "https://n.news.naver.com/mnews/article/029/0002937719?sid=101\n",
      "https://n.news.naver.com/mnews/article/052/0002158543?sid=104\n",
      "https://n.news.naver.com/mnews/article/056/0011898355?sid=101\n",
      "https://n.news.naver.com/mnews/article/032/0003352648?sid=101\n",
      "https://n.news.naver.com/mnews/article/029/0002937508?sid=101\n",
      "https://n.news.naver.com/mnews/article/001/0015235766?sid=103\n",
      "https://n.news.naver.com/mnews/article/009/0005447944?sid=101\n",
      "https://n.news.naver.com/mnews/article/079/0003994986?sid=101\n",
      "https://n.news.naver.com/mnews/article/079/0003993523?sid=102\n",
      "https://n.news.naver.com/mnews/article/018/0005949252?sid=101\n",
      "https://n.news.naver.com/mnews/article/092/0002364211?sid=105\n",
      "https://n.news.naver.com/mnews/article/014/0005314368?sid=101\n",
      "https://n.news.naver.com/mnews/article/366/0001055467?sid=105\n",
      "https://n.news.naver.com/mnews/article/277/0005548558?sid=101\n",
      "https://n.news.naver.com/mnews/article/014/0005314559?sid=101\n",
      "https://n.news.naver.com/mnews/article/056/0011899144?sid=101\n",
      "https://n.news.naver.com/mnews/article/003/0013084421?sid=102\n",
      "https://n.news.naver.com/mnews/article/003/0013084422?sid=102\n",
      "https://n.news.naver.com/mnews/article/003/0013084419?sid=102\n",
      "https://n.news.naver.com/mnews/article/003/0013084420?sid=102\n",
      "https://n.news.naver.com/mnews/article/003/0013084418?sid=102\n",
      "https://n.news.naver.com/mnews/article/003/0013084426?sid=101\n",
      "284\n",
      "276\n"
     ]
    }
   ],
   "source": [
    "# 스포츠 뉴스는 형식이 달라서 지원하지 않습니다...\n",
    "\n",
    "import requests\n",
    "def get_naver_news_links(query, num_links=100):\n",
    "    url = f\"https://openapi.naver.com/v1/search/news.json?query={query}&display={num_links}&sort=sim\"\n",
    "    # 최대 100개의 결과를 표시\n",
    "    headers = {\n",
    "        'X-Naver-Client-Id': 'Ko6yIqbV2TOHq9rPH8tu',\n",
    "        'X-Naver-Client-Secret': 'BvqX8mNtHu'\n",
    "    }\n",
    "\n",
    "    response = requests.get(url, headers=headers)\n",
    "    result = response.json()\n",
    "    # 특정 링크 형식만 필터링\n",
    "    filtered_links = []\n",
    "    for item in result['items']:\n",
    "        link = item['link']\n",
    "        if \"n.news.naver.com/mnews/article/\" in link:\n",
    "            # 네이버 뉴스 스타일만 모으기\n",
    "            filtered_links.append(link)\n",
    "\n",
    "    # 결과 출력\n",
    "    print(len(filtered_links))\n",
    "    for link in filtered_links:\n",
    "        print(link)\n",
    "    return filtered_links\n",
    "\n",
    "filtered_links = []\n",
    "for topic in ['LLM', '생성 인공지능', 'GPT', '딥러닝', '가전제품']:\n",
    "    filtered_links += get_naver_news_links(topic, 100)\n",
    "print(len(filtered_links))\n",
    "print(len(list(set(filtered_links))))\n",
    "filtered_links = list(set(filtered_links))"
   ]
  },
  {
   "cell_type": "markdown",
   "metadata": {
    "id": "x23cqzWq1f9J"
   },
   "source": [
    "WebBaseLoader를 이용해, 링크로부터 본문을 불러옵니다."
   ]
  },
  {
   "cell_type": "code",
   "execution_count": 9,
   "metadata": {
    "id": "1WGDVRWOBPid"
   },
   "outputs": [
    {
     "ename": "KeyboardInterrupt",
     "evalue": "",
     "output_type": "error",
     "traceback": [
      "\u001b[0;31m---------------------------------------------------------------------------\u001b[0m",
      "\u001b[0;31mKeyboardInterrupt\u001b[0m                         Traceback (most recent call last)",
      "Cell \u001b[0;32mIn[9], line 20\u001b[0m\n\u001b[1;32m     18\u001b[0m     \u001b[38;5;28mlen\u001b[39m(docs)\n\u001b[1;32m     19\u001b[0m     \u001b[38;5;28;01mreturn\u001b[39;00m docs\n\u001b[0;32m---> 20\u001b[0m docs \u001b[38;5;241m=\u001b[39m \u001b[43mget_news_documents\u001b[49m\u001b[43m(\u001b[49m\u001b[43mfiltered_links\u001b[49m\u001b[43m[\u001b[49m\u001b[43m:\u001b[49m\u001b[38;5;241;43m10\u001b[39;49m\u001b[43m]\u001b[49m\u001b[43m)\u001b[49m\n",
      "Cell \u001b[0;32mIn[9], line 17\u001b[0m, in \u001b[0;36mget_news_documents\u001b[0;34m(links)\u001b[0m\n\u001b[1;32m      5\u001b[0m \u001b[38;5;28;01mdef\u001b[39;00m\u001b[38;5;250m \u001b[39m\u001b[38;5;21mget_news_documents\u001b[39m(links):\n\u001b[1;32m      6\u001b[0m     loader \u001b[38;5;241m=\u001b[39m WebBaseLoader(\n\u001b[1;32m      7\u001b[0m         web_paths\u001b[38;5;241m=\u001b[39mlinks,\n\u001b[1;32m      8\u001b[0m         bs_kwargs\u001b[38;5;241m=\u001b[39m\u001b[38;5;28mdict\u001b[39m(\n\u001b[0;32m   (...)\u001b[0m\n\u001b[1;32m     15\u001b[0m         show_progress \u001b[38;5;241m=\u001b[39m \u001b[38;5;28;01mTrue\u001b[39;00m \u001b[38;5;66;03m# 진행 상황 출력\u001b[39;00m\n\u001b[1;32m     16\u001b[0m     )\n\u001b[0;32m---> 17\u001b[0m     docs \u001b[38;5;241m=\u001b[39m \u001b[43mloader\u001b[49m\u001b[38;5;241;43m.\u001b[39;49m\u001b[43mload\u001b[49m\u001b[43m(\u001b[49m\u001b[43m)\u001b[49m\n\u001b[1;32m     18\u001b[0m     \u001b[38;5;28mlen\u001b[39m(docs)\n\u001b[1;32m     19\u001b[0m     \u001b[38;5;28;01mreturn\u001b[39;00m docs\n",
      "File \u001b[0;32m~/workspace/LLM/Langchain/llm/lib/python3.10/site-packages/langchain_core/document_loaders/base.py:32\u001b[0m, in \u001b[0;36mBaseLoader.load\u001b[0;34m(self)\u001b[0m\n\u001b[1;32m     30\u001b[0m \u001b[38;5;28;01mdef\u001b[39;00m\u001b[38;5;250m \u001b[39m\u001b[38;5;21mload\u001b[39m(\u001b[38;5;28mself\u001b[39m) \u001b[38;5;241m-\u001b[39m\u001b[38;5;241m>\u001b[39m \u001b[38;5;28mlist\u001b[39m[Document]:\n\u001b[1;32m     31\u001b[0m \u001b[38;5;250m    \u001b[39m\u001b[38;5;124;03m\"\"\"Load data into Document objects.\"\"\"\u001b[39;00m\n\u001b[0;32m---> 32\u001b[0m     \u001b[38;5;28;01mreturn\u001b[39;00m \u001b[38;5;28;43mlist\u001b[39;49m\u001b[43m(\u001b[49m\u001b[38;5;28;43mself\u001b[39;49m\u001b[38;5;241;43m.\u001b[39;49m\u001b[43mlazy_load\u001b[49m\u001b[43m(\u001b[49m\u001b[43m)\u001b[49m\u001b[43m)\u001b[49m\n",
      "File \u001b[0;32m~/workspace/LLM/Langchain/llm/lib/python3.10/site-packages/langchain_community/document_loaders/web_base.py:378\u001b[0m, in \u001b[0;36mWebBaseLoader.lazy_load\u001b[0;34m(self)\u001b[0m\n\u001b[1;32m    376\u001b[0m \u001b[38;5;250m\u001b[39m\u001b[38;5;124;03m\"\"\"Lazy load text from the url(s) in web_path.\"\"\"\u001b[39;00m\n\u001b[1;32m    377\u001b[0m \u001b[38;5;28;01mfor\u001b[39;00m path \u001b[38;5;129;01min\u001b[39;00m \u001b[38;5;28mself\u001b[39m\u001b[38;5;241m.\u001b[39mweb_paths:\n\u001b[0;32m--> 378\u001b[0m     soup \u001b[38;5;241m=\u001b[39m \u001b[38;5;28;43mself\u001b[39;49m\u001b[38;5;241;43m.\u001b[39;49m\u001b[43m_scrape\u001b[49m\u001b[43m(\u001b[49m\u001b[43mpath\u001b[49m\u001b[43m,\u001b[49m\u001b[43m \u001b[49m\u001b[43mbs_kwargs\u001b[49m\u001b[38;5;241;43m=\u001b[39;49m\u001b[38;5;28;43mself\u001b[39;49m\u001b[38;5;241;43m.\u001b[39;49m\u001b[43mbs_kwargs\u001b[49m\u001b[43m)\u001b[49m\n\u001b[1;32m    379\u001b[0m     text \u001b[38;5;241m=\u001b[39m soup\u001b[38;5;241m.\u001b[39mget_text(\u001b[38;5;241m*\u001b[39m\u001b[38;5;241m*\u001b[39m\u001b[38;5;28mself\u001b[39m\u001b[38;5;241m.\u001b[39mbs_get_text_kwargs)\n\u001b[1;32m    380\u001b[0m     metadata \u001b[38;5;241m=\u001b[39m _build_metadata(soup, path)\n",
      "File \u001b[0;32m~/workspace/LLM/Langchain/llm/lib/python3.10/site-packages/langchain_community/document_loaders/web_base.py:357\u001b[0m, in \u001b[0;36mWebBaseLoader._scrape\u001b[0;34m(self, url, parser, bs_kwargs)\u001b[0m\n\u001b[1;32m    353\u001b[0m         parser \u001b[38;5;241m=\u001b[39m \u001b[38;5;28mself\u001b[39m\u001b[38;5;241m.\u001b[39mdefault_parser\n\u001b[1;32m    355\u001b[0m \u001b[38;5;28mself\u001b[39m\u001b[38;5;241m.\u001b[39m_check_parser(parser)\n\u001b[0;32m--> 357\u001b[0m html_doc \u001b[38;5;241m=\u001b[39m \u001b[38;5;28;43mself\u001b[39;49m\u001b[38;5;241;43m.\u001b[39;49m\u001b[43msession\u001b[49m\u001b[38;5;241;43m.\u001b[39;49m\u001b[43mget\u001b[49m\u001b[43m(\u001b[49m\u001b[43murl\u001b[49m\u001b[43m,\u001b[49m\u001b[43m \u001b[49m\u001b[38;5;241;43m*\u001b[39;49m\u001b[38;5;241;43m*\u001b[39;49m\u001b[38;5;28;43mself\u001b[39;49m\u001b[38;5;241;43m.\u001b[39;49m\u001b[43mrequests_kwargs\u001b[49m\u001b[43m)\u001b[49m\n\u001b[1;32m    358\u001b[0m \u001b[38;5;28;01mif\u001b[39;00m \u001b[38;5;28mself\u001b[39m\u001b[38;5;241m.\u001b[39mraise_for_status:\n\u001b[1;32m    359\u001b[0m     html_doc\u001b[38;5;241m.\u001b[39mraise_for_status()\n",
      "File \u001b[0;32m~/workspace/LLM/Langchain/llm/lib/python3.10/site-packages/requests/sessions.py:602\u001b[0m, in \u001b[0;36mSession.get\u001b[0;34m(self, url, **kwargs)\u001b[0m\n\u001b[1;32m    594\u001b[0m \u001b[38;5;250m\u001b[39m\u001b[38;5;124mr\u001b[39m\u001b[38;5;124;03m\"\"\"Sends a GET request. Returns :class:`Response` object.\u001b[39;00m\n\u001b[1;32m    595\u001b[0m \n\u001b[1;32m    596\u001b[0m \u001b[38;5;124;03m:param url: URL for the new :class:`Request` object.\u001b[39;00m\n\u001b[1;32m    597\u001b[0m \u001b[38;5;124;03m:param \\*\\*kwargs: Optional arguments that ``request`` takes.\u001b[39;00m\n\u001b[1;32m    598\u001b[0m \u001b[38;5;124;03m:rtype: requests.Response\u001b[39;00m\n\u001b[1;32m    599\u001b[0m \u001b[38;5;124;03m\"\"\"\u001b[39;00m\n\u001b[1;32m    601\u001b[0m kwargs\u001b[38;5;241m.\u001b[39msetdefault(\u001b[38;5;124m\"\u001b[39m\u001b[38;5;124mallow_redirects\u001b[39m\u001b[38;5;124m\"\u001b[39m, \u001b[38;5;28;01mTrue\u001b[39;00m)\n\u001b[0;32m--> 602\u001b[0m \u001b[38;5;28;01mreturn\u001b[39;00m \u001b[38;5;28;43mself\u001b[39;49m\u001b[38;5;241;43m.\u001b[39;49m\u001b[43mrequest\u001b[49m\u001b[43m(\u001b[49m\u001b[38;5;124;43m\"\u001b[39;49m\u001b[38;5;124;43mGET\u001b[39;49m\u001b[38;5;124;43m\"\u001b[39;49m\u001b[43m,\u001b[49m\u001b[43m \u001b[49m\u001b[43murl\u001b[49m\u001b[43m,\u001b[49m\u001b[43m \u001b[49m\u001b[38;5;241;43m*\u001b[39;49m\u001b[38;5;241;43m*\u001b[39;49m\u001b[43mkwargs\u001b[49m\u001b[43m)\u001b[49m\n",
      "File \u001b[0;32m~/workspace/LLM/Langchain/llm/lib/python3.10/site-packages/requests/sessions.py:589\u001b[0m, in \u001b[0;36mSession.request\u001b[0;34m(self, method, url, params, data, headers, cookies, files, auth, timeout, allow_redirects, proxies, hooks, stream, verify, cert, json)\u001b[0m\n\u001b[1;32m    584\u001b[0m send_kwargs \u001b[38;5;241m=\u001b[39m {\n\u001b[1;32m    585\u001b[0m     \u001b[38;5;124m\"\u001b[39m\u001b[38;5;124mtimeout\u001b[39m\u001b[38;5;124m\"\u001b[39m: timeout,\n\u001b[1;32m    586\u001b[0m     \u001b[38;5;124m\"\u001b[39m\u001b[38;5;124mallow_redirects\u001b[39m\u001b[38;5;124m\"\u001b[39m: allow_redirects,\n\u001b[1;32m    587\u001b[0m }\n\u001b[1;32m    588\u001b[0m send_kwargs\u001b[38;5;241m.\u001b[39mupdate(settings)\n\u001b[0;32m--> 589\u001b[0m resp \u001b[38;5;241m=\u001b[39m \u001b[38;5;28;43mself\u001b[39;49m\u001b[38;5;241;43m.\u001b[39;49m\u001b[43msend\u001b[49m\u001b[43m(\u001b[49m\u001b[43mprep\u001b[49m\u001b[43m,\u001b[49m\u001b[43m \u001b[49m\u001b[38;5;241;43m*\u001b[39;49m\u001b[38;5;241;43m*\u001b[39;49m\u001b[43msend_kwargs\u001b[49m\u001b[43m)\u001b[49m\n\u001b[1;32m    591\u001b[0m \u001b[38;5;28;01mreturn\u001b[39;00m resp\n",
      "File \u001b[0;32m~/workspace/LLM/Langchain/llm/lib/python3.10/site-packages/requests/sessions.py:703\u001b[0m, in \u001b[0;36mSession.send\u001b[0;34m(self, request, **kwargs)\u001b[0m\n\u001b[1;32m    700\u001b[0m start \u001b[38;5;241m=\u001b[39m preferred_clock()\n\u001b[1;32m    702\u001b[0m \u001b[38;5;66;03m# Send the request\u001b[39;00m\n\u001b[0;32m--> 703\u001b[0m r \u001b[38;5;241m=\u001b[39m \u001b[43madapter\u001b[49m\u001b[38;5;241;43m.\u001b[39;49m\u001b[43msend\u001b[49m\u001b[43m(\u001b[49m\u001b[43mrequest\u001b[49m\u001b[43m,\u001b[49m\u001b[43m \u001b[49m\u001b[38;5;241;43m*\u001b[39;49m\u001b[38;5;241;43m*\u001b[39;49m\u001b[43mkwargs\u001b[49m\u001b[43m)\u001b[49m\n\u001b[1;32m    705\u001b[0m \u001b[38;5;66;03m# Total elapsed time of the request (approximately)\u001b[39;00m\n\u001b[1;32m    706\u001b[0m elapsed \u001b[38;5;241m=\u001b[39m preferred_clock() \u001b[38;5;241m-\u001b[39m start\n",
      "File \u001b[0;32m~/workspace/LLM/Langchain/llm/lib/python3.10/site-packages/requests/adapters.py:667\u001b[0m, in \u001b[0;36mHTTPAdapter.send\u001b[0;34m(self, request, stream, timeout, verify, cert, proxies)\u001b[0m\n\u001b[1;32m    664\u001b[0m     timeout \u001b[38;5;241m=\u001b[39m TimeoutSauce(connect\u001b[38;5;241m=\u001b[39mtimeout, read\u001b[38;5;241m=\u001b[39mtimeout)\n\u001b[1;32m    666\u001b[0m \u001b[38;5;28;01mtry\u001b[39;00m:\n\u001b[0;32m--> 667\u001b[0m     resp \u001b[38;5;241m=\u001b[39m \u001b[43mconn\u001b[49m\u001b[38;5;241;43m.\u001b[39;49m\u001b[43murlopen\u001b[49m\u001b[43m(\u001b[49m\n\u001b[1;32m    668\u001b[0m \u001b[43m        \u001b[49m\u001b[43mmethod\u001b[49m\u001b[38;5;241;43m=\u001b[39;49m\u001b[43mrequest\u001b[49m\u001b[38;5;241;43m.\u001b[39;49m\u001b[43mmethod\u001b[49m\u001b[43m,\u001b[49m\n\u001b[1;32m    669\u001b[0m \u001b[43m        \u001b[49m\u001b[43murl\u001b[49m\u001b[38;5;241;43m=\u001b[39;49m\u001b[43murl\u001b[49m\u001b[43m,\u001b[49m\n\u001b[1;32m    670\u001b[0m \u001b[43m        \u001b[49m\u001b[43mbody\u001b[49m\u001b[38;5;241;43m=\u001b[39;49m\u001b[43mrequest\u001b[49m\u001b[38;5;241;43m.\u001b[39;49m\u001b[43mbody\u001b[49m\u001b[43m,\u001b[49m\n\u001b[1;32m    671\u001b[0m \u001b[43m        \u001b[49m\u001b[43mheaders\u001b[49m\u001b[38;5;241;43m=\u001b[39;49m\u001b[43mrequest\u001b[49m\u001b[38;5;241;43m.\u001b[39;49m\u001b[43mheaders\u001b[49m\u001b[43m,\u001b[49m\n\u001b[1;32m    672\u001b[0m \u001b[43m        \u001b[49m\u001b[43mredirect\u001b[49m\u001b[38;5;241;43m=\u001b[39;49m\u001b[38;5;28;43;01mFalse\u001b[39;49;00m\u001b[43m,\u001b[49m\n\u001b[1;32m    673\u001b[0m \u001b[43m        \u001b[49m\u001b[43massert_same_host\u001b[49m\u001b[38;5;241;43m=\u001b[39;49m\u001b[38;5;28;43;01mFalse\u001b[39;49;00m\u001b[43m,\u001b[49m\n\u001b[1;32m    674\u001b[0m \u001b[43m        \u001b[49m\u001b[43mpreload_content\u001b[49m\u001b[38;5;241;43m=\u001b[39;49m\u001b[38;5;28;43;01mFalse\u001b[39;49;00m\u001b[43m,\u001b[49m\n\u001b[1;32m    675\u001b[0m \u001b[43m        \u001b[49m\u001b[43mdecode_content\u001b[49m\u001b[38;5;241;43m=\u001b[39;49m\u001b[38;5;28;43;01mFalse\u001b[39;49;00m\u001b[43m,\u001b[49m\n\u001b[1;32m    676\u001b[0m \u001b[43m        \u001b[49m\u001b[43mretries\u001b[49m\u001b[38;5;241;43m=\u001b[39;49m\u001b[38;5;28;43mself\u001b[39;49m\u001b[38;5;241;43m.\u001b[39;49m\u001b[43mmax_retries\u001b[49m\u001b[43m,\u001b[49m\n\u001b[1;32m    677\u001b[0m \u001b[43m        \u001b[49m\u001b[43mtimeout\u001b[49m\u001b[38;5;241;43m=\u001b[39;49m\u001b[43mtimeout\u001b[49m\u001b[43m,\u001b[49m\n\u001b[1;32m    678\u001b[0m \u001b[43m        \u001b[49m\u001b[43mchunked\u001b[49m\u001b[38;5;241;43m=\u001b[39;49m\u001b[43mchunked\u001b[49m\u001b[43m,\u001b[49m\n\u001b[1;32m    679\u001b[0m \u001b[43m    \u001b[49m\u001b[43m)\u001b[49m\n\u001b[1;32m    681\u001b[0m \u001b[38;5;28;01mexcept\u001b[39;00m (ProtocolError, \u001b[38;5;167;01mOSError\u001b[39;00m) \u001b[38;5;28;01mas\u001b[39;00m err:\n\u001b[1;32m    682\u001b[0m     \u001b[38;5;28;01mraise\u001b[39;00m \u001b[38;5;167;01mConnectionError\u001b[39;00m(err, request\u001b[38;5;241m=\u001b[39mrequest)\n",
      "File \u001b[0;32m~/workspace/LLM/Langchain/llm/lib/python3.10/site-packages/urllib3/connectionpool.py:787\u001b[0m, in \u001b[0;36mHTTPConnectionPool.urlopen\u001b[0;34m(self, method, url, body, headers, retries, redirect, assert_same_host, timeout, pool_timeout, release_conn, chunked, body_pos, preload_content, decode_content, **response_kw)\u001b[0m\n\u001b[1;32m    784\u001b[0m response_conn \u001b[38;5;241m=\u001b[39m conn \u001b[38;5;28;01mif\u001b[39;00m \u001b[38;5;129;01mnot\u001b[39;00m release_conn \u001b[38;5;28;01melse\u001b[39;00m \u001b[38;5;28;01mNone\u001b[39;00m\n\u001b[1;32m    786\u001b[0m \u001b[38;5;66;03m# Make the request on the HTTPConnection object\u001b[39;00m\n\u001b[0;32m--> 787\u001b[0m response \u001b[38;5;241m=\u001b[39m \u001b[38;5;28;43mself\u001b[39;49m\u001b[38;5;241;43m.\u001b[39;49m\u001b[43m_make_request\u001b[49m\u001b[43m(\u001b[49m\n\u001b[1;32m    788\u001b[0m \u001b[43m    \u001b[49m\u001b[43mconn\u001b[49m\u001b[43m,\u001b[49m\n\u001b[1;32m    789\u001b[0m \u001b[43m    \u001b[49m\u001b[43mmethod\u001b[49m\u001b[43m,\u001b[49m\n\u001b[1;32m    790\u001b[0m \u001b[43m    \u001b[49m\u001b[43murl\u001b[49m\u001b[43m,\u001b[49m\n\u001b[1;32m    791\u001b[0m \u001b[43m    \u001b[49m\u001b[43mtimeout\u001b[49m\u001b[38;5;241;43m=\u001b[39;49m\u001b[43mtimeout_obj\u001b[49m\u001b[43m,\u001b[49m\n\u001b[1;32m    792\u001b[0m \u001b[43m    \u001b[49m\u001b[43mbody\u001b[49m\u001b[38;5;241;43m=\u001b[39;49m\u001b[43mbody\u001b[49m\u001b[43m,\u001b[49m\n\u001b[1;32m    793\u001b[0m \u001b[43m    \u001b[49m\u001b[43mheaders\u001b[49m\u001b[38;5;241;43m=\u001b[39;49m\u001b[43mheaders\u001b[49m\u001b[43m,\u001b[49m\n\u001b[1;32m    794\u001b[0m \u001b[43m    \u001b[49m\u001b[43mchunked\u001b[49m\u001b[38;5;241;43m=\u001b[39;49m\u001b[43mchunked\u001b[49m\u001b[43m,\u001b[49m\n\u001b[1;32m    795\u001b[0m \u001b[43m    \u001b[49m\u001b[43mretries\u001b[49m\u001b[38;5;241;43m=\u001b[39;49m\u001b[43mretries\u001b[49m\u001b[43m,\u001b[49m\n\u001b[1;32m    796\u001b[0m \u001b[43m    \u001b[49m\u001b[43mresponse_conn\u001b[49m\u001b[38;5;241;43m=\u001b[39;49m\u001b[43mresponse_conn\u001b[49m\u001b[43m,\u001b[49m\n\u001b[1;32m    797\u001b[0m \u001b[43m    \u001b[49m\u001b[43mpreload_content\u001b[49m\u001b[38;5;241;43m=\u001b[39;49m\u001b[43mpreload_content\u001b[49m\u001b[43m,\u001b[49m\n\u001b[1;32m    798\u001b[0m \u001b[43m    \u001b[49m\u001b[43mdecode_content\u001b[49m\u001b[38;5;241;43m=\u001b[39;49m\u001b[43mdecode_content\u001b[49m\u001b[43m,\u001b[49m\n\u001b[1;32m    799\u001b[0m \u001b[43m    \u001b[49m\u001b[38;5;241;43m*\u001b[39;49m\u001b[38;5;241;43m*\u001b[39;49m\u001b[43mresponse_kw\u001b[49m\u001b[43m,\u001b[49m\n\u001b[1;32m    800\u001b[0m \u001b[43m\u001b[49m\u001b[43m)\u001b[49m\n\u001b[1;32m    802\u001b[0m \u001b[38;5;66;03m# Everything went great!\u001b[39;00m\n\u001b[1;32m    803\u001b[0m clean_exit \u001b[38;5;241m=\u001b[39m \u001b[38;5;28;01mTrue\u001b[39;00m\n",
      "File \u001b[0;32m~/workspace/LLM/Langchain/llm/lib/python3.10/site-packages/urllib3/connectionpool.py:534\u001b[0m, in \u001b[0;36mHTTPConnectionPool._make_request\u001b[0;34m(self, conn, method, url, body, headers, retries, timeout, chunked, response_conn, preload_content, decode_content, enforce_content_length)\u001b[0m\n\u001b[1;32m    532\u001b[0m \u001b[38;5;66;03m# Receive the response from the server\u001b[39;00m\n\u001b[1;32m    533\u001b[0m \u001b[38;5;28;01mtry\u001b[39;00m:\n\u001b[0;32m--> 534\u001b[0m     response \u001b[38;5;241m=\u001b[39m \u001b[43mconn\u001b[49m\u001b[38;5;241;43m.\u001b[39;49m\u001b[43mgetresponse\u001b[49m\u001b[43m(\u001b[49m\u001b[43m)\u001b[49m\n\u001b[1;32m    535\u001b[0m \u001b[38;5;28;01mexcept\u001b[39;00m (BaseSSLError, \u001b[38;5;167;01mOSError\u001b[39;00m) \u001b[38;5;28;01mas\u001b[39;00m e:\n\u001b[1;32m    536\u001b[0m     \u001b[38;5;28mself\u001b[39m\u001b[38;5;241m.\u001b[39m_raise_timeout(err\u001b[38;5;241m=\u001b[39me, url\u001b[38;5;241m=\u001b[39murl, timeout_value\u001b[38;5;241m=\u001b[39mread_timeout)\n",
      "File \u001b[0;32m~/workspace/LLM/Langchain/llm/lib/python3.10/site-packages/urllib3/connection.py:516\u001b[0m, in \u001b[0;36mHTTPConnection.getresponse\u001b[0;34m(self)\u001b[0m\n\u001b[1;32m    513\u001b[0m _shutdown \u001b[38;5;241m=\u001b[39m \u001b[38;5;28mgetattr\u001b[39m(\u001b[38;5;28mself\u001b[39m\u001b[38;5;241m.\u001b[39msock, \u001b[38;5;124m\"\u001b[39m\u001b[38;5;124mshutdown\u001b[39m\u001b[38;5;124m\"\u001b[39m, \u001b[38;5;28;01mNone\u001b[39;00m)\n\u001b[1;32m    515\u001b[0m \u001b[38;5;66;03m# Get the response from http.client.HTTPConnection\u001b[39;00m\n\u001b[0;32m--> 516\u001b[0m httplib_response \u001b[38;5;241m=\u001b[39m \u001b[38;5;28;43msuper\u001b[39;49m\u001b[43m(\u001b[49m\u001b[43m)\u001b[49m\u001b[38;5;241;43m.\u001b[39;49m\u001b[43mgetresponse\u001b[49m\u001b[43m(\u001b[49m\u001b[43m)\u001b[49m\n\u001b[1;32m    518\u001b[0m \u001b[38;5;28;01mtry\u001b[39;00m:\n\u001b[1;32m    519\u001b[0m     assert_header_parsing(httplib_response\u001b[38;5;241m.\u001b[39mmsg)\n",
      "File \u001b[0;32m/usr/lib/python3.10/http/client.py:1375\u001b[0m, in \u001b[0;36mHTTPConnection.getresponse\u001b[0;34m(self)\u001b[0m\n\u001b[1;32m   1373\u001b[0m \u001b[38;5;28;01mtry\u001b[39;00m:\n\u001b[1;32m   1374\u001b[0m     \u001b[38;5;28;01mtry\u001b[39;00m:\n\u001b[0;32m-> 1375\u001b[0m         \u001b[43mresponse\u001b[49m\u001b[38;5;241;43m.\u001b[39;49m\u001b[43mbegin\u001b[49m\u001b[43m(\u001b[49m\u001b[43m)\u001b[49m\n\u001b[1;32m   1376\u001b[0m     \u001b[38;5;28;01mexcept\u001b[39;00m \u001b[38;5;167;01mConnectionError\u001b[39;00m:\n\u001b[1;32m   1377\u001b[0m         \u001b[38;5;28mself\u001b[39m\u001b[38;5;241m.\u001b[39mclose()\n",
      "File \u001b[0;32m/usr/lib/python3.10/http/client.py:318\u001b[0m, in \u001b[0;36mHTTPResponse.begin\u001b[0;34m(self)\u001b[0m\n\u001b[1;32m    316\u001b[0m \u001b[38;5;66;03m# read until we get a non-100 response\u001b[39;00m\n\u001b[1;32m    317\u001b[0m \u001b[38;5;28;01mwhile\u001b[39;00m \u001b[38;5;28;01mTrue\u001b[39;00m:\n\u001b[0;32m--> 318\u001b[0m     version, status, reason \u001b[38;5;241m=\u001b[39m \u001b[38;5;28;43mself\u001b[39;49m\u001b[38;5;241;43m.\u001b[39;49m\u001b[43m_read_status\u001b[49m\u001b[43m(\u001b[49m\u001b[43m)\u001b[49m\n\u001b[1;32m    319\u001b[0m     \u001b[38;5;28;01mif\u001b[39;00m status \u001b[38;5;241m!=\u001b[39m CONTINUE:\n\u001b[1;32m    320\u001b[0m         \u001b[38;5;28;01mbreak\u001b[39;00m\n",
      "File \u001b[0;32m/usr/lib/python3.10/http/client.py:279\u001b[0m, in \u001b[0;36mHTTPResponse._read_status\u001b[0;34m(self)\u001b[0m\n\u001b[1;32m    278\u001b[0m \u001b[38;5;28;01mdef\u001b[39;00m\u001b[38;5;250m \u001b[39m\u001b[38;5;21m_read_status\u001b[39m(\u001b[38;5;28mself\u001b[39m):\n\u001b[0;32m--> 279\u001b[0m     line \u001b[38;5;241m=\u001b[39m \u001b[38;5;28mstr\u001b[39m(\u001b[38;5;28;43mself\u001b[39;49m\u001b[38;5;241;43m.\u001b[39;49m\u001b[43mfp\u001b[49m\u001b[38;5;241;43m.\u001b[39;49m\u001b[43mreadline\u001b[49m\u001b[43m(\u001b[49m\u001b[43m_MAXLINE\u001b[49m\u001b[43m \u001b[49m\u001b[38;5;241;43m+\u001b[39;49m\u001b[43m \u001b[49m\u001b[38;5;241;43m1\u001b[39;49m\u001b[43m)\u001b[49m, \u001b[38;5;124m\"\u001b[39m\u001b[38;5;124miso-8859-1\u001b[39m\u001b[38;5;124m\"\u001b[39m)\n\u001b[1;32m    280\u001b[0m     \u001b[38;5;28;01mif\u001b[39;00m \u001b[38;5;28mlen\u001b[39m(line) \u001b[38;5;241m>\u001b[39m _MAXLINE:\n\u001b[1;32m    281\u001b[0m         \u001b[38;5;28;01mraise\u001b[39;00m LineTooLong(\u001b[38;5;124m\"\u001b[39m\u001b[38;5;124mstatus line\u001b[39m\u001b[38;5;124m\"\u001b[39m)\n",
      "File \u001b[0;32m/usr/lib/python3.10/socket.py:705\u001b[0m, in \u001b[0;36mSocketIO.readinto\u001b[0;34m(self, b)\u001b[0m\n\u001b[1;32m    703\u001b[0m \u001b[38;5;28;01mwhile\u001b[39;00m \u001b[38;5;28;01mTrue\u001b[39;00m:\n\u001b[1;32m    704\u001b[0m     \u001b[38;5;28;01mtry\u001b[39;00m:\n\u001b[0;32m--> 705\u001b[0m         \u001b[38;5;28;01mreturn\u001b[39;00m \u001b[38;5;28;43mself\u001b[39;49m\u001b[38;5;241;43m.\u001b[39;49m\u001b[43m_sock\u001b[49m\u001b[38;5;241;43m.\u001b[39;49m\u001b[43mrecv_into\u001b[49m\u001b[43m(\u001b[49m\u001b[43mb\u001b[49m\u001b[43m)\u001b[49m\n\u001b[1;32m    706\u001b[0m     \u001b[38;5;28;01mexcept\u001b[39;00m timeout:\n\u001b[1;32m    707\u001b[0m         \u001b[38;5;28mself\u001b[39m\u001b[38;5;241m.\u001b[39m_timeout_occurred \u001b[38;5;241m=\u001b[39m \u001b[38;5;28;01mTrue\u001b[39;00m\n",
      "File \u001b[0;32m/usr/lib/python3.10/ssl.py:1303\u001b[0m, in \u001b[0;36mSSLSocket.recv_into\u001b[0;34m(self, buffer, nbytes, flags)\u001b[0m\n\u001b[1;32m   1299\u001b[0m     \u001b[38;5;28;01mif\u001b[39;00m flags \u001b[38;5;241m!=\u001b[39m \u001b[38;5;241m0\u001b[39m:\n\u001b[1;32m   1300\u001b[0m         \u001b[38;5;28;01mraise\u001b[39;00m \u001b[38;5;167;01mValueError\u001b[39;00m(\n\u001b[1;32m   1301\u001b[0m           \u001b[38;5;124m\"\u001b[39m\u001b[38;5;124mnon-zero flags not allowed in calls to recv_into() on \u001b[39m\u001b[38;5;132;01m%s\u001b[39;00m\u001b[38;5;124m\"\u001b[39m \u001b[38;5;241m%\u001b[39m\n\u001b[1;32m   1302\u001b[0m           \u001b[38;5;28mself\u001b[39m\u001b[38;5;241m.\u001b[39m\u001b[38;5;18m__class__\u001b[39m)\n\u001b[0;32m-> 1303\u001b[0m     \u001b[38;5;28;01mreturn\u001b[39;00m \u001b[38;5;28;43mself\u001b[39;49m\u001b[38;5;241;43m.\u001b[39;49m\u001b[43mread\u001b[49m\u001b[43m(\u001b[49m\u001b[43mnbytes\u001b[49m\u001b[43m,\u001b[49m\u001b[43m \u001b[49m\u001b[43mbuffer\u001b[49m\u001b[43m)\u001b[49m\n\u001b[1;32m   1304\u001b[0m \u001b[38;5;28;01melse\u001b[39;00m:\n\u001b[1;32m   1305\u001b[0m     \u001b[38;5;28;01mreturn\u001b[39;00m \u001b[38;5;28msuper\u001b[39m()\u001b[38;5;241m.\u001b[39mrecv_into(buffer, nbytes, flags)\n",
      "File \u001b[0;32m/usr/lib/python3.10/ssl.py:1159\u001b[0m, in \u001b[0;36mSSLSocket.read\u001b[0;34m(self, len, buffer)\u001b[0m\n\u001b[1;32m   1157\u001b[0m \u001b[38;5;28;01mtry\u001b[39;00m:\n\u001b[1;32m   1158\u001b[0m     \u001b[38;5;28;01mif\u001b[39;00m buffer \u001b[38;5;129;01mis\u001b[39;00m \u001b[38;5;129;01mnot\u001b[39;00m \u001b[38;5;28;01mNone\u001b[39;00m:\n\u001b[0;32m-> 1159\u001b[0m         \u001b[38;5;28;01mreturn\u001b[39;00m \u001b[38;5;28;43mself\u001b[39;49m\u001b[38;5;241;43m.\u001b[39;49m\u001b[43m_sslobj\u001b[49m\u001b[38;5;241;43m.\u001b[39;49m\u001b[43mread\u001b[49m\u001b[43m(\u001b[49m\u001b[38;5;28;43mlen\u001b[39;49m\u001b[43m,\u001b[49m\u001b[43m \u001b[49m\u001b[43mbuffer\u001b[49m\u001b[43m)\u001b[49m\n\u001b[1;32m   1160\u001b[0m     \u001b[38;5;28;01melse\u001b[39;00m:\n\u001b[1;32m   1161\u001b[0m         \u001b[38;5;28;01mreturn\u001b[39;00m \u001b[38;5;28mself\u001b[39m\u001b[38;5;241m.\u001b[39m_sslobj\u001b[38;5;241m.\u001b[39mread(\u001b[38;5;28mlen\u001b[39m)\n",
      "\u001b[0;31mKeyboardInterrupt\u001b[0m: "
     ]
    }
   ],
   "source": [
    "# 주의: 동일 IP 환경에서 동시에 다수 실행하면 차단의 위험이 있음\n",
    "\n",
    "import bs4\n",
    "from langchain_community.document_loaders import WebBaseLoader\n",
    "def get_news_documents(links):\n",
    "    loader = WebBaseLoader(\n",
    "        web_paths=links,\n",
    "        bs_kwargs=dict(\n",
    "            parse_only=bs4.SoupStrainer(\n",
    "                class_=(\"newsct\", \"newsct-body\")\n",
    "                # newsct, newsct-body만 추출 : 도메인마다 다름\n",
    "            )\n",
    "        ),\n",
    "        requests_per_second = 1, # 1초에 1개 요청 보내기\n",
    "        show_progress = True # 진행 상황 출력\n",
    "    )\n",
    "    docs = loader.load()\n",
    "    len(docs)\n",
    "    return docs\n",
    "docs = get_news_documents(filtered_links[:5])"
   ]
  },
  {
   "cell_type": "code",
   "execution_count": 8,
   "metadata": {},
   "outputs": [
    {
     "data": {
      "text/plain": [
       "[Document(metadata={'source': 'https://n.news.naver.com/mnews/article/016/0002437252?sid=105'}, page_content='\\n\\n\\n\\n\\n헤럴드경제\\n\\n헤럴드경제\\n\\n\\n구독\\n\\n헤럴드경제 언론사 구독되었습니다. 메인 뉴스판에서  주요뉴스를  볼 수 있습니다.\\n보러가기\\n\\n\\n헤럴드경제 언론사 구독 해지되었습니다.\\n\\n\\n\\n\\nKIRD, ‘생성형 AI’ 실전 활용 노하우 전수\\n\\n\\n\\n\\n입력2025.03.05. 오전 10:55\\n\\n기사원문\\n \\n\\n\\n\\n\\n구본혁 기자\\n\\nTALK\\n\\n\\n\\n\\n\\n\\n\\n구본혁 기자\\n\\n\\n\\n\\n구본혁 기자\\n\\nTALK\\n구독\\n구독중\\n\\n\\n\\n\\n구독자\\n0\\n\\n\\n응원수\\n0\\n\\n\\n\\n더보기\\n\\n\\n\\n\\n\\n\\n\\n\\n\\n\\n\\n\\n\\n\\n추천\\n\\n\\n\\n\\n쏠쏠정보\\n0\\n\\n\\n\\n\\n흥미진진\\n0\\n\\n\\n\\n\\n공감백배\\n0\\n\\n\\n\\n\\n분석탁월\\n0\\n\\n\\n\\n\\n후속강추\\n0\\n\\n\\n \\n\\n\\n\\n댓글\\n\\n\\n\\n\\n\\n본문 요약봇\\n\\n\\n\\n본문 요약봇도움말\\n자동 추출 기술로 요약된 내용입니다. 요약 기술의 특성상 본문의 주요 내용이 제외될 수 있어, 전체 맥락을 이해하기 위해서는 기사 본문 전체보기를 권장합니다.\\n닫기\\n\\n\\n\\n\\n\\n\\n\\n\\n텍스트 음성 변환 서비스 사용하기\\n\\n\\n\\n성별\\n남성\\n여성\\n\\n\\n말하기 속도\\n느림\\n보통\\n빠름\\n\\n이동 통신망을 이용하여 음성을 재생하면 별도의 데이터 통화료가 부과될 수 있습니다.\\n본문듣기 시작\\n\\n닫기\\n\\n\\n \\n\\n글자 크기 변경하기\\n\\n\\n\\n가1단계\\n작게\\n\\n\\n가2단계\\n보통\\n\\n\\n가3단계\\n크게\\n\\n\\n가4단계\\n아주크게\\n\\n\\n가5단계\\n최대크게\\n\\n\\n\\n\\n\\n\\nSNS 보내기\\n\\n\\n\\n인쇄하기\\n\\n\\n\\n\\n\\n\\n\\n\\n- 교육기획자와 교수자 위한 생성형 AI 활용법 안내책자 발간\\n\\n\\n\\n국가과학기술인력개발원(KIRD) 오창 청사.[헤럴드DB][헤럴드경제=구본혁 기자] # A교수는 본인의 연구분야에 대해 관련 전공 대학원생을 대상으로 한 강의를 의뢰받았다. A교수는 ChatGPT와 같은 생성형 인공지능(AI)을 활용하여 문헌 조사와 강의 내용 구성에 걸리는 시간을 줄이고, 학습자료로 사용할 영상, 이미지를 빠르게 제작해 강의자료와 교재 제작에 대한 부담을 최대한 줄여보고 싶다. 하지만 그는 생성형 AI를 강의 준비에 활용하는 방법을 잘 알지 못해 어떻게 시작해야 할지 고민이다.미국 리서치 업체 Marke.US의 2024년 보고서에 따르면 에듀테크 분야에서 생성형 AI 시장은 연평균 성장률 41%로, 2024년 약 2억 6800만 달러에서 2033년 83억 2400만 달러로 성장할 것으로 예상된다. 이러한 교육 패러다임의 변화 속에서 디지털 도구를 교육에 활용하는 것은 더 이상 선택이 아닌 필수 과제다.국가과학기술인력개발원(KIRD)은 교육 현장에서 생성형 AI를 비롯한 에듀테크를 보다 쉽게 활용할 수 있도록 핵심적 사항을 담은 ‘교육담당자와 교수자를 위한 인공지능 시대 디지털 도구의 활용: 생성형 AI를 중심으로 한 교육과정 개발과 운영 사례’ 실무안내서를 발간했다.이 실무안내서는 ‘생성형 AI 등 디지털 도구의 교육적 활용 방안’과 ‘생성형 AI의 교육과정 개발‧운영 활용 시나리오’의 두 개 파트와 부록으로 구성되어 있다. 첫 번째 파트에서는 학습의 효과를 높이기 위해 디지털 도구를 활용한 교수‧학습‧평가 전략을 제안한다. 이와 함께 양질의 교육과정을 보다 효율적으로 만들기 위한 과정기획, 운영 및 학습자료 제작 방법을 안내한다.두 번째 파트에서는 ChatGPT를 교육 전반에 적용하는 방법을 시나리오로 제시하여 생성형 AI를 처음 활용하는 사람도 쉽게 따라할 수 있는 구체적인 팁을 제공한다. 특히 생성형 AI를 더욱 현명하게 사용하기 위한 ‘ChatGPT 프롬프트 입력 가이드’와 ‘최신 에듀테크 트렌드 및 활용 방안’에 관한 해외 아티클 등의 유용한 정보도 부록으로 담았다.배태민 KIRD 원장은 “이번에 발간된 실무안내서가 교육기관은 물론이고, 연구기관, 대학, 기업 등 다양한 조직이 인공지능을 활용하여 디지털 시대에 맞는 교육 전략 수립을 통해 구성원의 역량을 높이는 데 실질적인 도움이 되기를 기대한다”며 “앞으로도 KIRD가 창의적이고 혁신적인 교육환경을 선도할 수 있도록 최선을 다할 것”이라고 밝혔다.\\n\\n\\n\\n\\n구본혁 nbgkoo@heraldcorp.com\\n\\n\\n\\n\\n기자 프로필\\n\\n\\n\\n\\n\\n\\n\\n\\n헤럴드경제\\n\\n헤럴드경제\\n\\n\\n\\n\\n\\n\\n\\n구본혁 기자\\n\\n\\n\\n\\n\\n\\n구본혁 기자\\n\\n\\n\\n\\n\\nTALK\\n\\n유익하고 소중한 제보를 기다려요!\\n제보\\n\\n닫기\\n\\n\\n\\n\\n구독\\n\\n\\n구독중\\n\\n\\n\\n\\n\\n구독자 0\\n\\n\\n\\n\\n응원수\\n0\\n\\n\\n\\n\\n\\n\\n\\n과학은 헤럴드입니다\\n\\n\\n\\n\\n韓 연구진, 대박 성과…“오류없는 양자컴퓨터 단초 찾았다”\\n\\n\\n“강하면 부러진다? 아니다” 상식 뒤집은 혁신적 기술, 뭐길래\\n\\n\\n\\n\\n\\n\\n\\n헤럴드경제의 구독 많은 기자를 구독해보세요!\\n\\n닫기\\n\\n\\n\\n\\n\\n\\n\\n\\nCopyright ⓒ 헤럴드경제. All rights reserved. 무단 전재 및 재배포 금지.\\n\\n \\n이 기사는 언론사에서 IT 섹션으로 분류했습니다.\\n\\n기사 섹션 분류 안내\\n기사의 섹션 정보는 해당 언론사의 분류를 따르고 있습니다. 언론사는 개별 기사를 2개 이상 섹션으로 중복 분류할 수 있습니다.\\n닫기\\n\\n\\n\\n\\n\\n\\n\\n\\n\\n\\n\\n구독\\n메인에서 바로 보는 언론사 편집 뉴스 지금 바로 구독해보세요!\\n\\n\\n구독중\\n메인에서 바로 보는 언론사 편집 뉴스 지금 바로 확인해보세요!\\n\\n\\n\\n\\n\\n\\n\\n\\n\\n\\n\\n\\n\\nHeralDeep\\nQR 코드를 클릭하면 크게 볼 수 있어요.\\n\\n\\n\\nQR을 촬영해보세요.\\nHeralDeep\\n\\n\\n\\n\\n\\n\\n\\n\\n\\n\\n닫기\\n\\n\\n\\n\\n\\n\\n\\n\\n\\n이원율의 후암동미술관\\nQR 코드를 클릭하면 크게 볼 수 있어요.\\n\\n\\n\\nQR을 촬영해보세요.\\n이원율의 후암동미술관\\n\\n\\n\\n\\n\\n\\n\\n\\n\\n\\n닫기\\n\\n\\n\\n\\n\\n\\n\\n\\n\\n\\n헤럴드경제\\n\\n헤럴드경제\\n\\n\\t\\t\\t주요뉴스해당 언론사에서 선정하며 언론사 페이지(아웃링크)로 이동해 볼 수 있습니다.\\n\\n\\n\\'블랙핑크 팬\\' 봉준호, 인종차별주의 논란? 뭐길래…\\n\"우버기사 폭행해줘!\"…\\'병역 기피\\' 이어 \\'살인 미수\\' 혐의로 체포된 유명 배우\\n\"이게 다 가짜?\" 유튜버 되고 싶어 별짓 다 하더니…단돈 3000원에 양심 팔았다\\n장제원 \"성폭력 고소는 거짓…당 잠시 떠나겠다\"\\n이수지 \\'대치맘\\' 패러디, 풍자? 조롱?…실제 대치맘들 반응 들어보니\\n\\n\\n\\n\\n\\n\\n\\n\\n이 기사를 추천합니다\\n\\n\\n기사 추천은 24시간 내 50회까지 참여할 수 있습니다.\\n닫기\\n\\n\\n\\n\\n\\n\\n쏠쏠정보\\n0\\n\\n\\n\\n\\n흥미진진\\n0\\n\\n\\n\\n\\n공감백배\\n0\\n\\n\\n\\n\\n분석탁월\\n0\\n\\n\\n\\n\\n후속강추\\n0\\n\\n\\n \\n\\n\\n\\n\\n\\n\\n\\n\\n\\n\\n\\n\\n\\n\\n\\n\\n\\n\\n모두에게 보여주고 싶은 기사라면?beta\\n\\n이 기사를 추천합니다 버튼을 눌러주세요.  집계 기간 동안 추천을 많이 받은 기사는 네이버 자동 기사배열 영역에 추천 요소로 활용됩니다.\\n\\n레이어 닫기\\n\\n\\n \\n\\n\\n헤럴드경제 언론사가 직접 선정한 이슈\\n\\t\\t\\t\\n\\n\\n\\n\\n\\n\\n\\n\\n이슈\\n한국 증시 어디로\\n\\n\\n\\n“대장주라 믿었는데”···트럼프 취임 후 기술주 7% ‘뚝’·반도체 ETF도 흘러내렸다\\n\\n\\n\\n\\n\\n\\n\\n\\n\\n\\n이슈\\n트럼프 2.0\\n\\n\\n\\n“트럼프, 4일 의회 연설 때 광물협정 합의 발표 원해”\\n\\n\\n\\n\\n\\n\\n\\n\\n\\n\\n이슈\\n반도체 전쟁\\n\\n\\n\\n여야 협의체 6일 개최…반도체법·연금·추경 논의\\n\\n\\n\\n\\n\\n\\n\\n\\n\\n\\n이슈\\n탄핵정국\\n\\n\\n\\n국방부, 비상계엄 관련 간부 추가 직무정지 착수\\n\\n\\n\\n\\n\\n\\n\\n\\n\\n\\n\\n이전\\n\\n\\n다음\\n\\n\\n\\n\\n\\n\\n헤럴드경제 언론사홈 바로가기\\n\\n\\n \\n\\n\\n\\n\\n\\n기자 구독 후 기사보기\\n\\n\\n\\n구독 없이 계속 보기\\n\\n\\n\\n\\n'),\n",
       " Document(metadata={'source': 'https://n.news.naver.com/mnews/article/003/0013093522?sid=104'}, page_content='\\n\\n\\n\\n\\n뉴시스\\n\\n뉴시스\\n\\n\\n구독\\n\\n뉴시스 언론사 구독되었습니다. 메인 뉴스판에서  주요뉴스를  볼 수 있습니다.\\n보러가기\\n\\n\\n뉴시스 언론사 구독 해지되었습니다.\\n\\n\\n\\n\\nPICK\\n안내\\n\\n\\n언론사가 주요기사로선정한 기사입니다.\\n언론사별 바로가기\\n닫기\\n\\n\\n\\n\\n오픈AI 논리적 사고 추가한 GPT-4.5 서비스 출시\\n\\n\\n\\n\\n입력2025.02.28. 오전 9:27\\n\\n\\n수정2025.02.28. 오전 11:03\\n\\n기사원문\\n \\n\\n\\n\\n\\n강영진 기자\\n\\n\\n\\n\\n\\n\\n\\n\\n강영진 기자\\n\\n\\n\\n\\n강영진 기자\\n\\n구독\\n구독중\\n\\n\\n\\n\\n구독자\\n0\\n\\n\\n응원수\\n0\\n\\n\\n\\n더보기\\n\\n\\n\\n\\n\\n\\n\\n\\n\\n\\n\\n\\n\\n\\n추천\\n\\n\\n\\n\\n쏠쏠정보\\n0\\n\\n\\n\\n\\n흥미진진\\n0\\n\\n\\n\\n\\n공감백배\\n0\\n\\n\\n\\n\\n분석탁월\\n0\\n\\n\\n\\n\\n후속강추\\n0\\n\\n\\n \\n\\n\\n\\n댓글\\n\\n\\n\\n\\n\\n본문 요약봇\\n\\n\\n\\n본문 요약봇도움말\\n자동 추출 기술로 요약된 내용입니다. 요약 기술의 특성상 본문의 주요 내용이 제외될 수 있어, 전체 맥락을 이해하기 위해서는 기사 본문 전체보기를 권장합니다.\\n닫기\\n\\n\\n\\n\\n\\n\\n\\n\\n텍스트 음성 변환 서비스 사용하기\\n\\n\\n\\n성별\\n남성\\n여성\\n\\n\\n말하기 속도\\n느림\\n보통\\n빠름\\n\\n이동 통신망을 이용하여 음성을 재생하면 별도의 데이터 통화료가 부과될 수 있습니다.\\n본문듣기 시작\\n\\n닫기\\n\\n\\n \\n\\n글자 크기 변경하기\\n\\n\\n\\n가1단계\\n작게\\n\\n\\n가2단계\\n보통\\n\\n\\n가3단계\\n크게\\n\\n\\n가4단계\\n아주크게\\n\\n\\n가5단계\\n최대크게\\n\\n\\n\\n\\n\\n\\nSNS 보내기\\n\\n\\n\\n인쇄하기\\n\\n\\n\\n\\n\\n\\n\\n\\n대언어모델에 논리적 사고 추가한 방식사용자 요청을 깊이 이해하는 능력 강화인간 사고와 유사…프로그램 코딩 특히 유용\\n\\n\\n\\n[보스턴=AP/뉴시스]챗GPT 인공지능 서비스를 제공하는 오픈AI의 로고. 대언어모델(LLM)에 논리적 사고 단계를 추가한 GPT-4.5가 새로 출시됐다. 2025.2.28.[서울=뉴시스] 강영진 기자 = 챗GPT 인공지능(AI)을 서비스하는 오픈AI가 GPT-4.5 모델을 출시했다고 미 뉴욕타임스(NYT)가 27일(현지시각) 보도했다. 오픈AI는 GPT-4.5 모델이 “연쇄 사고 추론(chain-of-thought reasoning)”을 하지 않는 최신 모델이라고 밝혔다. 이는 AI 기술이 새 단계로 변화하고 있음을 뜻한다.  GPT-4.5는 질문에 즉각적으로 답하지 않고 사람처럼 상당 시간 숙고하는 과정을 거치게 된다. 미아 글랜스 오픈AI 연구 부사장은 “새 모델은 직관적이며 자연스러운 대화를 할 수 있는 점이 기존 모델과 다르다. 사용자 요청에 대해 더 깊이 이해하는 능력이 커졌다”고 말했다. 오픈AI는 지난해 수학, 코딩, 과학 분야의 작업을 논리적으로 해내도록 설계된 오픈AI o1이라는 기술을 도입했다. 보다 복잡한 문제들을 해결하는 인공지능을 구축하기 위해서다. 미국의 구글과 메타, 중국의 딥시크 등 다른 인공지능 기업들도 이 기술 개발에 집중하고 있다. 오픈AI o1 기술은 문제 해결의 각 단계가 유기적으로 연계되도록 하는데 초점을 맞추고 있다. 전단계의 해결 방안을 기반으로 해 다음 단계의 과제를 논리적으로 해결하는 시스템이다. 기존 AI보다는 인간의 사고와 훨씬 유사할 수 있다. AI로 프로그램 코딩을 하는데 특히 유용하다. 다만 오픈AI o1도 GPT-4.5와 같은 대언어모델(LLM) 기술을 기반으로 한다.  대언어모델은 인터넷에서 방대한 양의 텍스트를 수집해 텍스트의 패턴을 분석해 스스로 텍스트를 생성하는 방법을 학습하는 방식이다. 오픈AI o1 기술은 기존의 대언어모델에 논리적 사고를 추가한다. 예를 들어, 수학 문제를 반복적으로 풀어보면서 어떤 방법이 정답을 도출하는 데 효과적인지, 어떤 방법이 그렇지 않은지를 배울 수 있다. 이렇게 많은 문제를 다루다 보면 특정한 패턴을 식별할 수 있다.이 기술은 대언어모델을 훈련하는데 필요한 인터넷 데이터가 부족해지면서 변화가 불가피해진데 따라 도입된 것이다. 논리적 사고 시스템은 기존 대언어모델보다 많은 문제 해결에서 성능이 뛰어난 경우가 많다. 그러나 모든 경우에 월등하게 작동할 것인 지는 아직 미지수다.  전문가들은 논리적 사고 시스템과 인간의 사고가 유사하지 않을 수 있다고 지적한다. 기존 대언어모델 기술처럼 오류를 일으키는 \"환각(hallucination)\" 현상을 일으킬 수 있다는 것이다. 오픈AI는 목요일부터 월 200 달러(약 2만9000 원)의 요금을 내는 ChatGPT Pro 구독자들을 대상으로 GPT-4.5 서비스를 적용할 것이라고 밝혔다．\\n\\n\\n\\n\\n강영진 기자(yjkang1@newsis.com)\\n\\n\\n\\n\\n기자 프로필\\n\\n\\n\\n\\n\\n\\n\\n\\n뉴시스\\n\\n뉴시스\\n\\n\\n\\n\\n\\n\\n\\n강영진 기자\\n\\n\\n\\n\\n\\n\\n강영진 기자\\n\\n\\n\\n\\n\\n\\n구독\\n\\n\\n구독중\\n\\n\\n\\n\\n\\n구독자 0\\n\\n\\n\\n\\n응원수\\n0\\n\\n\\n\\n\\n\\n\\n\\n안녕하세요. 뉴시스 강영진 기자입니다.\\n\\n\\n\\n\\n[속보]젤렌스키, \"안보 보장 없으면 푸틴과 평화협상 참여 않겠다\"\\n\\n\\n미 전 국방장관 5명, 트럼프 고위 장성 전격 해임 비난 서한\\n\\n\\n\\n\\n\\n\\n\\n뉴시스의 구독 많은 기자를 구독해보세요!\\n\\n닫기\\n\\n\\n\\n\\n\\n\\n\\n\\nCopyright ⓒ 뉴시스. All rights reserved. 무단 전재 및 재배포 금지.\\n\\n \\n이 기사는 언론사에서 세계, IT, 경제 섹션으로 분류했습니다.\\n\\n기사 섹션 분류 안내\\n기사의 섹션 정보는 해당 언론사의 분류를 따르고 있습니다. 언론사는 개별 기사를 2개 이상 섹션으로 중복 분류할 수 있습니다.\\n닫기\\n\\n\\n\\n\\n\\n\\n\\n\\n\\n\\n\\n구독\\n메인에서 바로 보는 언론사 편집 뉴스 지금 바로 구독해보세요!\\n\\n\\n구독중\\n메인에서 바로 보는 언론사 편집 뉴스 지금 바로 확인해보세요!\\n\\n\\n\\n\\n\\n\\n\\n\\n\\n\\n\\n\\n\\n네이버 메인에서 뉴시스 구독하세요\\nQR 코드를 클릭하면 크게 볼 수 있어요.\\n\\n\\n\\nQR을 촬영해보세요.\\n네이버 메인에서 뉴시스 구독하세요\\n\\n\\n\\n\\n\\n\\n\\n\\n\\n\\n닫기\\n\\n\\n\\n\\n\\n\\n\\n\\n\\n스타들이 빛나는 순간엔 \\'N샷\\'\\nQR 코드를 클릭하면 크게 볼 수 있어요.\\n\\n\\n\\nQR을 촬영해보세요.\\n스타들이 빛나는 순간엔 \\'N샷\\'\\n\\n\\n\\n\\n\\n\\n\\n\\n\\n\\n닫기\\n\\n\\n\\n\\n\\n\\n\\n\\n\\n\\n뉴시스\\n\\n뉴시스\\n\\n\\t\\t\\t주요뉴스해당 언론사에서 선정하며 언론사 페이지(아웃링크)로 이동해 볼 수 있습니다.\\n\\n\\n숨진 북한군 \"나는 당을 배신했다\"…유품엔 삼성폰\\n이이경 사기 피해…\"5억 빚에 이자 200만원 숨 막혀\"\\n결혼 6년차 강남 \"정자 검사서 하위 10%…냉동했다\"\\n구준엽, 故서희원 유해 자택 보관…이웃들 항의\\n류승연 \"숨 멎은 채 태어난 아들, 발달장애\"\\n\\n\\n\\n\\n\\n\\n\\n\\n이 기사를 추천합니다\\n\\n\\n기사 추천은 24시간 내 50회까지 참여할 수 있습니다.\\n닫기\\n\\n\\n\\n\\n\\n\\n쏠쏠정보\\n0\\n\\n\\n\\n\\n흥미진진\\n0\\n\\n\\n\\n\\n공감백배\\n0\\n\\n\\n\\n\\n분석탁월\\n0\\n\\n\\n\\n\\n후속강추\\n0\\n\\n\\n \\n\\n\\n\\n\\n\\n\\n\\n\\n\\n\\n\\n\\n\\n\\n\\n\\n\\n\\n모두에게 보여주고 싶은 기사라면?beta\\n\\n이 기사를 추천합니다 버튼을 눌러주세요.  집계 기간 동안 추천을 많이 받은 기사는 네이버 자동 기사배열 영역에 추천 요소로 활용됩니다.\\n\\n레이어 닫기\\n\\n\\n \\n\\n\\n뉴시스 언론사가 직접 선정한 이슈\\n\\t\\t\\t\\n\\n\\n\\n\\n\\n\\n\\n\\n이슈\\n관세 전쟁\\n\\n\\n\\n트럼프 \\'韓 관세 4배\\' 발언…통상전문가 \"관세 조절로 통상전략 짜야\"\\n\\n\\n\\n\\n\\n\\n\\n\\n\\n\\n이슈\\n우크라 종전 협상\\n\\n\\n\\n\\'긴박한 정세\\'…美·英 국방장관, 6일 美서 우크라 논의\\n\\n\\n\\n\\n\\n\\n\\n\\n\\n\\n이슈\\n의대증원 갈등\\n\\n\\n\\n텅 빈 의대 강의실에 일부 대학 개강 연기…\"제적·강요 이중고\\'\\n\\n\\n\\n\\n\\n\\n\\n\\n\\n\\n이슈\\nMWC25\\n\\n\\n\\n애플 공동 창업자 \"AI, 오픈소스로 가야…범죄 악용 막을 규제도 필요\"\\n\\n\\n\\n\\n\\n\\n\\n\\n\\n\\n이슈\\n대전 초등생 피살\\n\\n\\n\\n故김하늘양 살해 여교사 상태 호전…대면조사·영장집행 검토\\n\\n\\n\\n\\n\\n\\n\\n\\n\\n\\n\\n이전\\n\\n\\n다음\\n\\n\\n\\n\\n\\n\\n뉴시스 언론사홈 바로가기\\n\\n\\n \\n\\n\\n\\n\\n\\n기자 구독 후 기사보기\\n\\n\\n\\n구독 없이 계속 보기\\n\\n\\n\\n\\n'),\n",
       " Document(metadata={'source': 'https://n.news.naver.com/mnews/article/015/0005100302?sid=105'}, page_content='\\n\\n\\n\\n\\n한국경제\\n\\n한국경제\\n\\n\\n구독\\n\\n한국경제 언론사 구독되었습니다. 메인 뉴스판에서  주요뉴스를  볼 수 있습니다.\\n보러가기\\n\\n\\n한국경제 언론사 구독 해지되었습니다.\\n\\n\\n\\n\\n방통위, 챗GPT 이용한도·해지 제한 위법성 조사\\n\\n\\n\\n\\n입력2025.02.27. 오후 6:07\\n\\n기사원문\\n \\n\\n\\n\\n\\n오세성 기자\\n\\n\\n\\n\\n\\n\\n\\n\\n오세성 기자\\n\\n\\n\\n\\n오세성 기자\\n\\n구독\\n구독중\\n\\n\\n\\n\\n구독자\\n0\\n\\n\\n응원수\\n0\\n\\n\\n\\n더보기\\n\\n\\n\\n\\n\\n\\n\\n\\n\\n\\n\\n\\n\\n\\n추천\\n\\n\\n\\n\\n쏠쏠정보\\n0\\n\\n\\n\\n\\n흥미진진\\n0\\n\\n\\n\\n\\n공감백배\\n0\\n\\n\\n\\n\\n분석탁월\\n0\\n\\n\\n\\n\\n후속강추\\n0\\n\\n\\n \\n\\n\\n\\n댓글\\n\\n\\n\\n\\n\\n본문 요약봇\\n\\n\\n\\n본문 요약봇도움말\\n자동 추출 기술로 요약된 내용입니다. 요약 기술의 특성상 본문의 주요 내용이 제외될 수 있어, 전체 맥락을 이해하기 위해서는 기사 본문 전체보기를 권장합니다.\\n닫기\\n\\n\\n\\n\\n\\n\\n\\n\\n텍스트 음성 변환 서비스 사용하기\\n\\n\\n\\n성별\\n남성\\n여성\\n\\n\\n말하기 속도\\n느림\\n보통\\n빠름\\n\\n이동 통신망을 이용하여 음성을 재생하면 별도의 데이터 통화료가 부과될 수 있습니다.\\n본문듣기 시작\\n\\n닫기\\n\\n\\n \\n\\n글자 크기 변경하기\\n\\n\\n\\n가1단계\\n작게\\n\\n\\n가2단계\\n보통\\n\\n\\n가3단계\\n크게\\n\\n\\n가4단계\\n아주크게\\n\\n\\n가5단계\\n최대크게\\n\\n\\n\\n\\n\\n\\nSNS 보내기\\n\\n\\n\\n인쇄하기\\n\\n\\n\\n\\n\\n\\n\\n\\n\\n\\n\\n\\n사진=REUTERS정부가 오픈AI의 생성형 인공지능(AI) 챗GPT에 대해 현행법 위반 여부를 조사한다.방송통신위원회는 챗GPT의 전기통신사업법 위반 여부에 대한 사실조사에 착수했다고 27일 밝혔다.유료서비스 이용자의 이용 한도 제한과 서비스 해지 제한 행위가 조사 대상이다. 사전에 이용자에게 충분히 설명하고 동의를 구했는지, 즉각적인 해지와 환불을 제공하는지 조사할 것으로 알려졌다.사실조사 후 위반 행위가 확인되면 상임위 전체회의 의결을 거쳐 시정명령이나 과징금 부과 등 조치를 취할 수 있다. 과징금은 서비스 매출액을 기준으로 일정 비율로 계산할 수 있어 수백억원대 과징금이 나올 수 있다는 관측도 나온다.방통위는 지난해 10월 인앱결제 문제로 구글에 475억원, 애플에 205억원의 과징금을 부과하겠다고 발표한 바 있다.\\n\\n\\n\\n\\n오세성 한경닷컴 기자 sesung@hankyung.com\\n\\n\\n\\n\\n기자 프로필\\n\\n\\n\\n\\n\\n\\n\\n\\n한국경제\\n\\n한국경제\\n\\n\\n\\n\\n\\n\\n\\n오세성 기자\\n\\n\\n\\n\\n\\n\\n오세성 기자\\n\\n\\n\\n\\n\\n\\n구독\\n\\n\\n구독중\\n\\n\\n\\n\\n\\n구독자 0\\n\\n\\n\\n\\n응원수\\n0\\n\\n\\n\\n\\n\\n\\n\\n한경닷컴에서 부동산 취재를 맡고 있습니다.\\n\\n\\n\\n\\n조영구 \\'주식 부자\\' 도전 물거품…영구크린 결국 상장 포기\\n\\n\\n\"요즘 줄 서서 집 보러 다녀요\"…뒤집힌 분위기에 \\'당혹\\' [집값 변곡점이 왔다 中]\\n\\n\\n\\n\\n\\n\\n\\n한국경제의 구독 많은 기자를 구독해보세요!\\n\\n닫기\\n\\n\\n\\n\\n\\n\\n\\n\\nCopyright ⓒ 한국경제. All rights reserved. 무단 전재 및 재배포 금지.\\n\\n \\n이 기사는 언론사에서 IT 섹션으로 분류했습니다.\\n\\n기사 섹션 분류 안내\\n기사의 섹션 정보는 해당 언론사의 분류를 따르고 있습니다. 언론사는 개별 기사를 2개 이상 섹션으로 중복 분류할 수 있습니다.\\n닫기\\n\\n\\n\\n\\n\\n\\n\\n\\n\\n\\n\\n구독\\n메인에서 바로 보는 언론사 편집 뉴스 지금 바로 구독해보세요!\\n\\n\\n구독중\\n메인에서 바로 보는 언론사 편집 뉴스 지금 바로 확인해보세요!\\n\\n\\n\\n\\n\\n\\n\\n\\n\\n\\n\\n\\n\\n2025년 을사년 신년운세…지금 바로 확인!\\nQR 코드를 클릭하면 크게 볼 수 있어요.\\n\\n\\n\\nQR을 촬영해보세요.\\n2025년 을사년 신년운세…지금 바로 확인!\\n\\n\\n\\n\\n\\n\\n\\n\\n\\n\\n닫기\\n\\n\\n\\n\\n\\n\\n\\n\\n\\n성공하는 사람들의 필수 습관, 한경×스픽\\nQR 코드를 클릭하면 크게 볼 수 있어요.\\n\\n\\n\\nQR을 촬영해보세요.\\n성공하는 사람들의 필수 습관, 한경×스픽\\n\\n\\n\\n\\n\\n\\n\\n\\n\\n\\n닫기\\n\\n\\n\\n\\n\\n\\n\\n\\n\\n\\n한국경제\\n\\n한국경제\\n\\n\\t\\t\\t주요뉴스해당 언론사에서 선정하며 언론사 페이지(아웃링크)로 이동해 볼 수 있습니다.\\n\\n\\n\"계약금 2배 물어주고 취소\"…난리 난 동네\\n\"월세만큼 나왔어요\"…난방비 폭탄에 \\'비명\\'\\n日 직장인 좋겠네…대놓고 \\'사내 연애\\' 했더니\\n\"기안84 같은 사람이 한둘이냐\"…초대박\\n\"딩크였으면 5억 모았는데\"…아빠의 \\'후회\\'\\n\\n\\n\\n\\n\\n\\n\\n\\n이 기사를 추천합니다\\n\\n\\n기사 추천은 24시간 내 50회까지 참여할 수 있습니다.\\n닫기\\n\\n\\n\\n\\n\\n\\n쏠쏠정보\\n0\\n\\n\\n\\n\\n흥미진진\\n0\\n\\n\\n\\n\\n공감백배\\n0\\n\\n\\n\\n\\n분석탁월\\n0\\n\\n\\n\\n\\n후속강추\\n0\\n\\n\\n \\n\\n\\n\\n\\n\\n\\n\\n\\n\\n\\n\\n\\n\\n\\n\\n\\n\\n\\n모두에게 보여주고 싶은 기사라면?beta\\n\\n이 기사를 추천합니다 버튼을 눌러주세요.  집계 기간 동안 추천을 많이 받은 기사는 네이버 자동 기사배열 영역에 추천 요소로 활용됩니다.\\n\\n레이어 닫기\\n\\n\\n \\n\\n\\n한국경제 언론사가 직접 선정한 이슈\\n\\t\\t\\t\\n\\n\\n\\n\\n\\n\\n\\n\\n이슈\\n트럼프 2.0 시대\\n\\n\\n\\n트럼프 한마디에 \\'초긴장\\'…반도체업계 \"관세율, 보조금 폐지 촉각\"\\n\\n\\n\\n\\n\\n\\n\\n\\n\\n\\n이슈\\n尹 탄핵 정국\\n\\n\\n\\n\\'尹 탄핵심판\\' 선고 앞두고 모인 종교계 \"헌재 결정 승복해야\"\\n\\n\\n\\n\\n\\n\\n\\n\\n\\n\\n이슈\\n우크라 종전 임박\\n\\n\\n\\n美-우크라 광물협정 임박…젤렌스키 \"서명 준비됐다\"\\n\\n\\n\\n\\n\\n\\n\\n\\n\\n\\n\\n이전\\n\\n\\n다음\\n\\n\\n\\n\\n\\n\\n한국경제 언론사홈 바로가기\\n\\n\\n \\n\\n\\n\\n\\n\\n기자 구독 후 기사보기\\n\\n\\n\\n구독 없이 계속 보기\\n\\n\\n\\n\\n'),\n",
       " Document(metadata={'source': 'https://n.news.naver.com/mnews/article/015/0005100456?sid=105'}, page_content='\\n\\n\\n\\n\\n한국경제\\n\\n한국경제\\n\\n\\n구독\\n\\n한국경제 언론사 구독되었습니다. 메인 뉴스판에서  주요뉴스를  볼 수 있습니다.\\n보러가기\\n\\n\\n한국경제 언론사 구독 해지되었습니다.\\n\\n\\n\\n\\n\"챗GPT·제미나이와 경쟁한다\"…메타, \\'AI 앱\\' 2분기 출시\\n\\n\\n\\n\\n입력2025.02.28. 오전 9:29\\n\\n기사원문\\n \\n\\n\\n\\n\\n박수빈 기자\\n\\n\\n\\n\\n\\n\\n\\n\\n박수빈 기자\\n\\n\\n\\n\\n박수빈 기자\\n\\n구독\\n구독중\\n\\n\\n\\n\\n구독자\\n0\\n\\n\\n응원수\\n0\\n\\n\\n\\n더보기\\n\\n\\n\\n\\n\\n\\n\\n\\n\\n\\n\\n\\n\\n\\n추천\\n\\n\\n\\n\\n쏠쏠정보\\n0\\n\\n\\n\\n\\n흥미진진\\n0\\n\\n\\n\\n\\n공감백배\\n0\\n\\n\\n\\n\\n분석탁월\\n0\\n\\n\\n\\n\\n후속강추\\n0\\n\\n\\n \\n\\n\\n\\n댓글\\n\\n\\n\\n\\n\\n본문 요약봇\\n\\n\\n\\n본문 요약봇도움말\\n자동 추출 기술로 요약된 내용입니다. 요약 기술의 특성상 본문의 주요 내용이 제외될 수 있어, 전체 맥락을 이해하기 위해서는 기사 본문 전체보기를 권장합니다.\\n닫기\\n\\n\\n\\n\\n\\n\\n\\n\\n텍스트 음성 변환 서비스 사용하기\\n\\n\\n\\n성별\\n남성\\n여성\\n\\n\\n말하기 속도\\n느림\\n보통\\n빠름\\n\\n이동 통신망을 이용하여 음성을 재생하면 별도의 데이터 통화료가 부과될 수 있습니다.\\n본문듣기 시작\\n\\n닫기\\n\\n\\n \\n\\n글자 크기 변경하기\\n\\n\\n\\n가1단계\\n작게\\n\\n\\n가2단계\\n보통\\n\\n\\n가3단계\\n크게\\n\\n\\n가4단계\\n아주크게\\n\\n\\n가5단계\\n최대크게\\n\\n\\n\\n\\n\\n\\nSNS 보내기\\n\\n\\n\\n인쇄하기\\n\\n\\n\\n\\n\\n\\n\\n\\n마크 저커버그 \"올해 안에 AI 선두 주자\"\\n\\n\\n\\n소셜미디어 업체 메타의 로고 뒤로 마크 저커버그 최고경영자(CEO)의 모습이 비치고 있다. 사진=AFP연합뉴스메타가 생성형 인공지능(AI) 챗봇인 메타 AI를 독립 앱으로 출시해 챗GPT, 제미나이와 경쟁할 예정이다.페이스북 모회사 메타플랫폼이 자사의 AI 챗봇 메타 AI를 독립적인 앱으로 출시할 예정이라고 미 경제 매체 CNBC 방송이 27일(현지시간) 보도했다. 메타 AI 앱이 2분기 중 출시될 예정이며, 이 프로젝트는 내부적으로 비밀리에 추진되고 있다고 전했다.2023년 9월 처음 선보인 메타 AI는 사용자 프롬프트를 기반으로 답변을 제공하고 이미지를 생성하는 생성형 AI 기반 비서다. 이 챗봇은 챗GPT 등 다른 AI 모델이 독립 앱으로 운영되는 것과 달리 페이스북과 왓츠앱 등 메타가 운영하는 소셜미디어(SNS)에 접목돼 대화와 검색 기능 등을 제공해 왔다.메타 AI 독립 앱 출시는 오픈AI의 챗GPT나 구글의 제미나이 등과 경쟁하는 것으로 풀이된다. CNBC 방송은 메타 AI 앱 출시는 마크 저커버그 최고경영자(CEO)가 경쟁사를 앞질러 올해 안에 AI 분야의 선두 주자가 되겠다는 목표를 향한 중요한 단계로 평가된다고 짚었다.그는 지난달 분기 실적 발표 당시 \"올해는 지능적이고 개인화된 AI 비서가 10억 명 이상의 사람들에게 도달하는 해가 될 것\"이라며 \"나는 메타 AI가 그 선두 주자가 될 것으로 기대한다\"고 말한 바 있다. 메타 AI의 월간활성사용자(MAU) 수는 약 7억명에 달한다.그는 또 지난달 스레드의 한 이용자가 \"메타 AI의 독립 앱이 필요하다\"는 의견에 \\'완전 동의\\'의 반응을 나타낸 바 있다. 메타는 오픈AI와 구글이 고급 기능을 유료 서비스로 제공하는 것과 같이 메타 AI에도 유료 구독 서비스를 도입할 계획인 것으로 알려졌다.\\n\\n\\n\\n\\n박수빈 한경닷컴 기자 waterbean@hankyung.com\\n\\n\\n\\n\\n기자 프로필\\n\\n\\n\\n\\n\\n\\n\\n\\n한국경제\\n\\n한국경제\\n\\n\\n\\n\\n\\n\\n\\n박수빈 기자\\n\\n\\n\\n\\n\\n\\n박수빈 기자\\n\\n\\n\\n\\n\\n\\n구독\\n\\n\\n구독중\\n\\n\\n\\n\\n\\n구독자 0\\n\\n\\n\\n\\n응원수\\n0\\n\\n\\n\\n\\n\\n\\n\\n\\n\\n한국에선 155만원인데…아이폰 사러 일본 갔다가 \\'깜짝\\'\\n\\n\\n\"엔비디아 충격 여파\"…시총 4위 암호화폐 리플 2달러대 기록\\n\\n\\n\\n\\n\\n\\n\\n한국경제의 구독 많은 기자를 구독해보세요!\\n\\n닫기\\n\\n\\n\\n\\n\\n\\n\\n\\nCopyright ⓒ 한국경제. All rights reserved. 무단 전재 및 재배포 금지.\\n\\n \\n이 기사는 언론사에서 IT 섹션으로 분류했습니다.\\n\\n기사 섹션 분류 안내\\n기사의 섹션 정보는 해당 언론사의 분류를 따르고 있습니다. 언론사는 개별 기사를 2개 이상 섹션으로 중복 분류할 수 있습니다.\\n닫기\\n\\n\\n\\n\\n\\n\\n\\n\\n\\n\\n\\n구독\\n메인에서 바로 보는 언론사 편집 뉴스 지금 바로 구독해보세요!\\n\\n\\n구독중\\n메인에서 바로 보는 언론사 편집 뉴스 지금 바로 확인해보세요!\\n\\n\\n\\n\\n\\n\\n\\n\\n\\n\\n\\n\\n\\n2025년 을사년 신년운세…지금 바로 확인!\\nQR 코드를 클릭하면 크게 볼 수 있어요.\\n\\n\\n\\nQR을 촬영해보세요.\\n2025년 을사년 신년운세…지금 바로 확인!\\n\\n\\n\\n\\n\\n\\n\\n\\n\\n\\n닫기\\n\\n\\n\\n\\n\\n\\n\\n\\n\\n성공하는 사람들의 필수 습관, 한경×스픽\\nQR 코드를 클릭하면 크게 볼 수 있어요.\\n\\n\\n\\nQR을 촬영해보세요.\\n성공하는 사람들의 필수 습관, 한경×스픽\\n\\n\\n\\n\\n\\n\\n\\n\\n\\n\\n닫기\\n\\n\\n\\n\\n\\n\\n\\n\\n\\n\\n한국경제\\n\\n한국경제\\n\\n\\t\\t\\t주요뉴스해당 언론사에서 선정하며 언론사 페이지(아웃링크)로 이동해 볼 수 있습니다.\\n\\n\\n한강 안 보여도 \\'55억\\'…심상치 않은 강남 집값\\n\"카카오는 올랐다는데 우리는\"…개미 \\'날벼락\\'\\n\\'포도계의 에르메스\\'라더니…국민 과일 됐다\\n\"10만원은 내야지\"…상사 외조모상 갔다 \\'분통\\'\\n\"매형이 농사 안 도와줘서\"…흉기 꺼낸 60대\\n\\n\\n\\n\\n\\n\\n\\n\\n이 기사를 추천합니다\\n\\n\\n기사 추천은 24시간 내 50회까지 참여할 수 있습니다.\\n닫기\\n\\n\\n\\n\\n\\n\\n쏠쏠정보\\n0\\n\\n\\n\\n\\n흥미진진\\n0\\n\\n\\n\\n\\n공감백배\\n0\\n\\n\\n\\n\\n분석탁월\\n0\\n\\n\\n\\n\\n후속강추\\n0\\n\\n\\n \\n\\n\\n\\n\\n\\n\\n\\n\\n\\n\\n\\n\\n\\n\\n\\n\\n\\n\\n모두에게 보여주고 싶은 기사라면?beta\\n\\n이 기사를 추천합니다 버튼을 눌러주세요.  집계 기간 동안 추천을 많이 받은 기사는 네이버 자동 기사배열 영역에 추천 요소로 활용됩니다.\\n\\n레이어 닫기\\n\\n\\n \\n\\n\\n한국경제 언론사가 직접 선정한 이슈\\n\\t\\t\\t\\n\\n\\n\\n\\n\\n\\n\\n\\n이슈\\n트럼프 2.0 시대\\n\\n\\n\\n트럼프 한마디에 \\'초긴장\\'…반도체업계 \"관세율, 보조금 폐지 촉각\"\\n\\n\\n\\n\\n\\n\\n\\n\\n\\n\\n이슈\\n尹 탄핵 정국\\n\\n\\n\\n\\'尹 탄핵심판\\' 선고 앞두고 모인 종교계 \"헌재 결정 승복해야\"\\n\\n\\n\\n\\n\\n\\n\\n\\n\\n\\n이슈\\n우크라 종전 임박\\n\\n\\n\\n美-우크라 광물협정 임박…젤렌스키 \"서명 준비됐다\"\\n\\n\\n\\n\\n\\n\\n\\n\\n\\n\\n\\n이전\\n\\n\\n다음\\n\\n\\n\\n\\n\\n\\n한국경제 언론사홈 바로가기\\n\\n\\n \\n\\n\\n\\n\\n\\n기자 구독 후 기사보기\\n\\n\\n\\n구독 없이 계속 보기\\n\\n\\n\\n\\n'),\n",
       " Document(metadata={'source': 'https://n.news.naver.com/mnews/article/374/0000427476?sid=101'}, page_content='\\n\\n\\n\\n\\nSBS Biz\\n\\nSBS Biz\\n\\n\\n구독\\n\\nSBS Biz 언론사 구독되었습니다. 메인 뉴스판에서  주요뉴스를  볼 수 있습니다.\\n보러가기\\n\\n\\nSBS Biz 언론사 구독 해지되었습니다.\\n\\n\\n\\n\\n카카오, LLM \\'카나나 플래그\\' 개발완료…경량모델 오픈소스 배포\\n\\n\\n\\n\\n입력2025.02.27. 오후 1:31\\n\\n기사원문\\n \\n\\n\\n\\n\\n김동필 기자\\n\\nTALK\\n\\n\\n\\n\\n\\n\\n\\n김동필 기자\\n\\n\\n\\n\\n김동필 기자\\n\\nTALK\\n구독\\n구독중\\n\\n\\n\\n\\n구독자\\n0\\n\\n\\n응원수\\n0\\n\\n\\n\\n더보기\\n\\n\\n\\n\\n\\n\\n\\n\\n\\n\\n\\n\\n\\n\\n추천\\n\\n\\n\\n\\n쏠쏠정보\\n0\\n\\n\\n\\n\\n흥미진진\\n0\\n\\n\\n\\n\\n공감백배\\n0\\n\\n\\n\\n\\n분석탁월\\n0\\n\\n\\n\\n\\n후속강추\\n0\\n\\n\\n \\n\\n\\n\\n댓글\\n\\n\\n\\n\\n\\n본문 요약봇\\n\\n\\n\\n본문 요약봇도움말\\n자동 추출 기술로 요약된 내용입니다. 요약 기술의 특성상 본문의 주요 내용이 제외될 수 있어, 전체 맥락을 이해하기 위해서는 기사 본문 전체보기를 권장합니다.\\n닫기\\n\\n\\n\\n\\n\\n\\n\\n\\n텍스트 음성 변환 서비스 사용하기\\n\\n\\n\\n성별\\n남성\\n여성\\n\\n\\n말하기 속도\\n느림\\n보통\\n빠름\\n\\n이동 통신망을 이용하여 음성을 재생하면 별도의 데이터 통화료가 부과될 수 있습니다.\\n본문듣기 시작\\n\\n닫기\\n\\n\\n \\n\\n글자 크기 변경하기\\n\\n\\n\\n가1단계\\n작게\\n\\n\\n가2단계\\n보통\\n\\n\\n가3단계\\n크게\\n\\n\\n가4단계\\n아주크게\\n\\n\\n가5단계\\n최대크게\\n\\n\\n\\n\\n\\n\\nSNS 보내기\\n\\n\\n\\n인쇄하기\\n\\n\\n\\n\\n\\n\\n\\n\\n\\n\\n\\n\\n카카오는 자체 개발한 초거대 언어모델(LLM) 카나나 플래그의 개발을 완료했다고 오늘(27일) 밝혔습니다. 이에 따라 카카오는 작년 10월 개발자 컨퍼런스 ‘if(kakaoAI)2024’에서 공개한 ‘카나나 언어모델’의 전체 라인업(Kanana Flag, Essence, Nano)을 모두 구축하게 됐습니다.카카오는 오늘 자체 개발 언어모델 카나나의 연구 성과를 담은 테크니컬 리포트를 아카이브에 공개했습니다. 이와 함께 경량 언어모델인 \\'카나나 나노 2.1B\\' 모델을 오픈소스로 깃허브(GitHub)에 배포했습니다.테크니컬 리포트는 매개변수와 학습 방법, 학습 데이터 등 세부 사항을 담아낸 AI 논문입니다. 카카오는 이번 리포트에 다양한 사이즈에 이르는 카나나 언어모델 전체의 트레이닝 전 과정을 자세히 담았다고 설명했습니다. 카나나 모델의 구조, 학습 전략, 그리고 글로벌 벤치마크에서의 성과도 확인할 수 있습니다.카카오의 LLM인 카나나 플래그의 학습도 작년말 끝났습니다. 카카오는 \"카나나 플래그는 글로벌 최고 수준의 한국어·영어 성능을 달성, 한국어 성능 평가 벤치마크에서 타 모델을 압도하는 처리 능력을 입증했다\"라면서 \"영어성능에서도 경쟁 모델과 유사한 성과를 기록했다\"라고 강조했습니다.카카오는 향후 카나나 모델에 강화 학습과 연속 학습 기반의 최신 기술을 접목해 추론, 수학, 코딩 능력을 강화하고, 정렬 기술을 고도화해 사용자 요청의 수행 정확도를 높일 계획입니다. 이를 통해 음성, 이미지, 영상 등 다양한 형태로 소통 가능하도록 지속적 모델 고도화를 이어간다는 구상입니다.카카오는 또 이날 카나나 나노 2.1B의 베이스 모델과 인스트럭트 모델, 임베딩 모델을 오픈소스 커뮤니티 깃허브에 공개했습니다.해당 모델이 연구자와 개발자가 활용하기 적절한 크기이고, 온디바이스 환경에서도 활용 가능한 고성능의 경량 모델이면서도 유사한 크기의 글로벌 모델에 견줄 만한 성능을 자랑한다는 게 카카오의 설명입니다. 카카오는 이번 오픈소스 공개를 통해 AI 기술의 접근성을 높이고자 하며, 연구자와 개발자들이 해당 모델을 토대로 다양한 응용을 시도할 수 있도록 모델의 업데이트를 지속 지원할 계획입니다.김병학 카나나 성과 리더는 \"모델 최적화와 경량화 기술을 바탕으로 라마, 젬마 등 글로벌 AI 모델과 견줄 수 있는 고성능의 자체 언어모델 라인업을 효율적으로 확보하게 됐다\"라면서 \"이번 오픈소스 공개를 통해 국내 AI 생태계 활성화에 기여할 수 있을 것으로 기대한다\"라고 말했습니다.\\xa0당신의 제보가 뉴스로 만들어집니다.SBS Biz는 여러분의 제보를 기다리고 있습니다.홈페이지 = https://url.kr/9pghjn\\n\\n\\n\\n\\n김동필 기자(feel@sbs.co.kr)\\n\\n\\n\\n\\n기자 프로필\\n\\n\\n\\n\\n\\n\\n\\n\\nSBS Biz\\n\\nSBS Biz\\n\\n\\n\\n\\n\\n\\n\\n김동필 기자\\n\\n\\n\\n\\n\\n\\n김동필 기자\\n\\n\\n\\n\\n\\nTALK\\n\\n유익하고 소중한 제보를 기다려요!\\n제보\\n\\n닫기\\n\\n\\n\\n\\n구독\\n\\n\\n구독중\\n\\n\\n\\n\\n\\n구독자 0\\n\\n\\n\\n\\n응원수\\n0\\n\\n\\n\\n\\n\\n\\n\\n안녕하세요. 김동필 기자입니다.\\n\\n\\n\\n\\n\\'이천 쌀집\\' 통큰 보너스…직원 통장에 600만원 꽂혔다\\n\\n\\n\\'입사하면 애부터 낳을까\\'…출산하면 1억 주는 게임회사\\n\\n\\n\\n\\n\\n\\n\\nSBS Biz의 구독 많은 기자를 구독해보세요!\\n\\n닫기\\n\\n\\n\\n\\n\\n\\n\\n\\nCopyright ⓒ SBS Biz. All rights reserved. 무단 전재 및 재배포 금지.\\n\\n \\n이 기사는 언론사에서 경제 섹션으로 분류했습니다.\\n\\n기사 섹션 분류 안내\\n기사의 섹션 정보는 해당 언론사의 분류를 따르고 있습니다. 언론사는 개별 기사를 2개 이상 섹션으로 중복 분류할 수 있습니다.\\n닫기\\n\\n\\n\\n\\n\\n\\n\\n\\n\\n\\n\\n구독\\n메인에서 바로 보는 언론사 편집 뉴스 지금 바로 구독해보세요!\\n\\n\\n구독중\\n메인에서 바로 보는 언론사 편집 뉴스 지금 바로 확인해보세요!\\n\\n\\n\\n\\n\\n\\n\\n\\n\\n\\n오늘 많이 본 기사 바로가기\\n\\n\\n\\n\\nSBS Biz에 제보하기\\n\\n\\n\\n\\n\\n\\n\\n\\nSBS Biz\\n\\nSBS Biz\\n\\n\\t\\t\\t주요뉴스해당 언론사에서 선정하며 언론사 페이지(아웃링크)로 이동해 볼 수 있습니다.\\n\\n\\n강남 3구 닯아가네…\\'마·용·성\\' 신고가 거래 속출\\n집 없는 설움 커진다…대출 축소·심사 강화\\n환율 잠잠해져도…올 하반기 물가 오른다고?\\n美 엔비디아, 예상치 상회 실적…매출 78% 증가\\n\\'대치맘 차\\' 포르쉐, 판매 부진에 다각화 투자 나선다\\n\\n\\n\\n\\n\\n\\n\\n\\n이 기사를 추천합니다\\n\\n\\n기사 추천은 24시간 내 50회까지 참여할 수 있습니다.\\n닫기\\n\\n\\n\\n\\n\\n\\n쏠쏠정보\\n0\\n\\n\\n\\n\\n흥미진진\\n0\\n\\n\\n\\n\\n공감백배\\n0\\n\\n\\n\\n\\n분석탁월\\n0\\n\\n\\n\\n\\n후속강추\\n0\\n\\n\\n \\n\\n\\n\\n\\n\\n\\n\\n\\n\\n\\n\\n\\n\\n\\n\\n\\n\\n\\n모두에게 보여주고 싶은 기사라면?beta\\n\\n이 기사를 추천합니다 버튼을 눌러주세요.  집계 기간 동안 추천을 많이 받은 기사는 네이버 자동 기사배열 영역에 추천 요소로 활용됩니다.\\n\\n레이어 닫기\\n\\n\\n \\n\\n\\nSBS Biz 언론사홈 바로가기\\n\\n\\n \\n\\n\\n\\n\\n\\n기자 구독 후 기사보기\\n\\n\\n\\n구독 없이 계속 보기\\n\\n\\n\\n\\n')]"
      ]
     },
     "execution_count": 8,
     "metadata": {},
     "output_type": "execute_result"
    }
   ],
   "source": [
    "docs"
   ]
  },
  {
   "cell_type": "code",
   "execution_count": 5,
   "metadata": {
    "id": "6nS6WnJa3WTL"
   },
   "outputs": [
    {
     "name": "stdout",
     "output_type": "stream",
     "text": [
      "[Document(metadata={'source': 'https://n.news.naver.com/mnews/article/003/0013092974?sid=105'}, page_content='\\n\\n\\n\\n\\n뉴시스\\n\\n뉴시스\\n\\n\\n구독\\n\\n뉴시스 언론사 구독되었습니다. 메인 뉴스판에서  주요뉴스를  볼 수 있습니다.\\n보러가기\\n\\n\\n뉴시스 언론사 구독 해지되었습니다.\\n\\n\\n\\n\\n챗GPT, 유료서비스도 한도 제한?…방통위, 법 위반 여부 살핀다(종합)\\n\\n\\n\\n\\n입력2025.02.27. 오후 5:15\\n\\n\\n수정2025.02.27. 오후 5:16\\n\\n기사원문\\n \\n\\n윤현성 기자\\n박은비 기자\\n\\n\\n\\n\\n\\n\\n\\n\\n윤현성 기자\\n\\n\\n\\n\\n윤현성 기자\\n\\n구독\\n구독중\\n\\n\\n\\n\\n구독자\\n0\\n\\n\\n응원수\\n0\\n\\n\\n\\n더보기\\n\\n\\n\\n\\n\\n\\n\\n박은비 기자\\n\\n\\n\\n\\n박은비 기자\\n\\n구독\\n구독중\\n\\n\\n\\n\\n구독자\\n0\\n\\n\\n응원수\\n0\\n\\n\\n\\n더보기\\n\\n\\n\\n\\n\\n\\n\\n\\n\\n\\n\\n\\n\\n\\n추천\\n\\n\\n\\n\\n쏠쏠정보\\n0\\n\\n\\n\\n\\n흥미진진\\n0\\n\\n\\n\\n\\n공감백배\\n0\\n\\n\\n\\n\\n분석탁월\\n0\\n\\n\\n\\n\\n후속강추\\n0\\n\\n\\n \\n\\n\\n\\n댓글\\n\\n\\n\\n\\n\\n본문 요약봇\\n\\n\\n\\n본문 요약봇도움말\\n자동 추출 기술로 요약된 내용입니다. 요약 기술의 특성상 본문의 주요 내용이 제외될 수 있어, 전체 맥락을 이해하기 위해서는 기사 본문 전체보기를 권장합니다.\\n닫기\\n\\n\\n\\n\\n\\n\\n\\n\\n텍스트 음성 변환 서비스 사용하기\\n\\n\\n\\n성별\\n남성\\n여성\\n\\n\\n말하기 속도\\n느림\\n보통\\n빠름\\n\\n이동 통신망을 이용하여 음성을 재생하면 별도의 데이터 통화료가 부과될 수 있습니다.\\n본문듣기 시작\\n\\n닫기\\n\\n\\n \\n\\n글자 크기 변경하기\\n\\n\\n\\n가1단계\\n작게\\n\\n\\n가2단계\\n보통\\n\\n\\n가3단계\\n크게\\n\\n\\n가4단계\\n아주크게\\n\\n\\n가5단계\\n최대크게\\n\\n\\n\\n\\n\\n\\nSNS 보내기\\n\\n\\n\\n인쇄하기\\n\\n\\n\\n\\n\\n\\n\\n\\n방통위, 챗GPT 유료서비스 대상 사실조사…전통법 위반 점검챗GPT 플러스, 월 20달러 유료 구독해도 시간당 이용횟수 제한유료 구독 시 \\'모든 것이 무료\\' 안내…유료 구독 중도해지도 안돼\\n\\n\\n\\n[웨스트체스터=AP/뉴시스]한 컴퓨터 모니터에 \\'챗GPT\\' 로고가 표출되고 있다. 2023.12.06.[서울=뉴시스]윤현성 박은비 기자 = 방송통신위원회가 오픈AI의 인공지능(AI) 챗봇 \\'챗GPT\\'에 대한 사실조사에 나선다. 챗GPT 유료서비스의 현행 전기통신사업법 위반 여부를 살핀다는 목표다. 방통위는 챗GPT 유료서비스를 이용할 경우에도 서비스 이용에 제한이 있다는 점을 이용자들에게 제대로 고지했는지, 서비스 구독 해지 등이 적법하게 이뤄지고 있는 지를 점검할 것으로 보인다.방통위는 \"챗GPT 유료서비스 이용자의 서비스 이용한도 제한 및 이용자의 해지제한 행위에 대해 전기통신사업법 위반 여부에 대한 사실조사를 착수했다\"고 27일 밝혔다. 방통위는 이번 사실조사를 통해 챗GPT의 법 위반 여부 등을 살핀다는 계획이다.방통위와 챗GPT 운영사인 오픈AI 측은 이번 사실조사와 관련해 조사 진행 일정, 조사 대상 등을 명확하게 밝히지 않고 있다. 챗GPT의 이용 약관 등을 살펴보면 월 20달러의 \\'챗GPT 플러스\\' 서비스를 유료 구독해도 AI 챗봇 사용에 제약이 가해진다. 고성능 AI 모델인 GPT-4o는 3시간당 80번, GPT-4는 3시간당 40번, 추론형 모델인 o1-미니는 일당 50번, o1은 주당 50번 등 사용횟수에 제약이 있다.방통위는 이같은 챗GPT 유료서비스의 제약이 전기통신사업법 제50조를 위반하는지 살펴볼 것으로 전망된다. 해당 법 조항은 이용자 이익을 해칠 수 있는 행위를 금지하고 있다. 하위 조항을 살펴보면 이용자에게 이용요금·약정조건 등 중요사항을 설명하지 않거나 거짓 설명하는 행위를 금지하고 있다.실제로 챗GPT 유료 서비스를 구독해보면 이같은 이용 한도 제한에 대한 고지가 명확히 안내되지 않고, 오픈AI의 자사 서비스 관련 이용 약관에도 별도로 명시돼있지 않은 상황이다. 챗GPT 플러스 구독 시에는 되려 \\'모든 것이 무료\\'라고 안내하고 있다.\\n\\n\\n\\n챗GPT 유료 서비스 구독 안내창. (사진=챗GPT 홈페이지 캡처) *재판매 및 DB 금지이용자가 챗GPT 유료서비스 구독을 해지할 경우 즉각 해지·환불이 이뤄지지 않는 것도 문제가 될 소지가 있다. 현재 챗GPT 유료서비스는 구독을 해지할 경우 즉시 해지 및 환불이 되지 않는다. 다음 결제일까지 유료서비스가 적용되고 그 후 구독 정지가 적용되는 식이다. 이용자가 유료서비스 이용을 원하지 않아도 중도해지가 되지 않고 강제적으로 서비스 이용을 지속하게 되는 셈이다.지난해 국내 온라인동영상서비스(OTT), 음원 스트리밍 플랫폼들이 이처럼 즉시 구독 해지를 지원하지 않자 공정거래위원회는 이들 업체가 소비자의 중도 해지권을 침해한 것으로 보고 시정조치를 요구한 바 있다. 전기통신사업법에 따르면 방통위는 신고나 인지에 의해 사업자가 법령을 위반한 행위가 있다고 인정하면 이를 확인하기 위해 필요한 조사를 진행할 수 있다. 사실조사 결과 위반 행위가 확인되면 방통위 전체회의 의결을 거쳐 시정명령, 과징금 부과 등을 내릴 수 있다.이와 관련해 오픈AI 측은 \"현재 구체적으로 밝힐 수 있는 내용은 없다. 사실조사가 진행되면 성실하게 임할 것\"이라고 전했다.\\n\\n\\n\\n\\n윤현성 기자(hsyhs@newsis.com)\\n박은비 기자(silverline@newsis.com)\\n\\n\\n\\n\\n기자 프로필\\n\\n\\n\\n\\n\\n\\n\\n\\n뉴시스\\n\\n뉴시스\\n\\n\\n\\n\\n\\n\\n\\n윤현성 기자\\n\\n\\n\\n\\n\\n\\n윤현성 기자\\n\\n\\n\\n\\n\\n\\n구독\\n\\n\\n구독중\\n\\n\\n\\n\\n\\n구독자 0\\n\\n\\n\\n\\n응원수\\n0\\n\\n\\n\\n\\n\\n\\n\\n안녕하세요, 뉴시스 윤현성 기자입니다.\\n\\n\\n\\n\\n\"이게 카메라야 폰이야\"…샤오미, 괴물 카메라폰 꺼냈다[MWC25]\\n\\n\\n1억원 웃도는데 2시간 만에 1만대 팔렸다?…샤오미 전기차 \\'SU7 울트라\\' 실물[MWC25]\\n\\n\\n\\n\\n\\n\\n\\n\\n\\n\\n\\n뉴시스\\n\\n뉴시스\\n\\n\\n\\n\\n\\n\\n\\n박은비 기자\\n\\n\\n\\n\\n\\n\\n박은비 기자\\n\\n\\n\\n\\n\\n\\n구독\\n\\n\\n구독중\\n\\n\\n\\n\\n\\n구독자 0\\n\\n\\n\\n\\n응원수\\n0\\n\\n\\n\\n\\n\\n\\n\\n\\n\\nSKT, 아이폰16e 국내 정식 출시…출고가 99만원부터\\n\\n\\n삼성 갤럭시Z 플립7, 전작보다 커진다…주름도 눈에 띄게 줄어\\n\\n\\n\\n\\n\\n\\n\\n뉴시스의 구독 많은 기자를 구독해보세요!\\n\\n닫기\\n\\n\\n\\n\\n\\n\\n\\n\\nCopyright ⓒ 뉴시스. All rights reserved. 무단 전재 및 재배포 금지.\\n\\n \\n이 기사는 언론사에서 IT, 경제 섹션으로 분류했습니다.\\n\\n기사 섹션 분류 안내\\n기사의 섹션 정보는 해당 언론사의 분류를 따르고 있습니다. 언론사는 개별 기사를 2개 이상 섹션으로 중복 분류할 수 있습니다.\\n닫기\\n\\n\\n\\n\\n\\n\\n\\n\\n\\n\\n\\n구독\\n메인에서 바로 보는 언론사 편집 뉴스 지금 바로 구독해보세요!\\n\\n\\n구독중\\n메인에서 바로 보는 언론사 편집 뉴스 지금 바로 확인해보세요!\\n\\n\\n\\n\\n\\n\\n\\n\\n\\n\\n\\n\\n\\n네이버 메인에서 뉴시스 구독하세요\\nQR 코드를 클릭하면 크게 볼 수 있어요.\\n\\n\\n\\nQR을 촬영해보세요.\\n네이버 메인에서 뉴시스 구독하세요\\n\\n\\n\\n\\n\\n\\n\\n\\n\\n\\n닫기\\n\\n\\n\\n\\n\\n\\n\\n\\n\\n스타들이 빛나는 순간엔 \\'N샷\\'\\nQR 코드를 클릭하면 크게 볼 수 있어요.\\n\\n\\n\\nQR을 촬영해보세요.\\n스타들이 빛나는 순간엔 \\'N샷\\'\\n\\n\\n\\n\\n\\n\\n\\n\\n\\n\\n닫기\\n\\n\\n\\n\\n\\n\\n\\n\\n\\n\\n뉴시스\\n\\n뉴시스\\n\\n\\t\\t\\t주요뉴스해당 언론사에서 선정하며 언론사 페이지(아웃링크)로 이동해 볼 수 있습니다.\\n\\n\\n\"구준엽, 서희원 전남편에게 100억 받아야\"\\n카이스트생 허성범 \"지드래곤 교수, 홍보역할 잘해\"\\n장동건♥고소영 딸, 벌써 이렇게 컸어?…아이돌 미모\\n아내 손에 숨진 1타강사…\"집안 서열 개보다 낮아\"\\n임창정 아내 서하얀, 안타까운 건강 상태\\n\\n\\n\\n\\n\\n\\n\\n\\n이 기사를 추천합니다\\n\\n\\n기사 추천은 24시간 내 50회까지 참여할 수 있습니다.\\n닫기\\n\\n\\n\\n\\n\\n\\n쏠쏠정보\\n0\\n\\n\\n\\n\\n흥미진진\\n0\\n\\n\\n\\n\\n공감백배\\n0\\n\\n\\n\\n\\n분석탁월\\n0\\n\\n\\n\\n\\n후속강추\\n0\\n\\n\\n \\n\\n\\n\\n\\n\\n\\n\\n\\n\\n\\n\\n\\n\\n\\n\\n\\n\\n\\n모두에게 보여주고 싶은 기사라면?beta\\n\\n이 기사를 추천합니다 버튼을 눌러주세요.  집계 기간 동안 추천을 많이 받은 기사는 네이버 자동 기사배열 영역에 추천 요소로 활용됩니다.\\n\\n레이어 닫기\\n\\n\\n \\n\\n\\n뉴시스 언론사가 직접 선정한 이슈\\n\\t\\t\\t\\n\\n\\n\\n\\n\\n\\n\\n\\n이슈\\n관세 전쟁\\n\\n\\n\\n트럼프발 관세 전쟁 격화에도 코스피·코스닥 상승\\n\\n\\n\\n\\n\\n\\n\\n\\n\\n\\n이슈\\n우크라 종전 협상\\n\\n\\n\\n與유용원 \"우크라 추가 파병 북한군 1500명, 전장 투입\"\\n\\n\\n\\n\\n\\n\\n\\n\\n\\n\\n이슈\\n대전 초등생 피살\\n\\n\\n\\n故김하늘양 살해 여교사 상태 호전…대면조사·영장집행 검토\\n\\n\\n\\n\\n\\n\\n\\n\\n\\n\\n이슈\\n尹탄핵 정국\\n\\n\\n\\n서울청장 직대 \"헌재 시위 계속…주변 학교 안전관리 만전\"\\n\\n\\n\\n\\n\\n\\n\\n\\n\\n\\n이슈\\nMWC25\\n\\n\\n\\n\"美 기술만 사용하지 말라\" 권고한 佛 미스트랄AI CEO, 왜?\\n\\n\\n\\n\\n\\n\\n\\n\\n\\n\\n\\n이전\\n\\n\\n다음\\n\\n\\n\\n\\n\\n\\n뉴시스 언론사홈 바로가기\\n\\n\\n \\n\\n\\n\\n\\n\\n기자 구독 후 기사보기\\n\\n\\n\\n구독 없이 계속 보기\\n\\n\\n\\n\\n'), Document(metadata={'source': 'https://n.news.naver.com/mnews/article/028/0002733918?sid=101'}, page_content='\\n\\n\\n\\n\\n한겨레\\n\\n한겨레\\n\\n\\n구독\\n\\n한겨레 언론사 구독되었습니다. 메인 뉴스판에서  주요뉴스를  볼 수 있습니다.\\n보러가기\\n\\n\\n한겨레 언론사 구독 해지되었습니다.\\n\\n\\n\\n\\nLG CNS, AWS와 손잡고 ‘생성형 AI 협력 조직’ 출범\\n\\n\\n\\n\\n입력2025.03.04. 오후 2:04\\n\\n\\n수정2025.03.04. 오후 2:06\\n\\n기사원문\\n \\n\\n\\n\\n\\n박지영 기자\\n\\n\\n\\n\\n\\n\\n\\n\\n박지영 기자\\n\\n\\n\\n\\n박지영 기자\\n\\n구독\\n구독중\\n\\n\\n\\n\\n구독자\\n0\\n\\n\\n응원수\\n0\\n\\n\\n\\n더보기\\n\\n\\n\\n\\n\\n\\n\\n\\n\\n\\n\\n\\n\\n\\n추천\\n\\n\\n\\n\\n쏠쏠정보\\n0\\n\\n\\n\\n\\n흥미진진\\n0\\n\\n\\n\\n\\n공감백배\\n0\\n\\n\\n\\n\\n분석탁월\\n0\\n\\n\\n\\n\\n후속강추\\n0\\n\\n\\n \\n\\n\\n\\n댓글\\n\\n\\n\\n\\n\\n본문 요약봇\\n\\n\\n\\n본문 요약봇도움말\\n자동 추출 기술로 요약된 내용입니다. 요약 기술의 특성상 본문의 주요 내용이 제외될 수 있어, 전체 맥락을 이해하기 위해서는 기사 본문 전체보기를 권장합니다.\\n닫기\\n\\n\\n\\n\\n\\n\\n\\n\\n텍스트 음성 변환 서비스 사용하기\\n\\n\\n\\n성별\\n남성\\n여성\\n\\n\\n말하기 속도\\n느림\\n보통\\n빠름\\n\\n이동 통신망을 이용하여 음성을 재생하면 별도의 데이터 통화료가 부과될 수 있습니다.\\n본문듣기 시작\\n\\n닫기\\n\\n\\n \\n\\n글자 크기 변경하기\\n\\n\\n\\n가1단계\\n작게\\n\\n\\n가2단계\\n보통\\n\\n\\n가3단계\\n크게\\n\\n\\n가4단계\\n아주크게\\n\\n\\n가5단계\\n최대크게\\n\\n\\n\\n\\n\\n\\nSNS 보내기\\n\\n\\n\\n인쇄하기\\n\\n\\n\\n\\n\\n\\n\\n\\n\\n\\n\\n\\n현신균 엘지 씨엔에스 대표(오른쪽)와 함기호 아마존웹서비스코리아 대표가 ‘AWS|LG CNS 생성형 AI 론치 센터’ 출범식에서 기념사진을 촬영하고 있는 모습. 엘지 씨엔에스 제공엘지 씨엔에스(CNS)가 아마존웹서비스(AWS)와 손잡고 생성형 인공지능(AI) 협력 조직인 ‘AWS|LG CNS 생성형 AI 론치 센터(Gen AI Launch Center)’를 설립했다고 4일 밝혔다.이날 엘지 씨엔에스는 “이 센터는 기술, 비용, 시간 문제로 생성형 AI 서비스 구축에 어려움을 겪는 기업이 보다 쉽게 서비스를 도입할 수 있도록 지원하는 전담조직(TF)”이라며 “생성형 AI, 클라우드 분야의 양사 전문가들이 참여해 인공지능 전환(AX·AI Transformation) 협력을 가속할 것”이라고 밝혔다.센터는 앞으로 기업을 위한 생성형 AI 서비스 100개를 저비용으로 신속하게 구축하는 프로젝트를 진행한다는 계획이다. 엘지 씨엔에스는 “사용자 맞춤형 챗봇, 마케팅 문구·이미지 생성 서비스, 이슈 요약 및 대응체계 수립 등을 지원하는 이슈관리 통합플랫폼 등 생성형 AI 기술이 적용되는 다양한 서비스를 구현할 수 있다”고 설명했다.이를 위해 엘지 씨엔에스는 ‘생성형 AI 퀵 딜리버리’ 체계를 활용한다고도 밝혔다. ‘생성형 AI 퀵 딜리버리’는 기업이 최소한의 기간과 비용으로 생성형 AI 서비스를 기획부터 구현·검증까지 일괄 지원하는 ‘산업·업무 영역별 사용사례(Use Case)’와 ‘AI 솔루션’을 제공한다.현신균 엘지 씨엔에스 최고경영자(CEO)는 “아마존웹서비스와의 협력을 통해 국내 모든 기업의 생성형 AI 도입 문턱을 낮추겠다”며 “앞으로 양사는 생성형 AI 공동사업을 적극 발굴하고, 향후 아시아태평양 및 일본(APJ) 지역으로 시장을 확대해 나갈 것”이라고 밝혔다\\n\\n\\n\\n\\n박지영 기자 jyp@hani.co.kr\\n\\n\\n\\n\\n기자 프로필\\n\\n\\n\\n\\n\\n\\n\\n\\n한겨레\\n\\n한겨레\\n\\n\\n\\n\\n\\n\\n\\n박지영 기자\\n\\n\\n\\n\\n\\n\\n박지영 기자\\n\\n\\n\\n\\n\\n\\n구독\\n\\n\\n구독중\\n\\n\\n\\n\\n\\n구독자 0\\n\\n\\n\\n\\n응원수\\n0\\n\\n\\n\\n\\n\\n\\n\\n안녕하세요, 한겨레신문 박지영 기자입니다.\\n\\n\\n\\n\\n삼겹살 100g에 700원대?…‘삼삼데이’ 맞아 경쟁 치열\\n\\n\\n2주 기다렸는데 쓰질 못하니…‘속터진 온누리’\\n\\n\\n\\n\\n\\n\\n\\n한겨레의 구독 많은 기자를 구독해보세요!\\n\\n닫기\\n\\n\\n\\n\\n\\n\\n\\n\\nⓒ 한겨레신문사 All Rights Reserved. 무단 전재, 재배포, AI 학습 및 활용 금지\\n\\n \\n이 기사는 언론사에서 경제 섹션으로 분류했습니다.\\n\\n기사 섹션 분류 안내\\n기사의 섹션 정보는 해당 언론사의 분류를 따르고 있습니다. 언론사는 개별 기사를 2개 이상 섹션으로 중복 분류할 수 있습니다.\\n닫기\\n\\n\\n\\n\\n\\n\\n\\n\\n\\n\\n\\n구독\\n메인에서 바로 보는 언론사 편집 뉴스 지금 바로 구독해보세요!\\n\\n\\n구독중\\n메인에서 바로 보는 언론사 편집 뉴스 지금 바로 확인해보세요!\\n\\n\\n\\n\\n\\n\\n\\n\\n\\n\\n\\n\\n\\n▶▶한겨레는 함께 민주주의를 지키겠습니다 [한겨레후원]\\nQR 코드를 클릭하면 크게 볼 수 있어요.\\n\\n\\n\\nQR을 촬영해보세요.\\n▶▶한겨레는 함께 민주주의를 지키겠습니다 [한겨레후원]\\n\\n\\n\\n\\n\\n\\n\\n\\n\\n\\n닫기\\n\\n\\n\\n\\n\\n\\n\\n\\n\\n▶▶실시간 뉴스, ‘한겨레 텔레그램 뉴스봇’과 함께!\\nQR 코드를 클릭하면 크게 볼 수 있어요.\\n\\n\\n\\nQR을 촬영해보세요.\\n▶▶실시간 뉴스, ‘한겨레 텔레그램 뉴스봇’과 함께!\\n\\n\\n\\n\\n\\n\\n\\n\\n\\n\\n닫기\\n\\n\\n\\n\\n\\n\\n\\n\\n\\n\\n한겨레\\n\\n한겨레\\n\\n\\t\\t\\t주요뉴스해당 언론사에서 선정하며 언론사 페이지(아웃링크)로 이동해 볼 수 있습니다.\\n\\n\\n검찰 압수수색 당한 공수처 \"윤석열 영장 의혹 해소…사실 아냐\"\\n\"트럼프, 젤렌스키와 설전 뒤 우크라 군사지원 일시중단 지시\"\\n중도층 60% \"국민의힘, 내란동조 세력 맞다\"\\n집 토끼(TK) 쓰담쓰담… [그림판]\\n\\'대마 미수 혐의\\' 이철규 아들 신원특정 50여일 뒤에야 경찰 검거\\n\\n\\n\\n\\n\\n\\n\\n\\n이 기사를 추천합니다\\n\\n\\n기사 추천은 24시간 내 50회까지 참여할 수 있습니다.\\n닫기\\n\\n\\n\\n\\n\\n\\n쏠쏠정보\\n0\\n\\n\\n\\n\\n흥미진진\\n0\\n\\n\\n\\n\\n공감백배\\n0\\n\\n\\n\\n\\n분석탁월\\n0\\n\\n\\n\\n\\n후속강추\\n0\\n\\n\\n \\n\\n\\n\\n\\n\\n\\n\\n\\n\\n\\n\\n\\n\\n\\n\\n\\n\\n\\n모두에게 보여주고 싶은 기사라면?beta\\n\\n이 기사를 추천합니다 버튼을 눌러주세요.  집계 기간 동안 추천을 많이 받은 기사는 네이버 자동 기사배열 영역에 추천 요소로 활용됩니다.\\n\\n레이어 닫기\\n\\n\\n \\n\\n\\n한겨레 언론사가 직접 선정한 이슈\\n\\t\\t\\t\\n\\n\\n\\n\\n\\n\\n\\n\\n이슈\\n12·3 내란사태\\n\\n\\n\\n‘헌재 때려 부수자’는 여권…“거칠어질수록 민심은 부정적”\\n\\n\\n\\n\\n\\n\\n\\n\\n\\n\\n이슈\\n의대 정원 확대\\n\\n\\n\\n의대생 없는 의대 개강…교육부 “휴학 동참 불가”만 되풀이\\n\\n\\n\\n\\n\\n\\n\\n\\n\\n\\n이슈\\n다시 트럼프 시대\\n\\n\\n\\n우크라 지원 끊는 트럼프…‘말 듣든가, 혼자 싸우든가’ 최후통첩\\n\\n\\n\\n\\n\\n\\n\\n\\n\\n\\n이슈\\n김건희 리스크\\n\\n\\n\\n오차범위 넘은 ‘정권교체론’…“김건희 ‘조선일보 폐간’ 발언에 보수 분열”\\n\\n\\n\\n\\n\\n\\n\\n\\n\\n\\n이슈\\n윤 \\'공천개입\\' 의혹 파장\\n\\n\\n\\n‘윤석열 공천개입 스모킹건’ 보도 안 한 조선일보, 이해되십니까\\n\\n\\n\\n\\n\\n\\n\\n\\n\\n\\n\\n이전\\n\\n\\n다음\\n\\n\\n\\n\\n\\n\\n한겨레 언론사홈 바로가기\\n\\n\\n \\n\\n\\n\\n\\n\\n기자 구독 후 기사보기\\n\\n\\n\\n구독 없이 계속 보기\\n\\n\\n\\n\\n'), Document(metadata={'source': 'https://n.news.naver.com/mnews/article/018/0005954105?sid=100'}, page_content='\\n\\n\\n\\n\\n이데일리\\n\\n이데일리\\n\\n\\n구독\\n\\n이데일리 언론사 구독되었습니다. 메인 뉴스판에서  주요뉴스를  볼 수 있습니다.\\n보러가기\\n\\n\\n이데일리 언론사 구독 해지되었습니다.\\n\\n\\n\\n\\n이재명 \"모든 국민 무료로 생성형 AI 쓸 수 있는 기회 만들자\"\\n\\n\\n\\n\\n입력2025.03.02. 오후 1:35\\n\\n기사원문\\n \\n\\n\\n\\n\\n송주오 기자\\n\\n\\n\\n\\n\\n\\n\\n\\n송주오 기자\\n\\n\\n\\n\\n송주오 기자\\n\\n구독\\n구독중\\n\\n\\n\\n\\n구독자\\n0\\n\\n\\n응원수\\n0\\n\\n\\n\\n더보기\\n\\n\\n\\n\\n\\n\\n\\n\\n\\n\\n\\n\\n\\n\\n추천\\n\\n\\n\\n\\n쏠쏠정보\\n0\\n\\n\\n\\n\\n흥미진진\\n0\\n\\n\\n\\n\\n공감백배\\n0\\n\\n\\n\\n\\n분석탁월\\n0\\n\\n\\n\\n\\n후속강추\\n0\\n\\n\\n \\n\\n\\n\\n댓글\\n\\n\\n\\n\\n\\n본문 요약봇\\n\\n\\n\\n본문 요약봇도움말\\n자동 추출 기술로 요약된 내용입니다. 요약 기술의 특성상 본문의 주요 내용이 제외될 수 있어, 전체 맥락을 이해하기 위해서는 기사 본문 전체보기를 권장합니다.\\n닫기\\n\\n\\n\\n\\n\\n\\n\\n\\n텍스트 음성 변환 서비스 사용하기\\n\\n\\n\\n성별\\n남성\\n여성\\n\\n\\n말하기 속도\\n느림\\n보통\\n빠름\\n\\n이동 통신망을 이용하여 음성을 재생하면 별도의 데이터 통화료가 부과될 수 있습니다.\\n본문듣기 시작\\n\\n닫기\\n\\n\\n \\n\\n글자 크기 변경하기\\n\\n\\n\\n가1단계\\n작게\\n\\n\\n가2단계\\n보통\\n\\n\\n가3단계\\n크게\\n\\n\\n가4단계\\n아주크게\\n\\n\\n가5단계\\n최대크게\\n\\n\\n\\n\\n\\n\\nSNS 보내기\\n\\n\\n\\n인쇄하기\\n\\n\\n\\n\\n\\n\\n\\n\\n\\t\\t\\t[이데일리 송주오 기자] 이재명 더불어민주당 대표가 모든 국민이 무료로 생성형 인공지능(AI)을 쓸 수 있는 환경을 만들겠다고 강조했다.\\n\\n\\n\\n이재명 더불어민주당 대표.(사진=더불어민주당)이 대표는 2일 민주연구원의 국민 참여 프로젝트 ‘모두의질문Q’ 대담에서 “당에 AI강국위원회를 만들어 직접 위원장을 맡았다”며 “모든 국민들이 무료로 생성형 인공지능을 쓸 수 있는 기회를 만들고 싶다”고 말했다.이번 대담에는 박태웅 민주연구원 집단지성센터장이 사회를 맡고 이 대표와 하정우 바른기술사회 실현을 위한 국민연합 공동대표, 오혜연 카이스트 인공지능연구원장이 참여했다.이 대표는 이번 대담에서 ‘딥시크 쇼크’를 언급하며 AI 산업 발전 지원 방안에 대해 전문가들의 의견을 경청한 뒤, H100급 GPU의 조속한 확보, 정부 주도의 글로벌 AI 기술 협력 강화 등에 공감을 나타냈다. 또한 본격화될 AI 시대개막에 발맞춰 노동과 교육제도 개선이 필요하다는 점에 대해서도 참석자들은 뜻을 모았다.이 대표는 AI 발달로 인한 생산성 증대를 특정 개인이나 기업이 독점할 가능성을 경계하면서 AI 산업 발전 과정에서 소외되는 계층이 없도록 충실한 사회안전망 구축의 필요성을 역설했다.이 대표는 마무리 발언을 통해 “시의적절한 시점에 AI와 관련해 유익한 자리를 가졌다”면서 “국민 중심 직접 민주주의의 새로운 장으로서 ‘모두의질문Q’의 활약상을 관심을 가지고 지켜보겠다”고 말했다. 한편, 모두의질문Q는 민주연구원 산하의 정책소통플랫폼으로 지난달 7일 공식 출범했다. 플랫폼 결과물은 오는 3월 말 ‘녹서(Green Paper)’로 발간돼 향후 조기대선이 실시될 경우 공약에 활용될 전망이다.이날 기준 모두의질문Q에 접수된 질문은 4700건을 넘었다. 또 실명 가입한 회원도 7000명을 돌파했다. 질문Q레이터(책임의원)들도 담당 분야별로 국민의 질문에 직접 댓글들을 달며 활발하게 활동하고 있는데 현재까지 총 250여건의 답변이 이뤄진 상황이다.\\n\\n\\n\\n\\n송주오(juoh413@edaily.co.kr)\\n\\n\\n\\n\\n기자 프로필\\n\\n\\n\\n\\n\\n\\n\\n\\n이데일리\\n\\n이데일리\\n\\n\\n\\n\\n\\n\\n\\n송주오 기자\\n\\n\\n\\n\\n\\n\\n송주오 기자\\n\\n\\n\\n\\n\\n\\n구독\\n\\n\\n구독중\\n\\n\\n\\n\\n\\n구독자 0\\n\\n\\n\\n\\n응원수\\n0\\n\\n\\n\\n\\n\\n\\n\\n이데일리 금융부 소속입니다. 많은 제보 부탁드립니다. \\n\\n\\n\\n\\n\"유리천장\" \"무슨 소리냐\"…직장인 남녀 \\'동상이몽\\'\\n\\n\\n우리銀 가산금리 0.25%p 전격 인하…파격 조치 배경은\\n\\n\\n\\n\\n\\n\\n\\n이데일리의 구독 많은 기자를 구독해보세요!\\n\\n닫기\\n\\n\\n\\n\\n\\n\\n\\n\\nCopyright ⓒ 이데일리. All rights reserved. 무단 전재 및 재배포 금지.\\n\\n \\n이 기사는 언론사에서 정치 섹션으로 분류했습니다.\\n\\n기사 섹션 분류 안내\\n기사의 섹션 정보는 해당 언론사의 분류를 따르고 있습니다. 언론사는 개별 기사를 2개 이상 섹션으로 중복 분류할 수 있습니다.\\n닫기\\n\\n\\n\\n\\n\\n\\n\\n\\n\\n\\n\\n구독\\n메인에서 바로 보는 언론사 편집 뉴스 지금 바로 구독해보세요!\\n\\n\\n구독중\\n메인에서 바로 보는 언론사 편집 뉴스 지금 바로 확인해보세요!\\n\\n\\n\\n\\n\\n\\n\\n\\n\\n\\n\\n\\n\\n나를 사랑하는 색다른 방법? \\'인스턴트 웰니스\\'\\nQR 코드를 클릭하면 크게 볼 수 있어요.\\n\\n\\n\\nQR을 촬영해보세요.\\n나를 사랑하는 색다른 방법? \\'인스턴트 웰니스\\'\\n\\n\\n\\n\\n\\n\\n\\n\\n\\n\\n닫기\\n\\n\\n\\n\\n\\n\\n2025년 신년운세·토정비결·사주 확인!\\n\\n\\n\\n\\n\\n\\n\\n\\n이데일리\\n\\n이데일리\\n\\n\\t\\t\\t주요뉴스해당 언론사에서 선정하며 언론사 페이지(아웃링크)로 이동해 볼 수 있습니다.\\n\\n\\n신민아, 노후주택 사서 헐더니 100억 대박났다[누구집]\\n일본 여행족 날벼락 소식…세금 16만원 더 낼 판\\n집회 간 정유라 \"尹 부부, 우리 모녀처럼 당하고 있어\"\\n\"따돌림 싫어\"…키 172cm→192cm 수술받은 남성\\n\"재혼한 남편, 골절됐는데 성관계 요구\"…충격받은 아내\\n\\n\\n\\n\\n\\n\\n\\n\\n이 기사를 추천합니다\\n\\n\\n기사 추천은 24시간 내 50회까지 참여할 수 있습니다.\\n닫기\\n\\n\\n\\n\\n\\n\\n쏠쏠정보\\n0\\n\\n\\n\\n\\n흥미진진\\n0\\n\\n\\n\\n\\n공감백배\\n0\\n\\n\\n\\n\\n분석탁월\\n0\\n\\n\\n\\n\\n후속강추\\n0\\n\\n\\n \\n\\n\\n\\n\\n\\n\\n\\n\\n\\n\\n\\n\\n\\n\\n\\n\\n\\n\\n모두에게 보여주고 싶은 기사라면?beta\\n\\n이 기사를 추천합니다 버튼을 눌러주세요.  집계 기간 동안 추천을 많이 받은 기사는 네이버 자동 기사배열 영역에 추천 요소로 활용됩니다.\\n\\n레이어 닫기\\n\\n\\n \\n\\n\\n이데일리 언론사가 직접 선정한 이슈\\n\\t\\t\\t\\n\\n\\n\\n\\n\\n\\n\\n\\n이슈\\n트럼프 2.0 시대\\n\\n\\n\\n미국 조선업 부활 외친 트럼프, 진짜 타깃은 중국?\\n\\n\\n\\n\\n\\n\\n\\n\\n\\n\\n이슈\\n고려아연 경영권 분쟁\\n\\n\\n\\n영풍, 고려아연 경영진에 4005억 손해배상 소송\\n\\n\\n\\n\\n\\n\\n\\n\\n\\n\\n이슈\\n먹거리 물가 빨간불\\n\\n\\n\\n\\'금귤\\' \\'금딸기\\' 됐네…생산자물가 3개월 연속 상승세\\n\\n\\n\\n\\n\\n\\n\\n\\n\\n\\n이슈\\n딥페이크 공포\\n\\n\\n\\n딥페이크 성범죄영상물 대책이후 시정요구 2.5배 증가\\n\\n\\n\\n\\n\\n\\n\\n\\n\\n\\n이슈\\n北 오물풍선 사태\\n\\n\\n\\n국정원 \"\\'백령도서 北오물풍선 드론 격추\\' 보도, 명백한 오보\"\\n\\n\\n\\n\\n\\n\\n\\n\\n\\n\\n\\n이전\\n\\n\\n다음\\n\\n\\n\\n\\n\\n\\n이데일리 언론사홈 바로가기\\n\\n\\n \\n\\n\\n\\n\\n\\n기자 구독 후 기사보기\\n\\n\\n\\n구독 없이 계속 보기\\n\\n\\n\\n\\n'), Document(metadata={'source': 'https://n.news.naver.com/mnews/article/056/0011902997?sid=100'}, page_content='\\n\\n\\n\\n\\nKBS\\n\\nKBS\\n\\n\\n구독\\n\\nKBS 언론사 구독되었습니다. 메인 뉴스판에서  주요뉴스를  볼 수 있습니다.\\n보러가기\\n\\n\\nKBS 언론사 구독 해지되었습니다.\\n\\n\\n\\n\\n이재명 “모든 국민 ‘무료 생성형 AI’ 사용해야…인프라 확충과 제도 개선 집중”\\n\\n\\n\\n\\n입력2025.03.02. 오후 1:44\\n\\n\\n수정2025.03.02. 오후 2:02\\n\\n기사원문\\n \\n\\n\\n\\n\\n원동희 기자\\n\\n\\n\\n\\n\\n\\n\\n\\n원동희 기자\\n\\n\\n\\n\\n원동희 기자\\n\\n구독\\n구독중\\n\\n\\n\\n\\n구독자\\n0\\n\\n\\n응원수\\n0\\n\\n\\n\\n더보기\\n\\n\\n\\n\\n\\n\\n\\n\\n\\n\\n\\n\\n\\n\\n추천\\n\\n\\n\\n\\n쏠쏠정보\\n0\\n\\n\\n\\n\\n흥미진진\\n0\\n\\n\\n\\n\\n공감백배\\n0\\n\\n\\n\\n\\n분석탁월\\n0\\n\\n\\n\\n\\n후속강추\\n0\\n\\n\\n \\n\\n\\n\\n댓글\\n\\n\\n\\n\\n\\n본문 요약봇\\n\\n\\n\\n본문 요약봇도움말\\n자동 추출 기술로 요약된 내용입니다. 요약 기술의 특성상 본문의 주요 내용이 제외될 수 있어, 전체 맥락을 이해하기 위해서는 기사 본문 전체보기를 권장합니다.\\n닫기\\n\\n\\n\\n\\n\\n\\n\\n\\n텍스트 음성 변환 서비스 사용하기\\n\\n\\n\\n성별\\n남성\\n여성\\n\\n\\n말하기 속도\\n느림\\n보통\\n빠름\\n\\n이동 통신망을 이용하여 음성을 재생하면 별도의 데이터 통화료가 부과될 수 있습니다.\\n본문듣기 시작\\n\\n닫기\\n\\n\\n \\n\\n글자 크기 변경하기\\n\\n\\n\\n가1단계\\n작게\\n\\n\\n가2단계\\n보통\\n\\n\\n가3단계\\n크게\\n\\n\\n가4단계\\n아주크게\\n\\n\\n가5단계\\n최대크게\\n\\n\\n\\n\\n\\n\\nSNS 보내기\\n\\n\\n\\n인쇄하기\\n\\n\\n\\n\\n\\n\\n\\n\\n\\n\\n\\n\\n더불어민주당 이재명 대표는 AI 전문가들과 대담을 나누며 전 국민이 무료 생성형 인공지능을 쓸 수 있을 정도로 인프라와 확충과 사회 제도 개선에 집중하겠다고 밝혔습니다. 이재명 대표는 오늘(2일) 오전에 공개된 ‘AI와 대한민국, 그리고 나’를 주제로 전문가들과 나눈 첫 대담에서 “당에 AI 강국위원회를 만들어 직접 위원장을 맡았다”며 “모든 국민들이 무료로 생성형 인공지능(AI)을 쓸 수 있는 기회를 만들고 싶다”고 밝혔습니다. 오늘 공개된 대담엔 네이버 클라우드센터장인 하정우 바른과학기술사회 실현을 위한 국민연합 공동대표와 오혜연 카이스트 AI연구원장이 참여했습니다. 이 대표 등 대담 참석자들은 민주당 의견 수렴 플랫폼인 ‘모두의질문Q’에 접수된 질문 중 AI와 관련된 질문을 소개하고 답하는 방식으로 대담을 나누었습니다. 이 대표는 대담에서 중국의 저비용·고효율 생성형 AI인 딥시크발 ‘쇼크’를 거론하며 AI 산업 발전 방안에 대한 전문가 의견을 경청하고, 조속한 H100급 GPU(그래픽처리장치) 확보와 정부 주도의 글로벌 AI 기술 협력 강화 필요성에 공감했습니다. 또한 노동과 교육제도 개선이 필요하다는 지적에 이 대표는 AI 발달로 인한 생산성 증대를 특정 개인이나 기업이 독점하지 않고 국민 모두가 함께 공유할 수 있는 세상을 만들어야 하고, AI산업 발전과정에 소외되는 계층이 없도록 충실한 사회안전망을 구축해야 한다고 답했습니다. 오늘 공개된 대담을 기획한 민주연구원 집단지성센터는 모두의질문Q에 올라온 질문을 중심으로 다양한 사회 정책 이슈를 다루는 대담을 이어갈 예정이라고 밝혔습니다.[사진 출처 : 연합뉴스 / 민주연구원 제공]■ 제보하기▷ 전화 : 02-781-1234, 4444▷ 이메일 : kbs1234@kbs.co.kr▷ 카카오톡 : \\'KBS제보\\' 검색, 채널 추가▷ 네이버, 유튜브에서 KBS뉴스를 구독해주세요!\\n\\n\\n\\n\\n원동희 (eastshine@kbs.co.kr)\\n\\n\\n\\n\\n기자 프로필\\n\\n\\n\\n\\n\\n\\n\\n\\nKBS\\n\\nKBS\\n\\n\\n\\n\\n\\n\\n\\n원동희 기자\\n\\n\\n\\n\\n\\n\\n원동희 기자\\n\\n\\n\\n\\n\\n\\n구독\\n\\n\\n구독중\\n\\n\\n\\n\\n\\n구독자 0\\n\\n\\n\\n\\n응원수\\n0\\n\\n\\n\\n\\n\\n\\n\\n오늘은 이런 일이 있었습니다.\\n\\n\\n\\n\\n민주당 명태균 녹취 추가 공개…“김건희 여사, 경남도지사 선거도 개입 의혹”\\n\\n\\n민주당, 권성동 상속세 완화 비판에 “국힘은 955명 초부자들만의 대변인이냐”\\n\\n\\n\\n\\n\\n\\n\\nKBS의 구독 많은 기자를 구독해보세요!\\n\\n닫기\\n\\n\\n\\n\\n\\n\\n\\n\\nCopyright ⓒ KBS. All rights reserved. 무단 전재, 재배포 및 이용(AI 학습 포함) 금지\\n\\n \\n이 기사는 언론사에서 정치 섹션으로 분류했습니다.\\n\\n기사 섹션 분류 안내\\n기사의 섹션 정보는 해당 언론사의 분류를 따르고 있습니다. 언론사는 개별 기사를 2개 이상 섹션으로 중복 분류할 수 있습니다.\\n닫기\\n\\n\\n\\n\\n\\n\\n\\n\\n\\n\\n\\n구독\\n메인에서 바로 보는 언론사 편집 뉴스 지금 바로 구독해보세요!\\n\\n\\n구독중\\n메인에서 바로 보는 언론사 편집 뉴스 지금 바로 확인해보세요!\\n\\n\\n\\n\\n\\n\\n\\n\\n\\n\\n\\n\\n\\n<모아보기> 윤석열 대통령 구속...헌정 최초 [클릭]\\nQR 코드를 클릭하면 크게 볼 수 있어요.\\n\\n\\n\\nQR을 촬영해보세요.\\n<모아보기> 윤석열 대통령 구속...헌정 최초 [클릭]\\n\\n\\n\\n\\n\\n\\n\\n\\n\\n\\n닫기\\n\\n\\n\\n\\n\\n\\n\\n\\n\\n이 시각 가장 뜨거운 뉴스 [클릭]\\nQR 코드를 클릭하면 크게 볼 수 있어요.\\n\\n\\n\\nQR을 촬영해보세요.\\n이 시각 가장 뜨거운 뉴스 [클릭]\\n\\n\\n\\n\\n\\n\\n\\n\\n\\n\\n닫기\\n\\n\\n\\n\\n\\n\\n\\n\\n\\n\\nKBS\\n\\nKBS\\n\\n\\t\\t\\t주요뉴스해당 언론사에서 선정하며 언론사 페이지(아웃링크)로 이동해 볼 수 있습니다.\\n\\n\\n\"제 공직생활 36년이 3시간으로 마무리됐다\"\\n쏟아진 재판관 \\'질문들\\'…\\'탄핵 가늠자\\' 되나?\\n북한 관광 열렸다…우리도 갈 수 있을까?\\n\"알바 2개로도 버거워, 다시 본가로\"…K-대학생 브이로그ⓛ\\n\\'살인 예고\\' 글 올리면 최대 징역 5년…예비군 참석 불이익 \\'처벌\\'\\n\\n\\n\\n\\n\\n\\n\\n\\n이 기사를 추천합니다\\n\\n\\n기사 추천은 24시간 내 50회까지 참여할 수 있습니다.\\n닫기\\n\\n\\n\\n\\n\\n\\n쏠쏠정보\\n0\\n\\n\\n\\n\\n흥미진진\\n0\\n\\n\\n\\n\\n공감백배\\n0\\n\\n\\n\\n\\n분석탁월\\n0\\n\\n\\n\\n\\n후속강추\\n0\\n\\n\\n \\n\\n\\n\\n\\n\\n\\n\\n\\n\\n\\n\\n\\n\\n\\n\\n\\n\\n\\n모두에게 보여주고 싶은 기사라면?beta\\n\\n이 기사를 추천합니다 버튼을 눌러주세요.  집계 기간 동안 추천을 많이 받은 기사는 네이버 자동 기사배열 영역에 추천 요소로 활용됩니다.\\n\\n레이어 닫기\\n\\n\\n \\n\\n\\nKBS 언론사가 직접 선정한 이슈\\n\\t\\t\\t\\n\\n\\n\\n\\n\\n\\n\\n\\n이슈\\n다시, 트럼프 시대\\n\\n\\n\\n트럼프 “한국, 미국 도움 받으면서 관세는 4배나 높아”\\n\\n\\n\\n\\n\\n\\n\\n\\n\\n\\n이슈\\n윤 대통령 탄핵심판\\n\\n\\n\\n“쳐부수자”·“재판관 처단”…잇단 과격 발언에 고발\\n\\n\\n\\n동영상 뉴스\\n\\n\\n\\n\\n\\n\\n\\n이슈\\n‘명태균 폭로’ 파문\\n\\n\\n\\n이틀째 명태균 출장조사…‘윤 공천 개입 의혹’ 조사\\n\\n\\n\\n동영상 뉴스\\n\\n\\n\\n\\n\\n\\n\\n\\n이전\\n\\n\\n다음\\n\\n\\n\\n\\n\\n\\nKBS 언론사홈 바로가기\\n\\n\\n \\n\\n\\n\\n\\n\\n기자 구독 후 기사보기\\n\\n\\n\\n구독 없이 계속 보기\\n\\n\\n\\n\\n')]\n"
     ]
    }
   ],
   "source": [
    "print(docs[0:4])"
   ]
  },
  {
   "cell_type": "code",
   "execution_count": 6,
   "metadata": {
    "id": "73nVmzJLBPie"
   },
   "outputs": [
    {
     "name": "stderr",
     "output_type": "stream",
     "text": [
      "/var/folders/xr/0xbgl9wd3wz914nd58ylmykw0000gp/T/ipykernel_51540/3672484833.py:7: PydanticDeprecatedSince20: The `dict` method is deprecated; use `model_dump` instead. Deprecated in Pydantic V2.0 to be removed in V3.0. See Pydantic V2 Migration Guide at https://errors.pydantic.dev/2.10/migration/\n",
      "  writer.write(doc.dict())\n"
     ]
    }
   ],
   "source": [
    "# 참고) 불러온 document 저장하기\n",
    "\n",
    "import jsonlines\n",
    "def save_docs_to_jsonl(documents, file_path):\n",
    "    with jsonlines.open(file_path, mode=\"w\") as writer:\n",
    "        for doc in documents:\n",
    "            writer.write(doc.dict())\n",
    "save_docs_to_jsonl(docs, \"docs.jsonl\")\n",
    "\n",
    "# 참고) jsonl 파일 불러오기\n",
    "from langchain.schema import Document\n",
    "\n",
    "def load_docs_from_jsonl(file_path):\n",
    "    documents = []\n",
    "    with jsonlines.open(file_path, mode=\"r\") as reader:\n",
    "        for doc in reader:\n",
    "            documents.append(Document(**doc))\n",
    "    return documents\n"
   ]
  },
  {
   "cell_type": "code",
   "execution_count": 7,
   "metadata": {
    "id": "9NNJGe4LyEDI"
   },
   "outputs": [
    {
     "data": {
      "text/plain": [
       "281"
      ]
     },
     "execution_count": 7,
     "metadata": {},
     "output_type": "execute_result"
    }
   ],
   "source": [
    "# 파일로부터 다시 불러오기\n",
    "docs = load_docs_from_jsonl(\"docs.jsonl\")\n",
    "len(docs)"
   ]
  },
  {
   "cell_type": "code",
   "execution_count": 8,
   "metadata": {
    "id": "7Wuz3T8ty6f_"
   },
   "outputs": [
    {
     "data": {
      "text/plain": [
       "'\\n\\n\\n\\n\\n뉴시스\\n\\n뉴시스\\n\\n\\n구독\\n\\n뉴시스 언론사 구독되었습니다. 메인 뉴스판에서  주요뉴스를  볼 수 있습니다.\\n보러가기\\n\\n\\n뉴시스 언론사 구독 해지되었습니다.\\n\\n\\n\\n\\n챗GPT, 유료서비스도 한도 제한?…방통위, 법 위반 여부 살핀다(종합)\\n\\n\\n\\n\\n입력2025.02.27. 오후 5:15\\n\\n\\n수정2025.02.27. 오후 5:16\\n\\n기사원문\\n \\n\\n윤현성 기자\\n박은비 기자\\n\\n\\n\\n\\n\\n\\n\\n\\n윤현성 기자\\n\\n\\n\\n\\n윤현성 기자\\n\\n구독\\n구독중\\n\\n\\n\\n\\n구독자\\n0\\n\\n\\n응원수\\n0\\n\\n\\n\\n더보기\\n\\n\\n\\n\\n\\n\\n\\n박은비 기자\\n\\n\\n\\n\\n박은비 기자\\n\\n구독\\n구독중\\n\\n\\n\\n\\n구독자\\n0\\n\\n\\n응원수\\n0\\n\\n\\n\\n더보기\\n\\n\\n\\n\\n\\n\\n\\n\\n\\n\\n\\n\\n\\n\\n추천\\n\\n\\n\\n\\n쏠쏠정보\\n0\\n\\n\\n\\n\\n흥미진진\\n0\\n\\n\\n\\n\\n공감백배\\n0\\n\\n\\n\\n\\n분석탁월\\n0\\n\\n\\n\\n\\n후속강추\\n0\\n\\n\\n \\n\\n\\n\\n댓글\\n\\n\\n\\n\\n\\n본문 요약봇\\n\\n\\n\\n본문 요약봇도움말\\n자동 추출 기술로 요약된 내용입니다. 요약 기술의 특성상 본문의 주요 내용이 제외될 수 있어, 전체 맥락을 이해하기 위해서는 기사 본문 전체보기를 권장합니다.\\n닫기\\n\\n\\n\\n\\n\\n\\n\\n\\n텍스트 음성 변환 서비스 사용하기\\n\\n\\n\\n성별\\n남성\\n여성\\n\\n\\n말하기 속도\\n느림\\n보통\\n빠름\\n\\n이동 통신망을 이용하여 음성을 재생하면 별도의 데이터 통화료가 부과될 수 있습니다.\\n본문듣기 시작\\n\\n닫기\\n\\n\\n \\n\\n글자 크기 변경하기\\n\\n\\n\\n가1단계\\n작게\\n\\n\\n가2단계\\n보통\\n\\n\\n가3단계\\n크게\\n\\n\\n가4단계\\n아주크게\\n\\n\\n가5단계\\n최대크게\\n\\n\\n\\n\\n\\n\\nSNS 보내기\\n\\n\\n\\n인쇄하기\\n\\n\\n\\n\\n\\n\\n\\n\\n방통위, 챗GPT 유료서비스 대상 사실조사…전통법 위반 점검챗GPT 플러스, 월 20달러 유료 구독해도 시간당 이용횟수 제한유료 구독 시 \\'모든 것이 무료\\' 안내…유료 구독 중도해지도 안돼\\n\\n\\n\\n[웨스트체스터=AP/뉴시스]한 컴퓨터 모니터에 \\'챗GPT\\' 로고가 표출되고 있다. 2023.12.06.[서울=뉴시스]윤현성 박은비 기자 = 방송통신위원회가 오픈AI의 인공지능(AI) 챗봇 \\'챗GPT\\'에 대한 사실조사에 나선다. 챗GPT 유료서비스의 현행 전기통신사업법 위반 여부를 살핀다는 목표다. 방통위는 챗GPT 유료서비스를 이용할 경우에도 서비스 이용에 제한이 있다는 점을 이용자들에게 제대로 고지했는지, 서비스 구독 해지 등이 적법하게 이뤄지고 있는 지를 점검할 것으로 보인다.방통위는 \"챗GPT 유료서비스 이용자의 서비스 이용한도 제한 및 이용자의 해지제한 행위에 대해 전기통신사업법 위반 여부에 대한 사실조사를 착수했다\"고 27일 밝혔다. 방통위는 이번 사실조사를 통해 챗GPT의 법 위반 여부 등을 살핀다는 계획이다.방통위와 챗GPT 운영사인 오픈AI 측은 이번 사실조사와 관련해 조사 진행 일정, 조사 대상 등을 명확하게 밝히지 않고 있다. 챗GPT의 이용 약관 등을 살펴보면 월 20달러의 \\'챗GPT 플러스\\' 서비스를 유료 구독해도 AI 챗봇 사용에 제약이 가해진다. 고성능 AI 모델인 GPT-4o는 3시간당 80번, GPT-4는 3시간당 40번, 추론형 모델인 o1-미니는 일당 50번, o1은 주당 50번 등 사용횟수에 제약이 있다.방통위는 이같은 챗GPT 유료서비스의 제약이 전기통신사업법 제50조를 위반하는지 살펴볼 것으로 전망된다. 해당 법 조항은 이용자 이익을 해칠 수 있는 행위를 금지하고 있다. 하위 조항을 살펴보면 이용자에게 이용요금·약정조건 등 중요사항을 설명하지 않거나 거짓 설명하는 행위를 금지하고 있다.실제로 챗GPT 유료 서비스를 구독해보면 이같은 이용 한도 제한에 대한 고지가 명확히 안내되지 않고, 오픈AI의 자사 서비스 관련 이용 약관에도 별도로 명시돼있지 않은 상황이다. 챗GPT 플러스 구독 시에는 되려 \\'모든 것이 무료\\'라고 안내하고 있다.\\n\\n\\n\\n챗GPT 유료 서비스 구독 안내창. (사진=챗GPT 홈페이지 캡처) *재판매 및 DB 금지이용자가 챗GPT 유료서비스 구독을 해지할 경우 즉각 해지·환불이 이뤄지지 않는 것도 문제가 될 소지가 있다. 현재 챗GPT 유료서비스는 구독을 해지할 경우 즉시 해지 및 환불이 되지 않는다. 다음 결제일까지 유료서비스가 적용되고 그 후 구독 정지가 적용되는 식이다. 이용자가 유료서비스 이용을 원하지 않아도 중도해지가 되지 않고 강제적으로 서비스 이용을 지속하게 되는 셈이다.지난해 국내 온라인동영상서비스(OTT), 음원 스트리밍 플랫폼들이 이처럼 즉시 구독 해지를 지원하지 않자 공정거래위원회는 이들 업체가 소비자의 중도 해지권을 침해한 것으로 보고 시정조치를 요구한 바 있다. 전기통신사업법에 따르면 방통위는 신고나 인지에 의해 사업자가 법령을 위반한 행위가 있다고 인정하면 이를 확인하기 위해 필요한 조사를 진행할 수 있다. 사실조사 결과 위반 행위가 확인되면 방통위 전체회의 의결을 거쳐 시정명령, 과징금 부과 등을 내릴 수 있다.이와 관련해 오픈AI 측은 \"현재 구체적으로 밝힐 수 있는 내용은 없다. 사실조사가 진행되면 성실하게 임할 것\"이라고 전했다.\\n\\n\\n\\n\\n윤현성 기자(hsyhs@newsis.com)\\n박은비 기자(silverline@newsis.com)\\n\\n\\n\\n\\n기자 프로필\\n\\n\\n\\n\\n\\n\\n\\n\\n뉴시스\\n\\n뉴시스\\n\\n\\n\\n\\n\\n\\n\\n윤현성 기자\\n\\n\\n\\n\\n\\n\\n윤현성 기자\\n\\n\\n\\n\\n\\n\\n구독\\n\\n\\n구독중\\n\\n\\n\\n\\n\\n구독자 0\\n\\n\\n\\n\\n응원수\\n0\\n\\n\\n\\n\\n\\n\\n\\n안녕하세요, 뉴시스 윤현성 기자입니다.\\n\\n\\n\\n\\n\"이게 카메라야 폰이야\"…샤오미, 괴물 카메라폰 꺼냈다[MWC25]\\n\\n\\n1억원 웃도는데 2시간 만에 1만대 팔렸다?…샤오미 전기차 \\'SU7 울트라\\' 실물[MWC25]\\n\\n\\n\\n\\n\\n\\n\\n\\n\\n\\n\\n뉴시스\\n\\n뉴시스\\n\\n\\n\\n\\n\\n\\n\\n박은비 기자\\n\\n\\n\\n\\n\\n\\n박은비 기자\\n\\n\\n\\n\\n\\n\\n구독\\n\\n\\n구독중\\n\\n\\n\\n\\n\\n구독자 0\\n\\n\\n\\n\\n응원수\\n0\\n\\n\\n\\n\\n\\n\\n\\n\\n\\nSKT, 아이폰16e 국내 정식 출시…출고가 99만원부터\\n\\n\\n삼성 갤럭시Z 플립7, 전작보다 커진다…주름도 눈에 띄게 줄어\\n\\n\\n\\n\\n\\n\\n\\n뉴시스의 구독 많은 기자를 구독해보세요!\\n\\n닫기\\n\\n\\n\\n\\n\\n\\n\\n\\nCopyright ⓒ 뉴시스. All rights reserved. 무단 전재 및 재배포 금지.\\n\\n \\n이 기사는 언론사에서 IT, 경제 섹션으로 분류했습니다.\\n\\n기사 섹션 분류 안내\\n기사의 섹션 정보는 해당 언론사의 분류를 따르고 있습니다. 언론사는 개별 기사를 2개 이상 섹션으로 중복 분류할 수 있습니다.\\n닫기\\n\\n\\n\\n\\n\\n\\n\\n\\n\\n\\n\\n구독\\n메인에서 바로 보는 언론사 편집 뉴스 지금 바로 구독해보세요!\\n\\n\\n구독중\\n메인에서 바로 보는 언론사 편집 뉴스 지금 바로 확인해보세요!\\n\\n\\n\\n\\n\\n\\n\\n\\n\\n\\n\\n\\n\\n네이버 메인에서 뉴시스 구독하세요\\nQR 코드를 클릭하면 크게 볼 수 있어요.\\n\\n\\n\\nQR을 촬영해보세요.\\n네이버 메인에서 뉴시스 구독하세요\\n\\n\\n\\n\\n\\n\\n\\n\\n\\n\\n닫기\\n\\n\\n\\n\\n\\n\\n\\n\\n\\n스타들이 빛나는 순간엔 \\'N샷\\'\\nQR 코드를 클릭하면 크게 볼 수 있어요.\\n\\n\\n\\nQR을 촬영해보세요.\\n스타들이 빛나는 순간엔 \\'N샷\\'\\n\\n\\n\\n\\n\\n\\n\\n\\n\\n\\n닫기\\n\\n\\n\\n\\n\\n\\n\\n\\n\\n\\n뉴시스\\n\\n뉴시스\\n\\n\\t\\t\\t주요뉴스해당 언론사에서 선정하며 언론사 페이지(아웃링크)로 이동해 볼 수 있습니다.\\n\\n\\n\"구준엽, 서희원 전남편에게 100억 받아야\"\\n카이스트생 허성범 \"지드래곤 교수, 홍보역할 잘해\"\\n장동건♥고소영 딸, 벌써 이렇게 컸어?…아이돌 미모\\n아내 손에 숨진 1타강사…\"집안 서열 개보다 낮아\"\\n임창정 아내 서하얀, 안타까운 건강 상태\\n\\n\\n\\n\\n\\n\\n\\n\\n이 기사를 추천합니다\\n\\n\\n기사 추천은 24시간 내 50회까지 참여할 수 있습니다.\\n닫기\\n\\n\\n\\n\\n\\n\\n쏠쏠정보\\n0\\n\\n\\n\\n\\n흥미진진\\n0\\n\\n\\n\\n\\n공감백배\\n0\\n\\n\\n\\n\\n분석탁월\\n0\\n\\n\\n\\n\\n후속강추\\n0\\n\\n\\n \\n\\n\\n\\n\\n\\n\\n\\n\\n\\n\\n\\n\\n\\n\\n\\n\\n\\n\\n모두에게 보여주고 싶은 기사라면?beta\\n\\n이 기사를 추천합니다 버튼을 눌러주세요.  집계 기간 동안 추천을 많이 받은 기사는 네이버 자동 기사배열 영역에 추천 요소로 활용됩니다.\\n\\n레이어 닫기\\n\\n\\n \\n\\n\\n뉴시스 언론사가 직접 선정한 이슈\\n\\t\\t\\t\\n\\n\\n\\n\\n\\n\\n\\n\\n이슈\\n관세 전쟁\\n\\n\\n\\n트럼프발 관세 전쟁 격화에도 코스피·코스닥 상승\\n\\n\\n\\n\\n\\n\\n\\n\\n\\n\\n이슈\\n우크라 종전 협상\\n\\n\\n\\n與유용원 \"우크라 추가 파병 북한군 1500명, 전장 투입\"\\n\\n\\n\\n\\n\\n\\n\\n\\n\\n\\n이슈\\n대전 초등생 피살\\n\\n\\n\\n故김하늘양 살해 여교사 상태 호전…대면조사·영장집행 검토\\n\\n\\n\\n\\n\\n\\n\\n\\n\\n\\n이슈\\n尹탄핵 정국\\n\\n\\n\\n서울청장 직대 \"헌재 시위 계속…주변 학교 안전관리 만전\"\\n\\n\\n\\n\\n\\n\\n\\n\\n\\n\\n이슈\\nMWC25\\n\\n\\n\\n\"美 기술만 사용하지 말라\" 권고한 佛 미스트랄AI CEO, 왜?\\n\\n\\n\\n\\n\\n\\n\\n\\n\\n\\n\\n이전\\n\\n\\n다음\\n\\n\\n\\n\\n\\n\\n뉴시스 언론사홈 바로가기\\n\\n\\n \\n\\n\\n\\n\\n\\n기자 구독 후 기사보기\\n\\n\\n\\n구독 없이 계속 보기\\n\\n\\n\\n\\n'"
      ]
     },
     "execution_count": 8,
     "metadata": {},
     "output_type": "execute_result"
    }
   ],
   "source": [
    "docs[0].page_content"
   ]
  },
  {
   "cell_type": "markdown",
   "metadata": {
    "id": "lSJ_p9b_2Dgp"
   },
   "source": [
    "불러온 뉴스기사에는 불필요한 내용이 다소 존재합니다.    \n",
    "아래의 과정을 통해 간단하게 전처리합니다."
   ]
  },
  {
   "cell_type": "code",
   "execution_count": 9,
   "metadata": {
    "id": "s7iTfCk3BPie"
   },
   "outputs": [],
   "source": [
    "def preprocess(docs):\n",
    "    noise_texts = [\n",
    "        '''구독중 구독자 0 응원수 0 더보기''',\n",
    "        '''쏠쏠정보 0 흥미진진 0 공감백배 0 분석탁월 0 후속강추 0''',\n",
    "        '''댓글 본문 요약봇 본문 요약봇''',\n",
    "        '''도움말 자동 추출 기술로 요약된 내용입니다. 요약 기술의 특성상 본문의 주요 내용이 제외될 수 있어, 전체 맥락을 이해하기 위해서는 기사 본문 전체보기를 권장합니다. 닫기''',\n",
    "        '''텍스트 음성 변환 서비스 사용하기 성별 남성 여성 말하기 속도 느림 보통 빠름''',\n",
    "        '''이동 통신망을 이용하여 음성을 재생하면 별도의 데이터 통화료가 부과될 수 있습니다. 본문듣기 시작''',\n",
    "        '''닫기 글자 크기 변경하기 가1단계 작게 가2단계 보통 가3단계 크게 가4단계 아주크게 가5단계 최대크게 SNS 보내기 인쇄하기''',\n",
    "\n",
    "\n",
    "    ]\n",
    "\n",
    "    def clean_text(text):\n",
    "        # 잡음을 제거하고 여러 공백을 하나로 줄이는 함수\n",
    "        text = text.replace('\\t',' ').replace('\\n',' ')\n",
    "        for _ in range(20):\n",
    "            text = ' '.join(text.split())  # 연속된 공백을 하나로\n",
    "        for noise in noise_texts:\n",
    "            text = text.replace(noise, '')\n",
    "\n",
    "        return text\n",
    "\n",
    "    preprocessed_docs = []\n",
    "    for doc in docs:\n",
    "        try:\n",
    "            # 텍스트 자르기\n",
    "            content = doc.page_content.split('구독 해지되었습니다.')[1]\n",
    "        except:\n",
    "            # 구독 관련 정보가 없거나 텍스트 처리 문제일 경우 원본 텍스트 유지\n",
    "            content = doc.page_content\n",
    "        try:\n",
    "            content = doc.page_content.split('구독 메인에서 바로 보는 언론사 편집 뉴스 지금 바로 구독해보세요!')[0]\n",
    "        except:\n",
    "            content = doc.page_content\n",
    "\n",
    "\n",
    "        # 텍스트 정제 작업\n",
    "        content = clean_text(content)\n",
    "        doc.page_content = content\n",
    "        preprocessed_docs.append(doc)\n",
    "\n",
    "    return preprocessed_docs\n",
    "\n",
    "preprocessed_docs = preprocess(docs)\n"
   ]
  },
  {
   "cell_type": "code",
   "execution_count": 10,
   "metadata": {
    "id": "MHy4vOEs24qf"
   },
   "outputs": [
    {
     "data": {
      "text/plain": [
       "Document(metadata={'source': 'https://n.news.naver.com/mnews/article/022/0004015819?sid=101'}, page_content='세계일보 세계일보 구독 세계일보 언론사 구독되었습니다. 메인 뉴스판에서 주요뉴스를 볼 수 있습니다. 보러가기 세계일보 언론사 구독 해지되었습니다. PICK 안내 언론사가 주요기사로선정한 기사입니다. 언론사별 바로가기 닫기 CCTV에 챗GPT 탑재…사전 위험 안내해 사고 예방 입력2025.03.04. 오후 1:19 기사원문 이진경 기자 이진경 기자 이진경 기자 구독  추천      한국스마트안전보건협회(한스협)는 폐쇄회로(CC)TV에 생성형 인공지능(AI) 챗GPT를 접목한 ‘사고 위험 AI 알람 시스템’을 출시했다고 4일 밝혔다. AI CCTV 시스템은 CCTV를 통해 강풍이나 위험구역 접근 등 유해 요인을 감지하고 이를 즉각 관리자에게 보고해 사고 예방을 위한 즉각적 조치를 하도록 지원한다. 건설, 제조, 중공업 등의 분야에서 활용이 가능하다. 이 시스템은 클라우드 기반으로, 기존 CCTV를 활용해 저비용으로 고성능 AI 영상 분석이 가능하다. 기존 지능형 CCTV만으로 실시간 영상 분석을 하려면 별도 서버 설치가 필수적이어서 많은 구축 비용과 유지보수 비용이 발생한다. 외국인 근로자를 위한 다국어 안전관리 기능도 탑재해 위험 발생 시 중국, 베트남 등 14개 외국어로 즉각적으로 음성안내를 한다. 이를 통해 위험성 평가와 TBM(작업 전 안전점검회의), 안전방송 등 내용을 실시간 공유할 수 있다. 안전 보고서도 작성해준다. 실시간 AI 사고위험 보고서와 현장 작업 보고서 등을 특정 시간을 설정해 받아볼 수 있다. 또 작업 현황과 안전위반 사례 등이 담긴 일일 요약보고서를 생성하고, 중대재해처벌법 등에 따른 사고 전후 초동 보고서도 지원한다. 여러 현장을 동시에 관리할 경우 현장별로 일정 시간에 맞춰 현장 단위 보고서를 생성하도록 설정해 효율적으로 운용할 수도 있다. 실시간 날씨 기반 현장 안전수칙도 자동제공된다. 한스협 관계자는 “스마트안전 시스템인 ‘안전함’에 챗GPT 기반 사고위험 AI 알람 시스템을 탑재했다”며 “기존 CCTV 외에 추가 장비 설치 없이 적은 비용으로 사고 예방을 극대화하고 관리자의 업무부담을 줄여줄 수 있다”고 설명했다. 이진경 기자 ljin@segye.com 기자 프로필 세계일보 세계일보 이진경 기자 이진경 기자 구독 구독중 구독자 0 응원수 0 세계일보 이진경 기자입니다. 세상에 일어나는 일을 관심 갖고 지켜보겠습니다. 공항서 4시간 기다렸는데 ‘이론적으로’ 15분이면 된다고요? 코쿤도 했다…우울증·주의력 개선 효과 기대되는 ‘이것’ [건강+] 세계일보의 구독 많은 기자를 구독해보세요! 닫기 Copyright ⓒ 세계일보. All rights reserved. 무단 전재 및 재배포 금지. 이 기사는 언론사에서 경제 섹션으로 분류했습니다. 기사 섹션 분류 안내 기사의 섹션 정보는 해당 언론사의 분류를 따르고 있습니다. 언론사는 개별 기사를 2개 이상 섹션으로 중복 분류할 수 있습니다. 닫기 구독 메인에서 바로 보는 언론사 편집 뉴스 지금 바로 구독해보세요! 구독중 메인에서 바로 보는 언론사 편집 뉴스 지금 바로 확인해보세요! 세계일보 세계일보 주요뉴스해당 언론사에서 선정하며 언론사 페이지(아웃링크)로 이동해 볼 수 있습니다. \"제2의 서울이라더니\"…10억→5억 \\'반토막\\', 더 떨어질까? \\'돌싱 14년차\\' 42살 오정연, 루머 딛고 아기 혼자 낳겠다 결심 \"1대 주차는 1000원, 3대 추가하면 41만원\"… 주차료 대폭 올린 아파트는 어디? \"아들 몸 안 좋다\" 병원 온 아빠, 돌연 숨진 중학생…알고 보니 논란 속 자취 감춘 배용준·박수진 부부, 결국 \\'결혼 10년 만에 이혼설\\' 이 기사를 추천합니다 기사 추천은 24시간 내 50회까지 참여할 수 있습니다. 닫기  모두에게 보여주고 싶은 기사라면?beta 이 기사를 추천합니다 버튼을 눌러주세요. 집계 기간 동안 추천을 많이 받은 기사는 네이버 자동 기사배열 영역에 추천 요소로 활용됩니다. 레이어 닫기 세계일보 언론사가 직접 선정한 이슈 이슈 건강+ “하루아침에 귀가 안들려요”…80만명이 고통받는 ‘이 병’ 이슈 한강로 사진관 3·1절 106주년이지만 방치된 독립투사들 이슈 슬직생 외모 칭찬한 건데, 성희롱인가요? 이슈 밀착취재 “이번 계엄은 계몽령” vs “민주주의 가치 수호” 이슈 해방둥이의 광복 김석우 前 통일원 차관 “자유 얻었지만 이념 갈등 극심… 미래세대 포용력 갖고 나아가야” 이전 다음 세계일보 언론사홈 바로가기 기자 구독 후 기사보기 구독 없이 계속 보기')"
      ]
     },
     "execution_count": 10,
     "metadata": {},
     "output_type": "execute_result"
    }
   ],
   "source": [
    "preprocessed_docs[10]\n"
   ]
  },
  {
   "cell_type": "code",
   "execution_count": null,
   "metadata": {
    "id": "9_gWrf3GnYod"
   },
   "outputs": [],
   "source": []
  },
  {
   "cell_type": "markdown",
   "metadata": {
    "id": "sT7hRU6wBPie"
   },
   "source": [
    "## 2. Chunking: 청크 단위로 나누기   \n",
    "\n"
   ]
  },
  {
   "cell_type": "markdown",
   "metadata": {
    "id": "xEyCdybpBPie"
   },
   "source": [
    "전처리가 완료된 docs를 chunk 단위로 분리합니다.\n",
    "`chunk_size`와 `chunk_overlap`을 이용해 청크의 구성 방식을 조절할 수 있습니다."
   ]
  },
  {
   "cell_type": "code",
   "execution_count": 11,
   "metadata": {
    "collapsed": true,
    "id": "4SopeO4tBPie"
   },
   "outputs": [
    {
     "name": "stdout",
     "output_type": "stream",
     "text": [
      "559\n"
     ]
    }
   ],
   "source": [
    "from langchain_text_splitters import RecursiveCharacterTextSplitter\n",
    "from langchain import hub\n",
    "\n",
    "text_splitter = RecursiveCharacterTextSplitter(chunk_size=2000, chunk_overlap=200)\n",
    "# 0~2000, 1800~3800, 3600~5600, ...\n",
    "chunks = text_splitter.split_documents(preprocessed_docs)\n",
    "print(len(chunks))"
   ]
  },
  {
   "cell_type": "markdown",
   "metadata": {
    "id": "Zwbv-FQ2BPif"
   },
   "source": [
    "구성된 청크를 벡터 데이터베이스에 로드합니다.   \n",
    "`Chroma.from_documents`는 documents의 임베딩을 구하고 이를 DB에 저장합니다."
   ]
  },
  {
   "cell_type": "code",
   "execution_count": 12,
   "metadata": {},
   "outputs": [
    {
     "data": {
      "text/plain": [
       "'다녀요\"…부업으로 2000만원 이상 번 사람 무려 발열·구토 등 증상 발현 후 48시간내 사망…치사율 12% 괴질의 정체 이 기사를 추천합니다 기사 추천은 24시간 내 50회까지 참여할 수 있습니다. 닫기  모두에게 보여주고 싶은 기사라면?beta 이 기사를 추천합니다 버튼을 눌러주세요. 집계 기간 동안 추천을 많이 받은 기사는 네이버 자동 기사배열 영역에 추천 요소로 활용됩니다. 레이어 닫기 아시아경제 언론사가 직접 선정한 이슈 이슈 대선, 몸풀기 시작 김문수 “尹 정부, 교육시설 기관에 친윤 ‘알박기’” 이슈 尹대통령 탄핵심판 김문수 “尹 정부, 교육시설 기관에 친윤 ‘알박기’” 이슈 트럼프 2.0 시대 트럼프 관세에 美 차값 최대 1800만원 오른다 이슈 불황 한파 생존기 생산·소비·투자 \\'트리플\\' 감소… 생산, 팬데믹 이후 최대폭(종합) 이전 다음 아시아경제 언론사홈 바로가기 기자 구독 후 기사보기 구독 없이 계속 보기'"
      ]
     },
     "execution_count": 12,
     "metadata": {},
     "output_type": "execute_result"
    }
   ],
   "source": [
    "chunks[110].page_content"
   ]
  },
  {
   "cell_type": "code",
   "execution_count": 13,
   "metadata": {
    "id": "Fhrg3PtCBPif"
   },
   "outputs": [],
   "source": [
    "from langchain_chroma import Chroma\n",
    "from langchain_openai import OpenAIEmbeddings"
   ]
  },
  {
   "cell_type": "code",
   "execution_count": 20,
   "metadata": {
    "id": "cAAhmf2GBPif"
   },
   "outputs": [],
   "source": [
    "Chroma().delete_collection() # 메모리에 로드된 기존 데이터 삭제\n",
    "\n",
    "# 이미 존재하는 DB에서 가져오기\n",
    "# db = Chroma(\n",
    "#      embedding=OpenAIEmbeddings(model='text-embedding-3-large'),\n",
    "#      large: 3072차원, small: 1536차원\n",
    "#      persist_directory=\"./chroma_Web\"\n",
    "#      )\n",
    "# Collection 이름 없이 생성한 경우, 기본 Collection으로 저장된 경우\n",
    "\n",
    "db = Chroma.from_documents(documents=chunks,\n",
    "                           embedding=OpenAIEmbeddings(model='text-embedding-3-small'), # text-embedding-3-large\n",
    "                           # large: 3072차원, small: 1536차원\n",
    "                           persist_directory=\"./chroma_Web\", # ./는 current directory를 의미\n",
    "                           # persist_directory를 쓰지 않으면 메모리에 저장\n",
    "                           collection_metadata={'hnsw:space':'l2'}\n",
    "                           # l2 메트릭 설정(기본값)\n",
    "                           # cosine, mmr\n",
    "                           )\n",
    "# Collection 이름 없이 생성한 경우, 기본 Collection으로 저장됨"
   ]
  },
  {
   "cell_type": "markdown",
   "metadata": {
    "id": "lIuEJaToBPif"
   },
   "source": [
    "retriever는 query에 맞춰 db에서 문서를 검색합니다."
   ]
  },
  {
   "cell_type": "code",
   "execution_count": 21,
   "metadata": {
    "id": "u4AhVSXLBPif"
   },
   "outputs": [],
   "source": [
    "retriever = db.as_retriever()"
   ]
  },
  {
   "cell_type": "code",
   "execution_count": 22,
   "metadata": {
    "id": "XVmkzVMefAjt"
   },
   "outputs": [
    {
     "data": {
      "text/plain": [
       "[Document(id='7ee6340b-65b0-4f17-970d-ca28436b08b5', metadata={'source': 'https://n.news.naver.com/mnews/article/003/0013084396?sid=102'}, page_content='뉴시스 뉴시스 구독 뉴시스 언론사 구독되었습니다. 메인 뉴스판에서 주요뉴스를 볼 수 있습니다. 보러가기 뉴시스 언론사 구독 해지되었습니다. PICK 안내 언론사가 주요기사로선정한 기사입니다. 언론사별 바로가기 닫기 챗GPT에 손쉽게 개인정보 뚫린다…KAIST, LLM 악용 가능성 입증 입력2025.02.24. 오후 1:53 수정2025.02.24. 오후 2:27 기사원문 김양수 기자 김양수 기자 김양수 기자 구독  추천      신승원·이기민 교수팀, 대형언어모델의 정보수집·피싱 공격 규명최대 95.9% 정확도로 개인정보 수집, 피싱 이메일 클릭률 46.67%까지 증가저비용으로 개인정보 탈취해 공격 가능…국제학술지 게재 [대전=뉴시스] KAIST가 챗GPT 등 대형언어모델(LLM)을 활용한 개인정보 수집 및 피싱공격 실험을 수행해 LLM 에이전트가 손쉽게 개인정보 수집 및 피싱공격 등을 할 수 있다는 사실을 입증했다.(윗줄 왼쪽부터)KAIST 전기및전자공학부 나승호 박사, 김재철AI대학원 이기민 교수.(아랫줄 왼쪽부터)전기및전자공학부 김한나 박사과정, 신승원 교수, 송민규 박사과정.(사진=KAIST 제공) *재판매 및 DB 금지[대전=뉴시스] 김양수 기자 = 챗GPT로 손쉽게 개인정보를 수집하고 악용할 수 있다는 연구결과가 국내연구진에 의해 발표됐다.한국과학기술원(KAIST)은 전기및전자공학부 신승원 교수, 김재철 AI 대학원 이기민 교수 공동연구팀이 실제환경에서 챗GPT와 같은 대형 언어모델(LLM)이 사이버공격에 악용될 가능성을 실험적으로 규명했다고 24일 밝혔다.최근 인공지능 기술의 발전으로 LLM은 단순한 챗봇을 넘어 자율적인 에이전트로 발전하고 있다. 현재 OpenAI, 구글 AI 등과 같은 상용 LLM 서비스는 LLM이 사이버 공격에 사용되는 것을 막기 위한 방어기법을 자체적으로 탑재하고 있으나 연구팀의 실험 결과, 이런 방어기법이 존재함에도 악의적인 사이버공격을 손쉽게 수행할 수 있음이 확인됐다.특히 기존 공격자들이 시간과 노력이 많이 필요한 공격을 수행했던 것과는 달리 LLM 에이전트는 평균 5~20초 내에 30~60원(2~4센트) 수준의 비용으로 개인정보 탈취 등을 자동으로 수행할 수 있어 새로운 위협요소로 나타났다.연구 결과에 따르면 LLM 에이전트는 목표 대상의 개인정보를 최대 95.9%의 정확도로 수집할 수 있다. 또 저명한 교수를 사칭한 허위 게시글 생성 실험에서는 최대 93.9%의 게시글이 진짜로 인식됐다. 피해자의 이메일 주소만을 이용해 피해자에게 최적화된 정교한 피싱이메일을 생성할 수 있었고 실험 참가자들이 이런 피싱 이메일 내의 링크를 클릭할 확률이 46.67%까지 증가하는 것으로 나타났다. 이는 인공지능 기반 자동화 공격의 심각성을 시사한다고 연구팀은 설명했다.KAIST 전기및전자공학부 김한나 박사과정이 제1 저자로 참여한 이번 연구는 컴퓨터 보안분야 최고 학회 중 하나인 국제 학술대회 \\'USENIX Security Symposium 2025\\'에 게재될 예정이다. (논문명:When LLMs Go Online: The Emerging Threat of Web-Enabled LLMs)김한나 연구원은 \"LLM에게 주어지는 능력이 많아질수록 사이버공격의 위협이 기하급수적으로 커진다는 것이 확인됐다\"며 \"LLM 에이전트의 능력을 고려한 확장 가능한 보안장치가 필요하다\"고 말했다.신승원 교수도 \"이번 연구는 정보보안 및 AI정책 개선에 중요한 기초 자료로 활용될 것\"이라면서 \"연구팀은 LLM 서비스 제공업체 및 연구기관과 협력해 보안대책을 논의할 계획\"이라고 밝혔다． 김양수 기자(kys0505@newsis.com) 기자 프로필 뉴시스 뉴시스 김양수 기자 김양수 기자 구독 구독중 구독자 0 응원수 0 오크 원액 블렌딩 소주 \\'선양 오크\\', 편의점에서 만나요 금 시세에도 \\'김치 프리미엄\\'…관세청, 금 밀수 집중 단속 뉴시스의 구독 많은 기자를 구독해보세요! 닫기 Copyright ⓒ 뉴시스. All rights reserved. 무단 전재 및 재배포 금지. 이 기사는 언론사에서 사회, 생활, IT'),\n",
       " Document(id='a0438cd1-4a1f-494a-b589-e2b6084e26c1', metadata={'source': 'https://n.news.naver.com/mnews/article/366/0001056228?sid=105'}, page_content='조선비즈 조선비즈 구독 조선비즈 언론사 구독되었습니다. 메인 뉴스판에서 주요뉴스를 볼 수 있습니다. 보러가기 조선비즈 언론사 구독 해지되었습니다. PICK 안내 언론사가 주요기사로선정한 기사입니다. 언론사별 바로가기 닫기 “20초 만에 피싱 이메일 만든 챗GPT…절반이 클릭했다” 입력2025.02.24. 오전 9:52 수정2025.02.24. 오전 11:22 기사원문 이호준 기자 TALK 이호준 기자 이호준 기자 TALK 구독  추천      KAIST, LLM 사이버 공격 악용 가능성 분석개인 식별 정보 최대 535.6개 수집10~20초면 만들어…비용도 60원에 불과 LLM이 웹 기반 도구들을 사용해 공격자(유저)의 요구에 따라 답변을 생성하는 과정./KAIST 국내 연구진이 챗GPT나 제미나이 같은 상용 대형언어모델(LLM)이 피싱을 비롯한 사이버 공격에 악용될 수 있다는 연구 결과를 발표했다.신승원 한국과학기술원(KAIST) 전기및전자공학부 교수와 이기민 KAIST 김재철 AI대학원 교수 공동 연구진은 LLM이 개인정보 수집과 피싱 공격 등 사이버 공격에 악용될 가능성이 있다고 24일 발표했다. 이번 연구 결과는 국제 학술대회인 ‘USENIX Security Symposium 2025′에 게재될 예정이다.연구진은 LLM의 악용 가능성을 분석하기 위해 세 가지 실험을 진행했다. 첫 번째 실험에서는 챗GPT, 제미나이, 클로드 등의 LLM을 이용해 주요 대학의 컴퓨터과학 교수들의 개인 식별 정보(PII)를 자동으로 수집하게 했다. PII는 이름, 이메일 주소, 계좌 번호 등 개인을 특정할 수 있는 모든 정보를 뜻하는데, LLM은 최대 535.6개의 개인정보 항목을 수집했다.두 번째 실험에서는 LLM을 통해 특정 인물을 사칭하는 게시물을 생성하게 했다. 그 결과 LLM이 만든 게시물 중 93.9%가 실제와 거의 구별되지 않을 정도로 정교하게 작성된 것으로 나타났다. 메타의 CEO인 마크 저커버그의 이메일 주소만을 활용해 만든 피싱 이메일 내용. LLM이 스스로 대상자와 관련된 내용, 발신자, 링크 등을 설정한 것을 볼 수 있다./KAIST 스피어 피싱 이메일 제작 실험에서는 LLM이 대상자의 이메일 주소만을 입력받은 상태에서 맞춤형 피싱 이메일을 생성하도록 했다. 실험 결과, 생성된 피싱 이메일의 링크 클릭률은 최대 46.67%로 이는 기존 피싱 공격 대비 매우 높은 수치였다. 특히 웹 기반 기능이 추가되면 공격 능력이 더욱 강력해졌으며, 일부 상황에서 기존 LLM 보안 기능이 제대로 작동하지 않는다는 점도 발견됐다.또한 LLM을 활용한 사이버 공격은 시간과 비용 측면에서도 효율성이 뛰어났다. LLM이 공격을 수행하는 데 걸린 시간은 평균 10~20초 내외였으며, 비용은 최대 60원에 불과했다.제1 저자인 김한나 연구원은 “LLM에 주어지는 능력이 많아질수록 사이버 공격의 위협이 기하급수적으로 커진다는 것이 확인됐다”며 “LLM의 능력을 고려한 보안 장치가 필요하다”고 말했다.참고 자료USENIX Security Symposium(2025), DOI: https://doi.org/10.48550/arXiv.2410.14569 이호준 기자 hjoon@chosunbiz.com 기자 프로필 조선비즈 조선비즈 이호준 기자 이호준 기자 TALK 유익하고 소중한 제보를 기다려요! 제보 닫기 구독 구독중 구독자 0 응원수 0 500兆 원전 해체 시장 열린다…고리·월성 1호기가 韓 기업 테스트베드 [그린비즈] 목재 폐기물 ‘리그닌’의 재발견…백신, 항공유에 헤어 린스까지 조선비즈의 구독 많은 기자를 구독해보세요! 닫기 Copyright ⓒ 조선비즈. All rights reserved. 무단 전재 및 재배포 금지. 이 기사는 언론사에서 IT 섹션으로 분류했습니다. 기사 섹션 분류 안내 기사의 섹션 정보는 해당 언론사의 분류를 따르고 있습니다. 언론사는 개별 기사를 2개 이상 섹션으로 중복 분류할 수 있습니다. 닫기 구독 메인에서 바로 보는 언론사 편집 뉴스 지금 바로 구독해보세요! 구독중 메인에서 바로 보는 언론사 편집 뉴스'),\n",
       " Document(id='800cf63c-03cf-486e-97c5-7eb41c8d7c2e', metadata={'source': 'https://n.news.naver.com/mnews/article/092/0002364770?sid=105'}, page_content='지디넷코리아 지디넷코리아 구독 지디넷코리아 언론사 구독되었습니다. 메인 뉴스판에서 주요뉴스를 볼 수 있습니다. 보러가기 지디넷코리아 언론사 구독 해지되었습니다. PICK 안내 언론사가 주요기사로선정한 기사입니다. 언론사별 바로가기 닫기 \"비용·업무 최적화\"…IBM, 기업 전용 LLM 그래니트 신형 출시 입력2025.02.27. 오전 10:21 기사원문 남혁우 기자 남혁우 기자 남혁우 기자 구독  추천      복잡한 문서 중심 업무 처리 능력 향상·추론 기능 효율성 강화IBM이 기업 업무환경에 최적화된 대규모언어모델(LLM) 최신 버전을 선보인다.IBM은 LLM 제품군 차세대 버전인 그래니트(Granite) 3.2를 출시했다고 27일 밝혔다.그래니트는 작고 효율적이며 실용적인 기업용 인공지능(AI)을 제공해 실질적인 비즈니스 효과를 창출하기 위한 IBM의 지속적인 노력이 담긴 솔루션이다. IBM 그래니트(이미지=IBM)그래니트 3.2 모델은 허깅 페이스에서 허용되는 아파치 2.0 라이선스에 따라 사용할 수 있다.일부 모델들은 IBM 왓슨x.ai, 올라마(Ollama), 리플리케이트(Replicate), LM 스튜디오에서 바로 사용가능하다. 레드햇 엔터프라이즈 리눅스(RHEL) AI 1.5에서도 제공돼 기업과 오픈 소스 커뮤니티에 새로운 기능을 제공할 예정이다.그래니트 3.2은 문서 해석 작업을 위한 새로운 비전언어모델(VLM)이다. 엔터프라이즈 벤치마크인 DocVQA, ChartQA, AI2D 및 OCR벤치에서 기존 대형 모델인 라마 3.2 11B 및 픽스트랄 12B와 동등하거나 그 이상의 성능을 입증했다.IBM은 풍부한 학습 데이터뿐 아니라 자체 오픈 소스 도클링(Docling) 도구를 활용해 8천500만 개의 PDF를 처리하고 2천600만 개의 합성 질문-답변 조합을 생성해 복잡한 문서 중심의 업무를 처리하는 VLM의 능력을 향상시켰다.프로그래밍 방식으로 \\'연쇄적 사고(Chain of thought)\\'기능을 활성화 또는 비활성화할 수 있는 기능을 도입했다. 이 기능을 활용해 간단한 작업은 추론 기능을 최소화해 불필요한 연산 부하를 줄일 수 있다.이 기능을 통해 8B 모델은 안전성이나 성능 저하 없이 아레나하드및 알파카이벨과 같은 인스트럭션 추종 벤치마크에서 이전 모델보다 두 자릿수 개선된 성과를 달성했다.그래니트 3.2 8B 모델의 경우 새로운 추론 확장(inference scaling) 방법으로 AIME2024 및 MATH500과 같은 수학 추론 벤치마크에서 클로드 3.5-소넷 또는 GPT-4o와 같은 대규모 모델의 성능에 필적하도록 보정 가능하다.IBM은 그래니트 3.2 인스트럭트, 비전 및 가드레일 모델과 함께 최대 2년 후의 미래까지 장기 예측할 수 있는 기능을 갖춘 차세대 시계열 모델인 타이니타임믹서(TTM) 모델을 출시한다. 이는 금융 및 경제 동향, 공급망 수요 예측, 유통 업계의 계절별 재고 계획 등 장기적인 트렌드 분석에 강력한 도구가 될 것이다.IBM AI 연구 담당 스리람 라가반 부사장은 \"다음 AI 시대는 기업이 과도한 컴퓨팅 비용 없이도 강력한 성과를 달성할 수 있는 효율성, 통합 가능성, 실용성이 화두가 될 것\"이라며 \"개방형 솔루션에 중점을 둔 IBM의 최신 그래니트 모델은 오늘날 기업들의 AI 접근성, 비용 효율성, AI 자체의 가치를 높이는데 있어 도움을 줬다고 생각한다\"고 말했다. 남혁우 기자(firstblood@zdnet.co.kr) 기자 프로필 지디넷코리아 지디넷코리아 남혁우 기자 남혁우 기자 구독 구독중 구독자 0 응원수 0 소프트웨어의 발전이 행복의 발전이길 바랍니다. MS, \\'스카이프\\' 서비스 종료…\"22년 만에 역사 속으로\" 리게티컴퓨팅, 실적 발표 앞두고 3일 연속 하락 지디넷코리아의 구독 많은 기자를 구독해보세요! 닫기 Copyright ⓒ ZDNet Korea. All rights reserved. 무단 전재 및 재배포 금지. 이 기사는 언론사에서 IT 섹션으로 분류했습니다. 기사 섹션 분류 안내 기사의 섹션 정보는 해당 언론사의 분류를 따르고 있습니다. 언론사는'),\n",
       " Document(id='fd45c39e-31f3-4f3f-b4b3-17ef2b5f8604', metadata={'source': 'https://n.news.naver.com/mnews/article/243/0000073398?sid=101'}, page_content='이코노미스트 이코노미스트 구독 이코노미스트 언론사 구독되었습니다. 메인 뉴스판에서 주요뉴스를 볼 수 있습니다. 보러가기 이코노미스트 언론사 구독 해지되었습니다. 케이뱅크, 인뱅 최초 금융 특화 프라이빗 LLM 도입 입력2025.02.26. 오후 2:36 기사원문 김윤주 기자 TALK 김윤주 기자 김윤주 기자 TALK 구독  추천      책 1억권 분량의 금융 데이터로 프라이빗 LLM 학습임직원 대상 서비스 제공…대고객 AI 에이전트 도입 검토 케이뱅크 본사 전경. [사진 케이뱅크][이코노미스트 김윤주 기자] 케이뱅크가 금융 특화 프라이빗 LLM을 도입하며 ‘AI Powered Bank’로 도약에 나섰다.케이뱅크는 인터넷은행 최초로 금융 특화 프라이빗 LLM(Large Language Model)을 도입했다고 26일 밝혔다. 지난해 2월 KT·KT클라우드·업스테이지와 업무협약을 체결하고 AI 분야 협업을 강화한 성과다.프라이빗 LLM은 공개적으로 접근이 가능한 챗GPT, 딥시크 등과 달리 특정 조직이나 기업 내부에서만 사용하도록 설계된 맞춤형 인공지능 언어 모델이다. 공개형 LLM과 비교해 해당 기업이나 특정 분야에 최적화된 것이 특징이다.프라이빗 LLM은 기업이 원하는 전문 데이터를 학습시켜 보다 정교하고 신뢰성 높은 정보를 생성할 수 있으며 데이터가 외부로 전송되지 않고 내부 서버에서만 운영되기 때문에 보안성이 뛰어나다.특히 금융 산업은 복잡한 용어와 개념이 많고 보안이 중요한 분야이기 때문에 전문적인 성능과 강력한 보안성을 갖춘 프라이빗 LLM 도입이 더욱 주목받고 있다.케이뱅크는 이번 프라이빗 LLM 설계를 위해 금융 공공기관, 금융학회 등에서 발표한 책 1억권 분량의 방대한 금융 전문 데이터를 수집했다. 이후 사후 학습(Post-training) 과정을 통해 금융 데이터를 학습시켜 금융 도메인에 대한 전문성을 강화하고 범용적인 언어 처리 능력을 유지하도록 최적화했다.이를 통해 금융 관련 질문에 대한 정확성을 높이고, 신뢰도 높은 응답을 제공할 수 있도록 개선했다. 또한 공신력 있는 금융 자격시험 23종에서 추출한 데이터로 LLM을 평가해 금융 지식 수준을 측정하고 종합적인 성능도 입증했다.프라이빗 LLM은 내부 업무 프로세스 혁신과 대고객 AI 서비스 확대 등을 위해 활용될 예정이다. 임직원이 사내 규정과 정보 등을 질문하면 이에 맞는 답변을 안내하는 대화형 인공지능 서비스와 콘텐츠를 요약해 자동으로 보고서를 생성해주는 기능 등을 제공할 계획이다.대고객 측면에서도 고객의 편리하고 스마트한 금융생활을 지원하는 AI 에이전트(가상비서) 등의 도입을 검토할 예정이다.케이뱅크 관계자는 “금융 산업은 높은 보안성과 전문적인 역량을 요하는 만큼 프라이빗 LLM의 활용도가 높다”며 “앞으로도 AI 혁신을 통해 비즈니스 영역을 확장하고 업무 생산성을 강화하며 ‘AI Powered Bank’로 거듭나겠다”고 말했다. 김윤주(joos2@edaily.co.kr) 기자 프로필 이코노미스트 이코노미스트 김윤주 기자 김윤주 기자 TALK 유익하고 소중한 제보를 기다려요! 제보 닫기 구독 구독중 구독자 0 응원수 0 생활에 도움 되는 경제 뉴스를 전달하겠습니다. [김윤주의 금은동] 코너도 연재하고 있습니다. 출생아 수 ‘깜짝 반전’에도…지난해 한국인 12만명 사라져 겨울 제철 귤보다 많이 팔렸다…대형마트 매출 1위는 ‘이 과일’ 이코노미스트의 구독 많은 기자를 구독해보세요! 닫기 Copyright ⓒ 이코노미스트. All rights reserved. 무단 전재 및 재배포 금지. 이 기사는 언론사에서 경제 섹션으로 분류했습니다. 기사 섹션 분류 안내 기사의 섹션 정보는 해당 언론사의 분류를 따르고 있습니다. 언론사는 개별 기사를 2개 이상 섹션으로 중복 분류할 수 있습니다. 닫기 구독 메인에서 바로 보는 언론사 편집 뉴스 지금 바로 구독해보세요! 구독중 메인에서 바로 보는 언론사 편집 뉴스 지금 바로 확인해보세요! 네이버에서 이코노미스트를 구독해주세요 국내 정상의 온라인·오프라인 경제지 이코노미스트 이코노미스트 이코노미스트')]"
      ]
     },
     "execution_count": 22,
     "metadata": {},
     "output_type": "execute_result"
    }
   ],
   "source": [
    "retriever.invoke(\"도메인 특화 LLM에 대한 소식 있어?\")"
   ]
  },
  {
   "cell_type": "markdown",
   "metadata": {
    "id": "R7i4qL0ZBPif"
   },
   "source": [
    "## 3. Prompting"
   ]
  },
  {
   "cell_type": "markdown",
   "metadata": {
    "id": "v5QpFAyVMYpV"
   },
   "source": [
    "RAG를 위한 간단한 프롬프트를 작성합니다."
   ]
  },
  {
   "cell_type": "code",
   "execution_count": 23,
   "metadata": {
    "id": "7BiDkZRlBPig"
   },
   "outputs": [],
   "source": [
    "from langchain.prompts import ChatPromptTemplate\n",
    "from langchain_openai import ChatOpenAI"
   ]
  },
  {
   "cell_type": "code",
   "execution_count": 24,
   "metadata": {
    "id": "RS06ZDSDBPig"
   },
   "outputs": [
    {
     "name": "stdout",
     "output_type": "stream",
     "text": [
      "================================\u001b[1m Human Message \u001b[0m=================================\n",
      "\n",
      "당신은 QA(Question-Answering)을 수행하는 Assistant입니다.\n",
      "다음의 Context를 이용하여 Question에 답변하세요.\n",
      "최소 3문장에서 최대 5문장으로 답변하고, 정확한 답변을 제공하세요.\n",
      "만약 모든 Context를 다 확인해도 정보가 없다면, \"정보가 부족하여 답변할 수 없습니다.\"를 출력하세요.\n",
      "---\n",
      "Context: \u001b[33;1m\u001b[1;3m{context}\u001b[0m\n",
      "---\n",
      "Question: \u001b[33;1m\u001b[1;3m{question}\u001b[0m\n"
     ]
    }
   ],
   "source": [
    "prompt = ChatPromptTemplate.from_messages([\n",
    "    (\"user\", '''당신은 QA(Question-Answering)을 수행하는 Assistant입니다.\n",
    "다음의 Context를 이용하여 Question에 답변하세요.\n",
    "최소 3문장에서 최대 5문장으로 답변하고, 정확한 답변을 제공하세요.\n",
    "만약 모든 Context를 다 확인해도 정보가 없다면, \"정보가 부족하여 답변할 수 없습니다.\"를 출력하세요.\n",
    "---\n",
    "Context: {context}\n",
    "---\n",
    "Question: {question}''')])\n",
    "prompt.pretty_print() # pretty_print() 사람이 보기 편하게 출력"
   ]
  },
  {
   "cell_type": "markdown",
   "metadata": {
    "id": "9C09vkykMwXo"
   },
   "source": [
    "## 4. Chain"
   ]
  },
  {
   "cell_type": "markdown",
   "metadata": {
    "id": "H98LGZRVBPig"
   },
   "source": [
    "RAG를 수행하기 위한 Chain을 만듭니다."
   ]
  },
  {
   "cell_type": "markdown",
   "metadata": {
    "id": "2kqWGHwuBPig"
   },
   "source": [
    "RAG Chain은 프롬프트에 context와 question을 전달해야 합니다.    \n",
    "체인의 입력은 Question만 들어가므로, Context를 동시에 prompt에 넣기 위해서는 아래의 구성이 필요합니다."
   ]
  },
  {
   "cell_type": "code",
   "execution_count": 25,
   "metadata": {
    "id": "GEr1E0zbBPig"
   },
   "outputs": [],
   "source": [
    "from langchain.schema.runnable import RunnablePassthrough\n",
    "from langchain.schema.output_parser import StrOutputParser\n",
    "\n",
    "\n",
    "llm = ChatOpenAI(model_name=\"gpt-4o-mini\", temperature=0.1)\n",
    "\n",
    "\n",
    "# retriever의 결과물은 List[Document] 이므로 이를 ---로 구분하는 함수\n",
    "# metadata의 source를 보존하여 추가\n",
    "def format_docs(docs):\n",
    "    return \"\\n\\n---\\n\\n\".join([doc.page_content+ '\\nURL: '+ doc.metadata['source'] for doc in docs])\n",
    "    # join : 구분자를 기준으로 스트링 리스트를 하나의 스트링으로 연결\n",
    "    # Ex)'와'.join(['a','b','c']) = 'a와b와c'\n",
    "\n",
    "rag_chain = (\n",
    "    {\"context\": retriever | format_docs, \"question\": RunnablePassthrough()}\n",
    "    # retriever : question을 받아서 context 검색: document 반환\n",
    "    # format_docs : document 형태를 받아서 텍스트로 변환\n",
    "    # RunnablePassthrough(): 체인의 입력을 그대로 저장\n",
    "    | prompt\n",
    "    | llm\n",
    "    | StrOutputParser()\n",
    ")"
   ]
  },
  {
   "cell_type": "code",
   "execution_count": 26,
   "metadata": {
    "id": "nV9-CYSzBPig"
   },
   "outputs": [
    {
     "data": {
      "text/plain": [
       "'도메인 특화 LLM(대형 언어 모델)은 특정 분야나 산업에 최적화된 인공지능 언어 모델을 의미합니다. 이러한 모델은 일반적인 LLM과 달리 특정 조직이나 기업의 요구에 맞춰 설계되어, 해당 분야의 전문 데이터를 학습하여 보다 정교하고 신뢰성 높은 정보를 생성할 수 있습니다. 예를 들어, 금융 산업에 특화된 LLM은 금융 관련 용어와 개념을 잘 이해하고, 고객의 질문에 대해 정확한 답변을 제공하는 데 중점을 둡니다. 이러한 특화된 모델은 보안성이 뛰어나고, 특정 도메인에서의 성능을 극대화하는 데 기여합니다.'"
      ]
     },
     "execution_count": 26,
     "metadata": {},
     "output_type": "execute_result"
    }
   ],
   "source": [
    "rag_chain.invoke(\"도메인 특화 LLM이 뭔가요?\")"
   ]
  },
  {
   "cell_type": "code",
   "execution_count": 27,
   "metadata": {
    "id": "0j9J2CpsBPig"
   },
   "outputs": [
    {
     "data": {
      "text/plain": [
       "\"오픈AI는 최근 'GPT-4.5'라는 새로운 인공지능 모델을 공개했습니다. 이 모델은 추론과 증류 기능이 없는 마지막 일반 모델로, 특정 사용자 그룹에 제한적으로 제공되며, 월 200달러의 '챗GPT 프로' 요금제 사용자에게 우선 제공됩니다. GPT-4.5는 이전 모델들보다 더 높은 정확도와 감성지능을 갖추고 있어, 보다 자연스러운 대화가 가능하다고 평가받고 있습니다. 또한, 오픈AI는 향후 GPT-5에서 추론 모델과 일반 모델을 통합할 계획이라고 밝혔습니다.\""
      ]
     },
     "execution_count": 27,
     "metadata": {},
     "output_type": "execute_result"
    }
   ],
   "source": [
    "rag_chain.invoke(\"오픈 AI 최근 소식 있어?\")"
   ]
  },
  {
   "cell_type": "code",
   "execution_count": 28,
   "metadata": {
    "id": "fhgi0WUEzxvF"
   },
   "outputs": [
    {
     "data": {
      "text/plain": [
       "'정보가 부족하여 답변할 수 없습니다.'"
      ]
     },
     "execution_count": 28,
     "metadata": {},
     "output_type": "execute_result"
    }
   ],
   "source": [
    "rag_chain.invoke(\"한국에서 만든 초거대 언어 모델은 뭐가 있나요? 참고 링크도 올려주세요\")"
   ]
  },
  {
   "cell_type": "code",
   "execution_count": 29,
   "metadata": {
    "id": "Ii804dgWp2ax"
   },
   "outputs": [
    {
     "data": {
      "text/plain": [
       "'정보가 부족하여 답변할 수 없습니다.'"
      ]
     },
     "execution_count": 29,
     "metadata": {},
     "output_type": "execute_result"
    }
   ],
   "source": [
    "rag_chain.invoke(\"sllm이 뭐야?\")"
   ]
  },
  {
   "cell_type": "markdown",
   "metadata": {
    "id": "8br1RVEwkVC4"
   },
   "source": [
    "만약 Context가 포함된 RAG 결과를 보고 싶다면, RunnableParallel을 사용하면 됩니다."
   ]
  },
  {
   "cell_type": "markdown",
   "metadata": {
    "id": "37hTqiCOzxvF"
   },
   "source": [
    "assign()을 이용하면, 체인의 결과를 받아 새로운 체인에 전달하고, 그 결과를 가져옵니다."
   ]
  },
  {
   "cell_type": "code",
   "execution_count": 30,
   "metadata": {
    "id": "8lirfP5Q-HyX"
   },
   "outputs": [
    {
     "data": {
      "text/plain": [
       "{'context': 'KBS KBS 구독 KBS 언론사 구독되었습니다. 메인 뉴스판에서 주요뉴스를 볼 수 있습니다. 보러가기 KBS 언론사 구독 해지되었습니다. 이재명 “모든 국민에 인공지능 활용법 가르쳐야”…‘엔비디아’ 발언 비판에 “문맹 수준” 입력2025.03.04. 오전 9:47 수정2025.03.04. 오전 10:52 기사원문 손서영 기자 손서영 기자 손서영 기자 구독  추천      더불어민주당 이재명 대표는 \"AI(인공지능)가 일상생활은 물론 학습, 연구, 개발 등에 없어서는 안 될 필수 도구가 될 것\"이라며 모든 국민에게 활용법을 교육할 필요가 있다고 밝혔습니다. 민주당 이재명 대표는 오늘(4일) SNS를 통해 \"인공지능이 지배적 기술이 되는 어느 시점인가는 기본적 인프라로 모든 국민이 최소한의 인공지능 이용 서비스를 제공받게 될 것\"이라며 \"그 시점을 하루라도 앞당기고 미리 준비하는 것이 대한민국의 밝은 미래를 여는 것\"이라고 말했습니다. 그러면서 \"모든 국민들에게 무상 의무교육을 시켜 한글과 산수, 기초 교양을 가르치는 것처럼 모든 국민에게 인공지능 활용법을 가르쳐야 한다\"고 강조했습니다. 이 대표는 또 \"교과서를 무상 제공한 것처럼 인공지능 이용 기회를 부여해야 할 것\"이라며 \"대한민국의 데이터를 모으고 국가 차원의 소버린 AI 체계 구축도 해야 한다\"고 말했습니다. 이 대표는 \"저는 자료 조사나 분석을 보좌진보다 챗지피티에 더 의존한다\"며 \"지속적으로 AI 성능도 개선될 것이고 의존도는 더 올라갈 것\"이라고 밝혔습니다. 이어 \"생성형 인공지능 챗지피티의 월간 이용료는 현재 20불이고 더 내릴 것\"이라며 \"보안 문제로 사용이 제한되었지만 챗지피티보다 성능이 유사하거나 더 낫다는 중국 딥시크는 아예 무료다, 딥시크는 개발비는 매우 적고 최첨단 GPU를 사용하지도 않았다고 한다\"고 말했습니다. ■ \\'K-엔비디아\\' 여권 비판에 \"극우 본색에 문맹 수준 식견\" 한편 이 대표는 이른바 \\'K-엔비디아\\' 구상과 관련해 여권을 중심으로 \\'반기업적\\'이란 지적이 나오자 직접 반박에 나섰습니다. 이 대표는 SNS에서 \"\\'대규모 투자가 필요한 AI 관련 기업에 국부펀드나 국민펀드가 공동투자해 지분을 확보하고 그 기업이 엔비디아처럼 크게 성공하면 국민의 조세 부담을 경감할 수 있다\\' 했더니 국민의힘이 성공한 기업 지분을 뺏으려는 반기업 행위라고 공격한다\"고 맞받았습니다. 이어 \"AI가 불러올 미래에 대한 무지도 문제지만, 한국말도 제대로 이해 못하니 그런 수준의 지적 능력으로 어떻게 대한민국을 책임지겠냐\"며 \"극우본색에 거의 문맹 수준의 식견까지 참 걱정된다\"고 말했습니다. 앞서 이 대표는 지난 2일 당 싱크탱크인 민주연구원의 집단지성센터에서 주최한 \\'AI와 대한민국, 그리고 나\\'를 주제로 전문가들과 대담을 갖고 \"모든 국민들이 무료로 생성형 인공지능(AI)을 쓸 수 있는 기회를 만들고 싶다\"고 밝혔습니다. 그러면서 \"특정 개인과 기업이 독점하지 않고 국민 모두가 상당 부분 공유하는 세상을 만들 수 있다\"며 \"제가 꿈꾸는 기본사회, 국민의 기본적 삶이 공동체에 의해 보장되는 사회에는 재정력이 필요하고, 그 길을 AI가 열어주지 않을까\"라고 말했습니다. 또 \"앞으로 도래할 인공지능(AI) 사회에 엄청난 생산성 중 일부를 공공 영역이 가지고 있으면서 국민 모두가 나누는 시대도 가능하다\"며 자신의 \\'K-엔비디아\\' 구상도 내놨습니다. 이 대표는 \"인공지능에 투자해야 하는데 그중 일부를 국가가 가지고 있으면서 투자로 인해 발생하는 생산성 일부를 국민 모두가 골고루 나눠 가지면 세금을 굳이 안 걷어도 될 것\"이라며 \"(한국에) 엔비디아 같은 회사가 하나 생겼다면, 70%는 민간이 갖고 30%는 국민 모두가 나누면 되지 않을까\"라고 말했습니다.[사진 출처 : 연합뉴스 / 더불어민주당 제공]■ 제보하기▷ 전화 : 02-781-1234, 4444▷ 이메일 : kbs1234@kbs.co.kr▷ 카카오톡 : \\'KBS제보\\' 검색, 채널 추가▷ 네이버, 유튜브에서 KBS뉴스를 구독해주세요! 손서영 (bellesy@kbs.co.kr) 기자 프로필 KBS KBS\\nURL: https://n.news.naver.com/mnews/article/056/0011903830?sid=100\\n\\n---\\n\\nKBS KBS 구독 KBS 언론사 구독되었습니다. 메인 뉴스판에서 주요뉴스를 볼 수 있습니다. 보러가기 KBS 언론사 구독 해지되었습니다. 이재명 “모든 국민 ‘무료 생성형 AI’ 사용해야…인프라 확충과 제도 개선 집중” 입력2025.03.02. 오후 1:44 수정2025.03.02. 오후 2:02 기사원문 원동희 기자 원동희 기자 원동희 기자 구독  추천      더불어민주당 이재명 대표는 AI 전문가들과 대담을 나누며 전 국민이 무료 생성형 인공지능을 쓸 수 있을 정도로 인프라와 확충과 사회 제도 개선에 집중하겠다고 밝혔습니다. 이재명 대표는 오늘(2일) 오전에 공개된 ‘AI와 대한민국, 그리고 나’를 주제로 전문가들과 나눈 첫 대담에서 “당에 AI 강국위원회를 만들어 직접 위원장을 맡았다”며 “모든 국민들이 무료로 생성형 인공지능(AI)을 쓸 수 있는 기회를 만들고 싶다”고 밝혔습니다. 오늘 공개된 대담엔 네이버 클라우드센터장인 하정우 바른과학기술사회 실현을 위한 국민연합 공동대표와 오혜연 카이스트 AI연구원장이 참여했습니다. 이 대표 등 대담 참석자들은 민주당 의견 수렴 플랫폼인 ‘모두의질문Q’에 접수된 질문 중 AI와 관련된 질문을 소개하고 답하는 방식으로 대담을 나누었습니다. 이 대표는 대담에서 중국의 저비용·고효율 생성형 AI인 딥시크발 ‘쇼크’를 거론하며 AI 산업 발전 방안에 대한 전문가 의견을 경청하고, 조속한 H100급 GPU(그래픽처리장치) 확보와 정부 주도의 글로벌 AI 기술 협력 강화 필요성에 공감했습니다. 또한 노동과 교육제도 개선이 필요하다는 지적에 이 대표는 AI 발달로 인한 생산성 증대를 특정 개인이나 기업이 독점하지 않고 국민 모두가 함께 공유할 수 있는 세상을 만들어야 하고, AI산업 발전과정에 소외되는 계층이 없도록 충실한 사회안전망을 구축해야 한다고 답했습니다. 오늘 공개된 대담을 기획한 민주연구원 집단지성센터는 모두의질문Q에 올라온 질문을 중심으로 다양한 사회 정책 이슈를 다루는 대담을 이어갈 예정이라고 밝혔습니다.[사진 출처 : 연합뉴스 / 민주연구원 제공]■ 제보하기▷ 전화 : 02-781-1234, 4444▷ 이메일 : kbs1234@kbs.co.kr▷ 카카오톡 : \\'KBS제보\\' 검색, 채널 추가▷ 네이버, 유튜브에서 KBS뉴스를 구독해주세요! 원동희 (eastshine@kbs.co.kr) 기자 프로필 KBS KBS 원동희 기자 원동희 기자 구독 구독중 구독자 0 응원수 0 오늘은 이런 일이 있었습니다. 민주당 명태균 녹취 추가 공개…“김건희 여사, 경남도지사 선거도 개입 의혹” 민주당, 권성동 상속세 완화 비판에 “국힘은 955명 초부자들만의 대변인이냐” KBS의 구독 많은 기자를 구독해보세요! 닫기 Copyright ⓒ KBS. All rights reserved. 무단 전재, 재배포 및 이용(AI 학습 포함) 금지 이 기사는 언론사에서 정치 섹션으로 분류했습니다. 기사 섹션 분류 안내 기사의 섹션 정보는 해당 언론사의 분류를 따르고 있습니다. 언론사는 개별 기사를 2개 이상 섹션으로 중복 분류할 수 있습니다. 닫기 구독 메인에서 바로 보는 언론사 편집 뉴스 지금 바로 구독해보세요! 구독중 메인에서 바로 보는 언론사 편집 뉴스 지금 바로 확인해보세요! <모아보기> 윤석열 대통령 구속...헌정 최초 [클릭] QR 코드를 클릭하면 크게 볼 수 있어요. QR을 촬영해보세요. <모아보기> 윤석열 대통령 구속...헌정 최초 [클릭] 닫기 이 시각 가장 뜨거운 뉴스 [클릭] QR 코드를 클릭하면 크게 볼 수 있어요. QR을 촬영해보세요. 이 시각 가장 뜨거운 뉴스 [클릭] 닫기 KBS KBS 주요뉴스해당 언론사에서 선정하며 언론사 페이지(아웃링크)로 이동해 볼 수 있습니다. \"제 공직생활 36년이 3시간으로 마무리됐다\" 쏟아진 재판관 \\'질문들\\'…\\'탄핵 가늠자\\' 되나? 북한 관광 열렸다…우리도 갈 수 있을까? \"알바 2개로도 버거워, 다시 본가로\"…K-대학생 브이로그ⓛ \\'살인 예고\\' 글 올리면 최대 징역 5년…예비군 참석 불이익 \\'처벌\\' 이 기사를 추천합니다 기사\\nURL: https://n.news.naver.com/mnews/article/056/0011902997?sid=100\\n\\n---\\n\\n지디넷코리아 지디넷코리아 구독 지디넷코리아 언론사 구독되었습니다. 메인 뉴스판에서 주요뉴스를 볼 수 있습니다. 보러가기 지디넷코리아 언론사 구독 해지되었습니다. PICK 안내 언론사가 주요기사로선정한 기사입니다. 언론사별 바로가기 닫기 생활가전 부품부터 안전관리…살생물제 안전관리 지침 24일 공개 입력2025.02.24. 오전 12:00 기사원문 주문정 기자 주문정 기자 주문정 기자 구독  추천      환경부·소비자원·가전업계, 살생물제 안전관리 지침 마련환경부는 한국소비자원·한국전자정보통신산업진흥회·가전업체와 함께 마련한 ‘살생물제 안전관리 지침(가이드라인 가전제품편)’을 화학제품안전포털에 24일 공개한다.살생물제 안전관리 지침은 지난해 7월에 구성된 ‘가전제품 살생물제 안전관리 협의체가 매달 회의를 통해 가전제품 살생물제 사용 현황과 안전관리 방안을 논의한 끝에 마련됐다.지침은 가전업계가 완제품과 부품을 제조·공급하는 과정에서 적법하게 승인된 살생물제를 사용하고, 공급망 내 투명한 정보 공유 등을 통해 업계 스스로 안전관리 체계를 구축하는 데 활용될 예정이다.환경부 관계자는 “정부와 가전업계가 협업해 2028년부터 승인된 살생물제품만 사용해야 하는 관련 의무가 적용되기 전에자발적으로 대비했다는 점에서 의미가 있다”고 전했다. 정부세종청사 환경부 전경살생물처리제품은 제품 주기능이 아닌 제품 자체의 보존·항균 등 부수적 목적을 위해 살생물제품으로 처리한 제품으로, 승인된 살생물제품 사용 의무와 처리제품에 맞는 표시·광고 의무가 적용될 예정이다.환경부는 올해 이 지침을 바탕으로 가전제품 분야 살생물제 안전관리 체계구축 시범사업을 추진한다. 또 생활가전 완제품 업체를 중심으로 이들 업계에 부품 및 원료를 공급하는 협력업체에도 살생물제 안전관리 역량 강화를 위한 교육과 상담(컨설팅) 등을 지원할 예정이다.박연재 환경부 환경보건국장은 “업계 특성을 고려한 살생물제 안전관리 체계구축을 위해 자발적 참여에 기반한 민관 협업을 확대하고 있다”며 “자동차·가전제품에 이어 섬유·침구 분야 등 대상을 점진적으로 확대해 살생물제 안전관리 체계의 기틀을 마련하겠다”고 밝혔다.정현희 소비자원 소비자안전센터소장은 “소비자원은 소비자가 안심하고 제품을 사용할 수 있도록 살생물제 안전관리 강화를 적극 지원하겠다”고 밝혔다.한편, 환경부와 소비자원은 지난 2023년 11월, 자동차 업계와 ‘살생물제 안전관리 지침(가이드라인 자동차편)’을 마련한 바 있다. 환경부는 자동차 업계에도 지난 한 해 동안 시범사업 등을 통해 완성차 부품(필터·시트·핸들 등) 공급망에 속한 중소기업들을 대상으로 살생물제 안전 관리체계를 구축한 바 있다. 주문정 기자(mjjoo@zdnet.co.kr) 기자 프로필 지디넷코리아 지디넷코리아 주문정 기자 주문정 기자 구독 구독중 구독자 0 응원수 0 산업부·국토부·환경부·공정위 등 행정부처를 취재합니다. 대한민국 산업과 경제를 업그레이드하는데 보탬되는 기사를 찾아 뛰겠습니다. ‘GTX-A 운정중앙~서울역 구간’ 개통 60일 만에 승객 약 220만명 이용 ‘인터배터리 2025’ 개막…역대 최대 688개 기업 참여 지디넷코리아의 구독 많은 기자를 구독해보세요! 닫기 Copyright ⓒ ZDNet Korea. All rights reserved. 무단 전재 및 재배포 금지. 이 기사는 언론사에서 IT 섹션으로 분류했습니다. 기사 섹션 분류 안내 기사의 섹션 정보는 해당 언론사의 분류를 따르고 있습니다. 언론사는 개별 기사를 2개 이상 섹션으로 중복 분류할 수 있습니다. 닫기 구독 메인에서 바로 보는 언론사 편집 뉴스 지금 바로 구독해보세요! 구독중 메인에서 바로 보는 언론사 편집 뉴스 지금 바로 확인해보세요! 지디넷코리아 \\'홈페이지\\' QR 코드를 클릭하면 크게 볼 수 있어요. QR을 촬영해보세요. 지디넷코리아 \\'홈페이지\\' 닫기 네이버 채널 구독하기 지디넷코리아 지디넷코리아 주요뉴스해당 언론사에서 선정하며 언론사 페이지(아웃링크)로 이동해 볼 수 있습니다. \\'생활화학제품 안전약속 이행협의체\\' 발족 출범 \"고객 편의성\\nURL: https://n.news.naver.com/mnews/article/092/0002364211?sid=105\\n\\n---\\n\\n지디넷코리아 지디넷코리아 구독 지디넷코리아 언론사 구독되었습니다. 메인 뉴스판에서 주요뉴스를 볼 수 있습니다. 보러가기 지디넷코리아 언론사 구독 해지되었습니다. 코난테크놀로지-TG삼보, 생성형 AI 어플라이언스 본격화…차세대 PC 시장 공략 입력2025.03.04. 오후 4:48 기사원문 조이환 기자 조이환 기자 조이환 기자 구독  추천      인터넷 없이도 생성형 AI 활용…온디바이스 AI로 보안·생산성 강화코난테크놀로지가 TG삼보와 손잡고 온디바이스 인공지능(AI)의 보안성과 생산성을 강화함으로써 생성형 AI 어플라이언스 사업을 본격화한다.코난테크놀로지는 오는 4월 TG삼보의 \\'LME186\\' 시리즈에 자사 \\'코난 거대언어모델 온디바이스(LLM OND)\\' 모델을 탑재한 AI 퍼스널 컴퓨터(PC)를 출시할 예정이라고 4일 밝혔다. 두 회사는 지난해 \\'AI 분야 상호협력 업무 협약\\'을 체결한 이후 제품을 개발하며 인터넷 연결 없이도 생성형 AI 기능을 실행할 수 있도록 설계했다.이번 AI PC의 가장 큰 특징은 보안성과 신뢰성이다. \\'코난 LLM OND\\'는 사용자의 PC 문서를 실시간으로 벡터 색인하고 이를 기반으로 질의응답을 수행한다. 외부 서버를 거치지 않기 때문에 문서 유출 위험이 없고 최신 정보를 반영한 답변이 가능하다. 문서 요약, 표 요약, 다국어 번역, 질의응답 등의 기능을 제공해 업무 효율을 높인다. (사진=코난테크놀로지)스펙도 강력하다. 기본 모델은 ▲64GB DDR5 메모리 ▲2TB SSD ▲지포스 RTX 4070 Ti Super 16GB ▲Z790 칩셋을 탑재해 AI 연산에 최적화됐다.코난테크놀로지는 AI 소프트웨어와 하드웨어를 결합하는 \\'투 트랙\\' 전략을 본격화하고 있다. 지난달 기업용 AI 솔루션 \\'코난 검색증강생성(RAG)-X\\'의 클로즈 베타 테스트를 완료했으며 오는 4월에는 한층 강화된 \\'코난 LLM\\' 신규 버전을 출시할 계획이다. 온디바이스 AI 기술을 기반으로 AI PC뿐만 아니라 다양한 생성형 AI 어플라이언스 사업도 확대할 방침이다.TG삼보는 정부 조달 시장에서 10년 연속 1위를 기록한 기업으로, 공공 시장에서의 강점을 적극 활용할 계획이다. 기관별 보안 및 환경 요구에 맞춘 최적화 모델을 제공해 시장을 선점한다는 전략이다. 또 공공뿐만 아니라 일반 기업과 개인 소비자 시장까지 범위를 확대해 AI PC 보급을 가속화할 예정이다.지승현 TG삼보 대표는 \"AI PC 도입의 핵심은 솔루션의 최적화\"라며 \"지난 40년 동안 쌓은 기술력과 코난테크놀로지의 AI 역량을 결합해 AI PC 시장을 선도하겠다\"고 말했다.김영섬 코난테크놀로지 대표는 \"신뢰성과 보안을 기반으로 AI PC 시장에 본격 진출하겠다\"며 \"온디바이스 AI 기반의 생성형 AI 어플라이언스 사업을 더욱 확대할 것\"이라고 밝혔다. 조이환 기자(ianyhcho@zdnet.co.kr) 기자 프로필 지디넷코리아 지디넷코리아 조이환 기자 조이환 기자 구독 구독중 구독자 0 응원수 0 AI의 무한한 가능성을 사랑합니다. AI•클라우드 소식을 신속하고 정확하게 보도하겠습니다. 샘 알트먼 \"GPU 부족\"...오픈AI 새 GPT \\'병목현상\\' 오픈AI, \\'챗GPT\\' 음성 기능 무료 개방…AI 비서 시장 정조준 지디넷코리아의 구독 많은 기자를 구독해보세요! 닫기 Copyright ⓒ ZDNet Korea. All rights reserved. 무단 전재 및 재배포 금지. 이 기사는 언론사에서 IT 섹션으로 분류했습니다. 기사 섹션 분류 안내 기사의 섹션 정보는 해당 언론사의 분류를 따르고 있습니다. 언론사는 개별 기사를 2개 이상 섹션으로 중복 분류할 수 있습니다. 닫기 구독 메인에서 바로 보는 언론사 편집 뉴스 지금 바로 구독해보세요! 구독중 메인에서 바로 보는 언론사 편집 뉴스 지금 바로 확인해보세요! 지디넷코리아 \\'홈페이지\\' QR 코드를 클릭하면 크게 볼 수 있어요. QR을 촬영해보세요. 지디넷코리아 \\'홈페이지\\' 닫기 네이버 채널 구독하기 지디넷코리아 지디넷코리아 주요뉴스해당 언론사에서 선정하며 언론사 페이지(아웃링크)로 이동해 볼 수\\nURL: https://n.news.naver.com/mnews/article/092/0002365336?sid=105',\n",
       " 'question': '엔비디아에 대한 소식은?',\n",
       " 'answer': '이재명 더불어민주당 대표는 \\'K-엔비디아\\' 구상에 대해 언급하며, AI 관련 기업에 대한 대규모 투자가 필요하다고 강조했습니다. 그는 국부펀드나 국민펀드가 AI 기업에 공동투자하여 성공할 경우 국민의 조세 부담을 줄일 수 있다고 주장했습니다. 그러나 여권에서는 이 대표의 발언을 반기업적이라고 비판하였고, 이 대표는 이에 대해 \"극우 본색에 문맹 수준의 식견\"이라고 반박했습니다.'}"
      ]
     },
     "execution_count": 30,
     "metadata": {},
     "output_type": "execute_result"
    }
   ],
   "source": [
    "from langchain_core.runnables import RunnableParallel\n",
    "# assign : 결과를 받아서 새로운 인수 추가하고 원래 결과와 함께 전달\n",
    "\n",
    "rag_chain_from_docs = (\n",
    "    prompt\n",
    "    | llm\n",
    "    | StrOutputParser()\n",
    ")\n",
    "\n",
    "rag_chain_with_source = RunnableParallel(\n",
    "    {\"context\": retriever | format_docs, \"question\": RunnablePassthrough()}\n",
    ").assign(answer=rag_chain_from_docs)\n",
    "\n",
    "rag_chain_with_source.invoke(\"엔비디아에 대한 소식은?\")\n",
    "\n",
    "# retriever가 1번 실행됨\n",
    "# retriever의 실행 결과를 rag_chain_from_docs 에 넘겨주기 때문에"
   ]
  },
  {
   "cell_type": "code",
   "execution_count": 31,
   "metadata": {
    "id": "XBiTln8b-seK"
   },
   "outputs": [
    {
     "data": {
      "text/plain": [
       "{'passed': {'num': 1}, 'extra': {'num': 1, 'mult': 3}, 'modified': 2}"
      ]
     },
     "execution_count": 31,
     "metadata": {},
     "output_type": "execute_result"
    }
   ],
   "source": [
    "# Runnable Quiz\n",
    "\n",
    "runnable = RunnableParallel(\n",
    "    passed=RunnablePassthrough(),\n",
    "    extra=RunnablePassthrough.assign(mult=lambda x: x[\"num\"] * 3),\n",
    "    modified=lambda x: x[\"num\"] + 1,\n",
    ")\n",
    "\n",
    "runnable.invoke({\"num\": 1})\n",
    "# 결과 이해해보기!"
   ]
  },
  {
   "cell_type": "markdown",
   "metadata": {
    "id": "QVOmu3_S0XCj"
   },
   "source": [
    "## Gradio로 배포하기"
   ]
  },
  {
   "cell_type": "markdown",
   "metadata": {
    "id": "-iIfbn4u0YjT"
   },
   "source": [
    "입력과 출력을 통해 RAG를 수행합니다.   \n",
    "크롤링을 수행하는 것은 시간이 오래 걸리기 때문에,     \n",
    "기본값을 5로 두고 수정 가능하게 만들어 보겠습니다."
   ]
  },
  {
   "cell_type": "code",
   "execution_count": 32,
   "metadata": {
    "id": "Q13w-dDH0WTL"
   },
   "outputs": [],
   "source": [
    "def construct_vector_db(query, num_links=5):\n",
    "    filtered_links = get_naver_news_links(query, num_links)\n",
    "    docs = get_news_documents(filtered_links)\n",
    "    preprocessed_docs = preprocess(docs)\n",
    "    chunks = text_splitter.split_documents(preprocessed_docs)\n",
    "    Chroma().delete_collection() # 메모리에 로드된 기존 데이터 삭제\n",
    "\n",
    "    db = Chroma.from_documents(documents=chunks,\n",
    "                               embedding=OpenAIEmbeddings(model='text-embedding-3-small'),\n",
    "                               collection_metadata={'hnsw:space':'l2'})\n",
    "    return db\n",
    "\n",
    "def RAG(query, question, num_links=5):\n",
    "    db = construct_vector_db(query, num_links)\n",
    "    retriever = db.as_retriever()\n",
    "    rag_chain = (\n",
    "        {\"context\": retriever | format_docs, \"question\": RunnablePassthrough()}\n",
    "        | prompt\n",
    "        | llm\n",
    "        | StrOutputParser()\n",
    "    )\n",
    "    return rag_chain.invoke(question)\n"
   ]
  },
  {
   "cell_type": "code",
   "execution_count": 33,
   "metadata": {
    "id": "RrMOONVl5hRy"
   },
   "outputs": [
    {
     "name": "stdout",
     "output_type": "stream",
     "text": [
      "Requirement already satisfied: gradio in /opt/homebrew/anaconda3/lib/python3.11/site-packages (5.6.0)\n",
      "Requirement already satisfied: aiofiles<24.0,>=22.0 in /opt/homebrew/anaconda3/lib/python3.11/site-packages (from gradio) (23.2.1)\n",
      "Requirement already satisfied: anyio<5.0,>=3.0 in /opt/homebrew/anaconda3/lib/python3.11/site-packages (from gradio) (4.6.0)\n",
      "Requirement already satisfied: fastapi<1.0,>=0.115.2 in /opt/homebrew/anaconda3/lib/python3.11/site-packages (from gradio) (0.115.5)\n",
      "Requirement already satisfied: ffmpy in /opt/homebrew/anaconda3/lib/python3.11/site-packages (from gradio) (0.4.0)\n",
      "Requirement already satisfied: gradio-client==1.4.3 in /opt/homebrew/anaconda3/lib/python3.11/site-packages (from gradio) (1.4.3)\n",
      "Requirement already satisfied: httpx>=0.24.1 in /opt/homebrew/anaconda3/lib/python3.11/site-packages (from gradio) (0.27.2)\n",
      "Requirement already satisfied: huggingface-hub>=0.25.1 in /opt/homebrew/anaconda3/lib/python3.11/site-packages (from gradio) (0.29.1)\n",
      "Requirement already satisfied: jinja2<4.0 in /opt/homebrew/anaconda3/lib/python3.11/site-packages (from gradio) (3.1.5)\n",
      "Collecting markupsafe~=2.0 (from gradio)\n",
      "  Obtaining dependency information for markupsafe~=2.0 from https://files.pythonhosted.org/packages/11/e7/291e55127bb2ae67c64d66cef01432b5933859dfb7d6949daa721b89d0b3/MarkupSafe-2.1.5-cp311-cp311-macosx_10_9_universal2.whl.metadata\n",
      "  Using cached MarkupSafe-2.1.5-cp311-cp311-macosx_10_9_universal2.whl.metadata (3.0 kB)\n",
      "Requirement already satisfied: numpy<3.0,>=1.0 in /opt/homebrew/anaconda3/lib/python3.11/site-packages (from gradio) (1.26.4)\n",
      "Requirement already satisfied: orjson~=3.0 in /opt/homebrew/anaconda3/lib/python3.11/site-packages (from gradio) (3.10.11)\n",
      "Requirement already satisfied: packaging in /opt/homebrew/anaconda3/lib/python3.11/site-packages (from gradio) (24.2)\n",
      "Requirement already satisfied: pandas<3.0,>=1.0 in /opt/homebrew/anaconda3/lib/python3.11/site-packages (from gradio) (2.2.3)\n",
      "Requirement already satisfied: pillow<12.0,>=8.0 in /opt/homebrew/anaconda3/lib/python3.11/site-packages (from gradio) (11.1.0)\n",
      "Requirement already satisfied: pydantic>=2.0 in /opt/homebrew/anaconda3/lib/python3.11/site-packages (from gradio) (2.10.6)\n",
      "Requirement already satisfied: pydub in /opt/homebrew/anaconda3/lib/python3.11/site-packages (from gradio) (0.25.1)\n",
      "Requirement already satisfied: python-multipart==0.0.12 in /opt/homebrew/anaconda3/lib/python3.11/site-packages (from gradio) (0.0.12)\n",
      "Requirement already satisfied: pyyaml<7.0,>=5.0 in /opt/homebrew/anaconda3/lib/python3.11/site-packages (from gradio) (6.0.2)\n",
      "Requirement already satisfied: ruff>=0.2.2 in /opt/homebrew/anaconda3/lib/python3.11/site-packages (from gradio) (0.6.7)\n",
      "Requirement already satisfied: safehttpx<1.0,>=0.1.1 in /opt/homebrew/anaconda3/lib/python3.11/site-packages (from gradio) (0.1.1)\n",
      "Requirement already satisfied: semantic-version~=2.0 in /opt/homebrew/anaconda3/lib/python3.11/site-packages (from gradio) (2.10.0)\n",
      "Requirement already satisfied: starlette<1.0,>=0.40.0 in /opt/homebrew/anaconda3/lib/python3.11/site-packages (from gradio) (0.41.3)\n",
      "Requirement already satisfied: tomlkit==0.12.0 in /opt/homebrew/anaconda3/lib/python3.11/site-packages (from gradio) (0.12.0)\n",
      "Requirement already satisfied: typer<1.0,>=0.12 in /opt/homebrew/anaconda3/lib/python3.11/site-packages (from gradio) (0.15.2)\n",
      "Requirement already satisfied: typing-extensions~=4.0 in /opt/homebrew/anaconda3/lib/python3.11/site-packages (from gradio) (4.12.2)\n",
      "Requirement already satisfied: uvicorn>=0.14.0 in /opt/homebrew/anaconda3/lib/python3.11/site-packages (from gradio) (0.30.6)\n",
      "Requirement already satisfied: fsspec in /opt/homebrew/anaconda3/lib/python3.11/site-packages (from gradio-client==1.4.3->gradio) (2024.3.1)\n",
      "Requirement already satisfied: websockets<13.0,>=10.0 in /opt/homebrew/anaconda3/lib/python3.11/site-packages (from gradio-client==1.4.3->gradio) (12.0)\n",
      "Requirement already satisfied: idna>=2.8 in /opt/homebrew/anaconda3/lib/python3.11/site-packages (from anyio<5.0,>=3.0->gradio) (3.10)\n",
      "Requirement already satisfied: sniffio>=1.1 in /opt/homebrew/anaconda3/lib/python3.11/site-packages (from anyio<5.0,>=3.0->gradio) (1.3.1)\n",
      "Requirement already satisfied: certifi in /opt/homebrew/anaconda3/lib/python3.11/site-packages (from httpx>=0.24.1->gradio) (2025.1.31)\n",
      "Requirement already satisfied: httpcore==1.* in /opt/homebrew/anaconda3/lib/python3.11/site-packages (from httpx>=0.24.1->gradio) (1.0.5)\n",
      "Requirement already satisfied: h11<0.15,>=0.13 in /opt/homebrew/anaconda3/lib/python3.11/site-packages (from httpcore==1.*->httpx>=0.24.1->gradio) (0.14.0)\n",
      "Requirement already satisfied: filelock in /opt/homebrew/anaconda3/lib/python3.11/site-packages (from huggingface-hub>=0.25.1->gradio) (3.16.1)\n",
      "Requirement already satisfied: requests in /opt/homebrew/anaconda3/lib/python3.11/site-packages (from huggingface-hub>=0.25.1->gradio) (2.32.3)\n",
      "Requirement already satisfied: tqdm>=4.42.1 in /opt/homebrew/anaconda3/lib/python3.11/site-packages (from huggingface-hub>=0.25.1->gradio) (4.66.5)\n",
      "Requirement already satisfied: python-dateutil>=2.8.2 in /opt/homebrew/anaconda3/lib/python3.11/site-packages (from pandas<3.0,>=1.0->gradio) (2.9.0.post0)\n",
      "Requirement already satisfied: pytz>=2020.1 in /opt/homebrew/anaconda3/lib/python3.11/site-packages (from pandas<3.0,>=1.0->gradio) (2025.1)\n",
      "Requirement already satisfied: tzdata>=2022.7 in /opt/homebrew/anaconda3/lib/python3.11/site-packages (from pandas<3.0,>=1.0->gradio) (2025.1)\n",
      "Requirement already satisfied: annotated-types>=0.6.0 in /opt/homebrew/anaconda3/lib/python3.11/site-packages (from pydantic>=2.0->gradio) (0.7.0)\n",
      "Requirement already satisfied: pydantic-core==2.27.2 in /opt/homebrew/anaconda3/lib/python3.11/site-packages (from pydantic>=2.0->gradio) (2.27.2)\n",
      "Requirement already satisfied: click>=8.0.0 in /opt/homebrew/anaconda3/lib/python3.11/site-packages (from typer<1.0,>=0.12->gradio) (8.1.8)\n",
      "Requirement already satisfied: shellingham>=1.3.0 in /opt/homebrew/anaconda3/lib/python3.11/site-packages (from typer<1.0,>=0.12->gradio) (1.5.4)\n",
      "Requirement already satisfied: rich>=10.11.0 in /opt/homebrew/anaconda3/lib/python3.11/site-packages (from typer<1.0,>=0.12->gradio) (13.9.4)\n",
      "Requirement already satisfied: six>=1.5 in /opt/homebrew/anaconda3/lib/python3.11/site-packages (from python-dateutil>=2.8.2->pandas<3.0,>=1.0->gradio) (1.17.0)\n",
      "Requirement already satisfied: markdown-it-py>=2.2.0 in /opt/homebrew/anaconda3/lib/python3.11/site-packages (from rich>=10.11.0->typer<1.0,>=0.12->gradio) (3.0.0)\n",
      "Requirement already satisfied: pygments<3.0.0,>=2.13.0 in /opt/homebrew/anaconda3/lib/python3.11/site-packages (from rich>=10.11.0->typer<1.0,>=0.12->gradio) (2.19.1)\n",
      "Requirement already satisfied: charset-normalizer<4,>=2 in /opt/homebrew/anaconda3/lib/python3.11/site-packages (from requests->huggingface-hub>=0.25.1->gradio) (3.4.1)\n",
      "Requirement already satisfied: urllib3<3,>=1.21.1 in /opt/homebrew/anaconda3/lib/python3.11/site-packages (from requests->huggingface-hub>=0.25.1->gradio) (2.3.0)\n",
      "Requirement already satisfied: mdurl~=0.1 in /opt/homebrew/anaconda3/lib/python3.11/site-packages (from markdown-it-py>=2.2.0->rich>=10.11.0->typer<1.0,>=0.12->gradio) (0.1.2)\n",
      "Using cached MarkupSafe-2.1.5-cp311-cp311-macosx_10_9_universal2.whl (18 kB)\n",
      "Installing collected packages: markupsafe\n",
      "  Attempting uninstall: markupsafe\n",
      "    Found existing installation: MarkupSafe 3.0.2\n",
      "    Uninstalling MarkupSafe-3.0.2:\n",
      "      Successfully uninstalled MarkupSafe-3.0.2\n",
      "\u001b[31mERROR: pip's dependency resolver does not currently take into account all the packages that are installed. This behaviour is the source of the following dependency conflicts.\n",
      "langflow 1.0.18 requires certifi<2025.0.0,>=2023.11.17, but you have certifi 2025.1.31 which is incompatible.\n",
      "langflow 1.0.18 requires chromadb<0.5,>=0.4, but you have chromadb 0.5.3 which is incompatible.\n",
      "langflow 1.0.18 requires crewai[tools]<0.37.0,>=0.36.0, but you have crewai 0.28.8 which is incompatible.\n",
      "langflow 1.0.18 requires huggingface-hub[inference]<0.24.0,>=0.23.2, but you have huggingface-hub 0.29.1 which is incompatible.\n",
      "langflow 1.0.18 requires langchain-chroma<0.2.0,>=0.1.1, but you have langchain-chroma 0.2.2 which is incompatible.\n",
      "langflow 1.0.18 requires langchain-groq==0.1.9, but you have langchain-groq 0.1.5 which is incompatible.\n",
      "langflow 1.0.18 requires langchain-openai==0.1.22, but you have langchain-openai 0.3.7 which is incompatible.\n",
      "langflow 1.0.18 requires pyarrow<15.0.0,>=14.0.0, but you have pyarrow 19.0.1 which is incompatible.\n",
      "flagembedding 1.3.2 requires datasets==2.19.0, but you have datasets 3.3.2 which is incompatible.\n",
      "flagembedding 1.3.2 requires transformers==4.44.2, but you have transformers 4.49.0 which is incompatible.\u001b[0m\u001b[31m\n",
      "\u001b[0mSuccessfully installed markupsafe-2.1.5\n"
     ]
    }
   ],
   "source": [
    "!pip install gradio"
   ]
  },
  {
   "cell_type": "code",
   "execution_count": 34,
   "metadata": {
    "id": "kuXuBCqI5Jhy"
   },
   "outputs": [
    {
     "name": "stdout",
     "output_type": "stream",
     "text": [
      "* Running on local URL:  http://127.0.0.1:7860\n",
      "\n",
      "To create a public link, set `share=True` in `launch()`.\n"
     ]
    },
    {
     "data": {
      "text/html": [
       "<div><iframe src=\"http://127.0.0.1:7860/\" width=\"100%\" height=\"500\" allow=\"autoplay; camera; microphone; clipboard-read; clipboard-write;\" frameborder=\"0\" allowfullscreen></iframe></div>"
      ],
      "text/plain": [
       "<IPython.core.display.HTML object>"
      ]
     },
     "metadata": {},
     "output_type": "display_data"
    },
    {
     "data": {
      "text/plain": []
     },
     "execution_count": 34,
     "metadata": {},
     "output_type": "execute_result"
    }
   ],
   "source": [
    "import gradio as gr\n",
    "\n",
    "def gradio_rag_interface(query, question, num_links):\n",
    "    try:\n",
    "        response = RAG(query, question, num_links)\n",
    "        return response\n",
    "    except Exception as e:\n",
    "        return f\"에러 발생: {str(e)}\"\n",
    "\n",
    "with gr.Blocks() as demo:\n",
    "    gr.Markdown(\"# 🔍 네이버 뉴스용 검색 증강 생성(RAG)\")\n",
    "    gr.Markdown(\n",
    "        \"\"\"\n",
    "        네이버 뉴스와 관련된 쿼리를 입력하면, 시스템이 관련 기사를 검색,\n",
    "        처리하고 검색된 정보를 기반으로 종합적인 답변을 생성합니다.\n",
    "        \"\"\"\n",
    "    )\n",
    "\n",
    "    with gr.Row():\n",
    "        query_input = gr.Textbox(\n",
    "            label=\"📄 쿼리 입력\",\n",
    "            placeholder=\"예: 최신 AI 기술 발전\",\n",
    "            lines=2\n",
    "        )\n",
    "        num_links_input = gr.Slider(\n",
    "            minimum=1,\n",
    "            maximum=20,\n",
    "            step=1,\n",
    "            value=5,\n",
    "            label=\"🔗 뉴스 링크 수\",\n",
    "            info=\"검색 및 처리할 뉴스 기사의 수를 선택하세요.\"\n",
    "        )\n",
    "        question_input = gr.Textbox(\n",
    "            label=\"❓ 질문 입력\",\n",
    "            placeholder=\"예: 퓨리오사 AI는 어떤 일을 했나요?\",\n",
    "            lines=2\n",
    "        )\n",
    "\n",
    "    submit_button = gr.Button(\"✅ 답변 생성\")\n",
    "\n",
    "    output_box = gr.Textbox(\n",
    "        label=\"📝 생성된 답변\",\n",
    "        placeholder=\"답변이 여기에 표시됩니다...\",\n",
    "        lines=10\n",
    "    )\n",
    "\n",
    "    # 버튼 클릭 이벤트 정의\n",
    "    submit_button.click(\n",
    "        fn=gradio_rag_interface,\n",
    "        inputs=[query_input, question_input, num_links_input],\n",
    "        outputs=output_box\n",
    "    )\n",
    "\n",
    "    gr.Markdown(\n",
    "        \"\"\"\n",
    "        ---\n",
    "        [Gradio](https://gradio.app/) 및 OpenAI의 GPT 모델을 사용하여 제작되었습니다.\n",
    "        \"\"\"\n",
    "    )\n",
    "\n",
    "\n",
    "demo.launch(server_name=\"0.0.0.0\", server_port=8080)"
   ]
  },
  {
   "cell_type": "code",
   "execution_count": null,
   "metadata": {
    "id": "Wf7wvrM86Mvx"
   },
   "outputs": [],
   "source": []
  }
 ],
 "metadata": {
  "colab": {
   "provenance": []
  },
  "kernelspec": {
   "display_name": "llm",
   "language": "python",
   "name": "python3"
  },
  "language_info": {
   "codemirror_mode": {
    "name": "ipython",
    "version": 3
   },
   "file_extension": ".py",
   "mimetype": "text/x-python",
   "name": "python",
   "nbconvert_exporter": "python",
   "pygments_lexer": "ipython3",
   "version": "3.10.12"
  }
 },
 "nbformat": 4,
 "nbformat_minor": 0
}
