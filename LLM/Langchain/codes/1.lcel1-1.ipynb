{
 "cells": [
  {
   "cell_type": "code",
   "execution_count": 2,
   "metadata": {},
   "outputs": [
    {
     "name": "stdout",
     "output_type": "stream",
     "text": [
      "2\n"
     ]
    }
   ],
   "source": [
    "# count_words 함수 정의\n",
    "def count_words(text):\n",
    "    return len(text.split())\n",
    "\n",
    "# 간단한 LCEL 환경을 정의하는 딕셔너리\n",
    "lcel_env = {\n",
    "    \"count_words\": count_words\n",
    "}\n",
    "\n",
    "# LCEL 명령어를 파이썬 코드로 실행하는 방식(텍스트 형식으로 함수를 전달)\n",
    "expression = 'count_words(\"Hello, World!\")'\n",
    "result = eval(expression, {}, lcel_env) # 전역 변수를 {}로 설정, lcel_env를 지역 변수로 설정 ({} 안써도 돌아는 감)\n",
    "\n",
    "print(result)  # 출력: 2"
   ]
  },
  {
   "cell_type": "markdown",
   "metadata": {},
   "source": [
    "{}를 사용하면:\n",
    "\n",
    "eval()이 기본적인 내장 함수(print, len 등)조차 접근할 수 없게 됨.  \n",
    "기본 전역 변수를 완전히 차단하여 보안성을 높이는 효과가 있음."
   ]
  }
 ],
 "metadata": {
  "kernelspec": {
   "display_name": "Python 3",
   "language": "python",
   "name": "python3"
  },
  "language_info": {
   "codemirror_mode": {
    "name": "ipython",
    "version": 3
   },
   "file_extension": ".py",
   "mimetype": "text/x-python",
   "name": "python",
   "nbconvert_exporter": "python",
   "pygments_lexer": "ipython3",
   "version": "3.10.12"
  }
 },
 "nbformat": 4,
 "nbformat_minor": 2
}
