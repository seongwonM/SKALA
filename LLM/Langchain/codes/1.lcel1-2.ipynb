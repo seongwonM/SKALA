{
 "cells": [
  {
   "cell_type": "code",
   "execution_count": 1,
   "metadata": {},
   "outputs": [
    {
     "name": "stdout",
     "output_type": "stream",
     "text": [
      "Hello, World, and how are you?\n"
     ]
    }
   ],
   "source": [
    "# 문장 2개를 특정 조건으로 결합하는 함수 정의\n",
    "# join_sentences_lcel 함수 정의(첫 번째 문장에서 마지막 글자를 제외하고 두 문장을 , and로 합침)\n",
    "def join_sentences_lcel(sentence1, sentence2):\n",
    "    return f\"{sentence1[:-1]}, and {sentence2.lower()}\"\n",
    "\n",
    "# 예시 문장\n",
    "sentence1 = \"Hello, World!\" # 첫 번째 문장\n",
    "sentence2 = \"How are you?\" # 두 번째 문장\n",
    "lcel_output = join_sentences_lcel(sentence1, sentence2)\n",
    "\n",
    "# 결과 출력\n",
    "print(lcel_output)\n"
   ]
  }
 ],
 "metadata": {
  "kernelspec": {
   "display_name": "Python 3",
   "language": "python",
   "name": "python3"
  },
  "language_info": {
   "codemirror_mode": {
    "name": "ipython",
    "version": 3
   },
   "file_extension": ".py",
   "mimetype": "text/x-python",
   "name": "python",
   "nbconvert_exporter": "python",
   "pygments_lexer": "ipython3",
   "version": "3.10.12"
  }
 },
 "nbformat": 4,
 "nbformat_minor": 2
}
