{
 "cells": [
  {
   "cell_type": "code",
   "execution_count": 5,
   "metadata": {},
   "outputs": [
    {
     "name": "stdout",
     "output_type": "stream",
     "text": [
      "[Transformation: lowercase] Hello, World! -> hello, world!\n"
     ]
    }
   ],
   "source": [
    "def convert_word_lcel(text, mode):\n",
    "    if mode == \"lowercase\": # 모든 글자를 소문자로\n",
    "        transformed_text = text.lower()\n",
    "    elif mode == \"uppercase\": # 모든 글자를 대문자로\n",
    "        transformed_text = text.upper()\n",
    "    elif mode == \"capitalize\": # 첫글자 대문자로\n",
    "        transformed_text = text.capitalize()\n",
    "    else: # 변환 x\n",
    "        transformed_text = text  # 기본 케이스 (그대로 출력)\n",
    "\n",
    "    return f\"[Transformation: {mode}] {text} -> {transformed_text}\" # 텍스트 형식으로 반환\n",
    "\n",
    "# 예시\n",
    "text = \"Hello, World!\"\n",
    "mode = \"lowercase\"\n",
    "lcel_output = convert_word_lcel(text, mode)\n",
    "\n",
    "# 결과 출력\n",
    "print(lcel_output)\n"
   ]
  },
  {
   "cell_type": "code",
   "execution_count": null,
   "metadata": {},
   "outputs": [],
   "source": []
  }
 ],
 "metadata": {
  "kernelspec": {
   "display_name": "Python 3",
   "language": "python",
   "name": "python3"
  },
  "language_info": {
   "codemirror_mode": {
    "name": "ipython",
    "version": 3
   },
   "file_extension": ".py",
   "mimetype": "text/x-python",
   "name": "python",
   "nbconvert_exporter": "python",
   "pygments_lexer": "ipython3",
   "version": "3.10.12"
  }
 },
 "nbformat": 4,
 "nbformat_minor": 2
}
