{
 "cells": [
  {
   "cell_type": "code",
   "execution_count": 1,
   "metadata": {},
   "outputs": [
    {
     "name": "stdout",
     "output_type": "stream",
     "text": [
      "100~300까지의 정수 중 5의 배수의 합계: 8200\n"
     ]
    }
   ],
   "source": [
    "n1 = int(input('첫 수를 입력하세요:'))\n",
    "n2 = int(input('끝 수를 입력하세요:'))\n",
    "\n",
    "n = int(input('합게를 구하고자 하는 배수를 입력하세요:'))\n",
    "\n",
    "sum = 0\n",
    "i = n1\n",
    "\n",
    "while i < n2 + 1:\n",
    "    if i%n == 0:\n",
    "        sum += i\n",
    "\n",
    "    i+=1\n",
    "\n",
    "print(f'{n1}~{n2}까지의 정수 중 {n}의 배수의 합계: {sum}')"
   ]
  },
  {
   "cell_type": "code",
   "execution_count": 3,
   "metadata": {},
   "outputs": [
    {
     "name": "stdout",
     "output_type": "stream",
     "text": [
      "2\n",
      "[10, 20, 40, 50, 60, 70, 80, 90, 100]\n",
      "[]\n"
     ]
    }
   ],
   "source": [
    " a = [10, 20, 30, 40, 50, 60, 70, 80, 90, 100]\n",
    "\n",
    " x = a.index(30)\n",
    "\n",
    " print(x)\n",
    "\n",
    " a.pop(x)\n",
    " print(a)\n",
    "\n",
    " a.clear()\n",
    "\n",
    " print(a)"
   ]
  },
  {
   "cell_type": "code",
   "execution_count": null,
   "metadata": {},
   "outputs": [],
   "source": []
  }
 ],
 "metadata": {
  "kernelspec": {
   "display_name": "Python 3",
   "language": "python",
   "name": "python3"
  },
  "language_info": {
   "codemirror_mode": {
    "name": "ipython",
    "version": 3
   },
   "file_extension": ".py",
   "mimetype": "text/x-python",
   "name": "python",
   "nbconvert_exporter": "python",
   "pygments_lexer": "ipython3",
   "version": "3.10.12"
  }
 },
 "nbformat": 4,
 "nbformat_minor": 2
}
